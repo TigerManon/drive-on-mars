{
 "cells": [
  {
   "cell_type": "markdown",
   "id": "f6b642a3",
   "metadata": {},
   "source": [
    "# Colab Toy Model Test Workflow"
   ]
  },
  {
   "cell_type": "code",
   "execution_count": 2,
   "id": "47b46006",
   "metadata": {},
   "outputs": [
    {
     "name": "stderr",
     "output_type": "stream",
     "text": [
      "2023-12-12 11:27:43.025262: I tensorflow/core/platform/cpu_feature_guard.cc:193] This TensorFlow binary is optimized with oneAPI Deep Neural Network Library (oneDNN) to use the following CPU instructions in performance-critical operations:  AVX2 AVX512F AVX512_VNNI FMA\n",
      "To enable them in other operations, rebuild TensorFlow with the appropriate compiler flags.\n",
      "2023-12-12 11:27:44.428042: I tensorflow/core/util/util.cc:169] oneDNN custom operations are on. You may see slightly different numerical results due to floating-point round-off errors from different computation orders. To turn them off, set the environment variable `TF_ENABLE_ONEDNN_OPTS=0`.\n",
      "2023-12-12 11:27:44.678586: W tensorflow/stream_executor/platform/default/dso_loader.cc:64] Could not load dynamic library 'libcudart.so.11.0'; dlerror: libcudart.so.11.0: cannot open shared object file: No such file or directory; LD_LIBRARY_PATH: /home/gargantua/.pyenv/versions/3.10.6/envs/lewagon/lib/python3.10/site-packages/cv2/../../lib64:\n",
      "2023-12-12 11:27:44.678631: I tensorflow/stream_executor/cuda/cudart_stub.cc:29] Ignore above cudart dlerror if you do not have a GPU set up on your machine.\n",
      "2023-12-12 11:27:44.926390: E tensorflow/stream_executor/cuda/cuda_blas.cc:2981] Unable to register cuBLAS factory: Attempting to register factory for plugin cuBLAS when one has already been registered\n",
      "2023-12-12 11:27:47.404912: W tensorflow/stream_executor/platform/default/dso_loader.cc:64] Could not load dynamic library 'libnvinfer.so.7'; dlerror: libnvinfer.so.7: cannot open shared object file: No such file or directory; LD_LIBRARY_PATH: /home/gargantua/.pyenv/versions/3.10.6/envs/lewagon/lib/python3.10/site-packages/cv2/../../lib64:\n",
      "2023-12-12 11:27:47.405087: W tensorflow/stream_executor/platform/default/dso_loader.cc:64] Could not load dynamic library 'libnvinfer_plugin.so.7'; dlerror: libnvinfer_plugin.so.7: cannot open shared object file: No such file or directory; LD_LIBRARY_PATH: /home/gargantua/.pyenv/versions/3.10.6/envs/lewagon/lib/python3.10/site-packages/cv2/../../lib64:\n",
      "2023-12-12 11:27:47.405093: W tensorflow/compiler/tf2tensorrt/utils/py_utils.cc:38] TF-TRT Warning: Cannot dlopen some TensorRT libraries. If you would like to use Nvidia GPU with TensorRT, please make sure the missing libraries mentioned above are installed properly.\n"
     ]
    },
    {
     "name": "stdout",
     "output_type": "stream",
     "text": [
      "Segmentation Models: using `keras` framework.\n"
     ]
    }
   ],
   "source": [
    "import math\n",
    "import os\n",
    "from random import shuffle\n",
    "import glob\n",
    "import random \n",
    "import pandas as pd\n",
    "import numpy as np\n",
    "\n",
    "import cv2\n",
    "import keras\n",
    "\n",
    "from PIL import Image\n",
    "from matplotlib import pyplot as plt\n",
    "from skimage.io import imshow\n",
    "from PIL import Image\n",
    "\n",
    "from tensorflow.keras.utils import normalize\n",
    "from sklearn.preprocessing import MinMaxScaler, StandardScaler\n",
    "from tensorflow.keras.utils import to_categorical\n",
    "\n",
    "\n",
    "import segmentation_models as sm\n",
    "\n",
    "import tensorflow as tf\n",
    "\n",
    "from tensorflow.keras import callbacks\n",
    "from sklearn.model_selection import train_test_split\n",
    "\n",
    "\n",
    "from tensorflow.keras.applications.resnet50 import preprocess_input\n",
    "\n",
    "\n",
    "# Segmentation Models\n",
    "import segmentation_models as sm\n",
    "from segmentation_models import Unet\n",
    "from segmentation_models import get_preprocessing\n",
    "from segmentation_models.losses import bce_jaccard_loss\n",
    "from segmentation_models.metrics import iou_score\n",
    "from tensorflow.keras.metrics import MeanIoU\n",
    "\n",
    "from tensorflow.keras.models import Model\n",
    "from tensorflow.keras import layers\n",
    "\n",
    "from tensorflow.keras.layers import Input, Conv2D, MaxPooling2D, UpSampling2D, concatenate, Conv2DTranspose, BatchNormalization, Dropout, Lambda\n",
    "from tensorflow.keras import backend as K\n"
   ]
  },
  {
   "cell_type": "markdown",
   "id": "7495b4e2",
   "metadata": {},
   "source": [
    "## Data loading "
   ]
  },
  {
   "cell_type": "code",
   "execution_count": 4,
   "id": "de881c12",
   "metadata": {},
   "outputs": [],
   "source": [
    "# image and label directories paths\n",
    "image_folder = \"/home/gargantua/code/TigerManon/08-Palette/ai4mars-dataset-merged-0.1/msl/images/edr\"\n",
    "label_folder = \"/home/gargantua/code/TigerManon/08-Palette/ai4mars-dataset-merged-0.1/msl/labels/train\""
   ]
  },
  {
   "cell_type": "code",
   "execution_count": 3,
   "id": "8690a794",
   "metadata": {
    "collapsed": true
   },
   "outputs": [],
   "source": [
    "#Image.open(\"/home/gargantua/code/TigerManon/08-Palette/ai4mars-dataset-merged-0.1/msl/images/edr/NLA_397681372EDR_F0020000AUT_04096M1.JPG\")\n"
   ]
  },
  {
   "cell_type": "markdown",
   "id": "68a607f6",
   "metadata": {},
   "source": [
    "### Random visualization of overlapped image and label"
   ]
  },
  {
   "cell_type": "code",
   "execution_count": 5,
   "id": "245b23e7",
   "metadata": {},
   "outputs": [
    {
     "name": "stdout",
     "output_type": "stream",
     "text": [
      "(100, 256, 256, 3) (100, 256, 256)\n"
     ]
    }
   ],
   "source": [
    "\n",
    "edr_files = os.listdir(image_folder)\n",
    "trlab_files = os.listdir(label_folder)\n",
    "\n",
    "X = []\n",
    "y = []\n",
    "c = 0\n",
    "\n",
    "# preparing X and y\n",
    "for lab_name in trlab_files:\n",
    "    img_name = lab_name[:-4] + \".JPG\"\n",
    "    \n",
    "    if img_name in edr_files:\n",
    "        \n",
    "        img_path = os.path.join(image_folder, img_name)\n",
    "        img_arr = cv2.imread(img_path)\n",
    "        img_arr = cv2.resize(img_arr, dsize = (256, 256))\n",
    "        \n",
    "        lab_path = os.path.join(label_folder, lab_name)\n",
    "        lab_arr = cv2.imread(lab_path, 0)\n",
    "        lab_arr = cv2.resize(lab_arr, (256, 256), interpolation = cv2.INTER_NEAREST)\n",
    "        \n",
    "        X.append(img_arr)\n",
    "        y.append(lab_arr)\n",
    "        \n",
    "    c += 1\n",
    "    if c >= 100:\n",
    "        break\n",
    "        \n",
    "X = np.asarray(X, dtype = np.float32) / 255.0\n",
    "y = np.array(y, dtype = np.uint8)\n",
    "\n",
    "# 0 - soil\n",
    "# 1 - bedrock\n",
    "# 2 - sand\n",
    "# 3 - big rock\n",
    "# 255 -> 4 - NULL (no label)\n",
    "\n",
    "\n",
    "# keeping integer values in labels will help us in segmentation task (UNet)\n",
    "y[y==255] = 4\n",
    "\n",
    "print(X.shape, y.shape)\n"
   ]
  },
  {
   "cell_type": "code",
   "execution_count": 5,
   "id": "7e5e9459",
   "metadata": {
    "collapsed": true
   },
   "outputs": [
    {
     "data": {
      "text/plain": [
       "'\\nn = random.randint(0, len(X))\\nprint(np.unique(y[n]))\\n\\nplt.figure(figsize = (10, 10))\\n\\nplt.imshow(X[n])\\nplt.imshow(y[n], alpha = 0.1)\\n\\nplt.show()\\n'"
      ]
     },
     "execution_count": 5,
     "metadata": {},
     "output_type": "execute_result"
    }
   ],
   "source": [
    "\"\"\"\n",
    "n = random.randint(0, len(X))\n",
    "print(np.unique(y[n]))\n",
    "\n",
    "plt.figure(figsize = (10, 10))\n",
    "\n",
    "plt.imshow(X[n])\n",
    "plt.imshow(y[n], alpha = 0.1)\n",
    "\n",
    "plt.show()\n",
    "\"\"\""
   ]
  },
  {
   "cell_type": "code",
   "execution_count": 10,
   "id": "b6c4c0f1",
   "metadata": {},
   "outputs": [
    {
     "data": {
      "text/plain": [
       "array([[4, 4, 4, ..., 4, 4, 4],\n",
       "       [4, 4, 2, ..., 2, 2, 4],\n",
       "       [4, 2, 2, ..., 2, 2, 4],\n",
       "       ...,\n",
       "       [4, 4, 2, ..., 2, 2, 4],\n",
       "       [4, 4, 2, ..., 2, 2, 4],\n",
       "       [4, 4, 4, ..., 2, 2, 4]], dtype=uint8)"
      ]
     },
     "execution_count": 10,
     "metadata": {},
     "output_type": "execute_result"
    }
   ],
   "source": [
    "y[98]"
   ]
  },
  {
   "cell_type": "code",
   "execution_count": 7,
   "id": "f907c8b2",
   "metadata": {
    "collapsed": true
   },
   "outputs": [],
   "source": [
    "#print(np.unique(y[255]))"
   ]
  },
  {
   "cell_type": "code",
   "execution_count": 8,
   "id": "34d8622a",
   "metadata": {
    "collapsed": true
   },
   "outputs": [],
   "source": [
    "# The 3 channels of each image are the same\n",
    "#print(X[0][:,:,0])"
   ]
  },
  {
   "cell_type": "code",
   "execution_count": 9,
   "id": "0ccc39bc",
   "metadata": {
    "collapsed": true
   },
   "outputs": [],
   "source": [
    "#print(X[0][:,:,1])"
   ]
  },
  {
   "cell_type": "code",
   "execution_count": 10,
   "id": "f8537d1e",
   "metadata": {
    "collapsed": true
   },
   "outputs": [],
   "source": [
    "#print(X[0][:,:,2])"
   ]
  },
  {
   "cell_type": "markdown",
   "id": "4bc29ba3",
   "metadata": {},
   "source": [
    "### Build a customized data generator"
   ]
  },
  {
   "cell_type": "code",
   "execution_count": 30,
   "id": "7ae646f2",
   "metadata": {},
   "outputs": [],
   "source": [
    "# image and label directories paths\n",
    "#dataset_path = \"/home/gargantua/code/TigerManon/08-Palette/ai4mars-dataset-merged-0.1/msl\"\n",
    "image_folder = \"/home/gargantua/code/TigerManon/08-Palette/ai4mars-dataset-merged-0.1/msl/images/edr\"\n",
    "label_folder = \"/home/gargantua/code/TigerManon/08-Palette/ai4mars-dataset-merged-0.1/msl/labels/train\"\n"
   ]
  },
  {
   "cell_type": "code",
   "execution_count": 12,
   "id": "d2643e40",
   "metadata": {},
   "outputs": [],
   "source": [
    "#img_names = sorted(os.listdir(image_folder))\n",
    "#lab_names = sorted(os.listdir(label_folder))"
   ]
  },
  {
   "cell_type": "code",
   "execution_count": 13,
   "id": "2713d10e",
   "metadata": {},
   "outputs": [
    {
     "data": {
      "text/plain": [
       "'NLA_397586928EDR_F0010008AUT_04096M1.JPG'"
      ]
     },
     "execution_count": 13,
     "metadata": {},
     "output_type": "execute_result"
    }
   ],
   "source": [
    "#img_names[0]"
   ]
  },
  {
   "cell_type": "code",
   "execution_count": 14,
   "id": "37c50f82",
   "metadata": {},
   "outputs": [
    {
     "data": {
      "text/plain": [
       "'NLA_397681339EDR_F0020000AUT_04096M1.png'"
      ]
     },
     "execution_count": 14,
     "metadata": {},
     "output_type": "execute_result"
    }
   ],
   "source": [
    "#lab_names[1]"
   ]
  },
  {
   "cell_type": "code",
   "execution_count": 7,
   "id": "7cfcc670",
   "metadata": {},
   "outputs": [],
   "source": [
    "\"\"\"\n",
    "# Define a customized data generator\n",
    "class UnetDataGenerator(keras.utils.Sequence):\n",
    "    def __init__(self, image_folder, label_folder, input_shape, batch_size, num_classes, subfolder, split_percent):\n",
    "        self.image_folder       = image_folder\n",
    "        self.label_folder       = label_folder\n",
    "        self.input_shape        = input_shape\n",
    "        self.batch_size         = batch_size\n",
    "        self.num_classes        = num_classes\n",
    "        self.subfolder          = subfolder\n",
    "        self.split_percent      = split_percent\n",
    "        self.path_df            = self.make_df()\n",
    "        self.split_df()\n",
    "\n",
    "    def __len__(self):\n",
    "        print(\"Length of generator:\", len(self.path_df))\n",
    "        return math.ceil(len(self.path_df) / float(self.batch_size))\n",
    "    \n",
    "    def make_df(self):      \n",
    "        img_list = [f for f in os.listdir(self.image_folder) if f.endswith('.JPG')]\n",
    "        lab_list = [f for f in os.listdir(self.label_folder) if f.endswith('.png')]\n",
    "        \n",
    "        path_df = pd.DataFrame(columns=[\"image_path\",\"label_path\"])\n",
    "        \n",
    "        for label_name in lab_list:\n",
    "            image_name = label_name.replace('.png', '.JPG')\n",
    "            if image_name in img_list:\n",
    "                path_df = path_df.append({\n",
    "                    \"image_path\": os.path.join(self.image_folder, image_name),\n",
    "                    \"label_path\": os.path.join(self.label_folder, label_name)\n",
    "                }, ignore_index=True)\n",
    "        return path_df\n",
    "    \n",
    "   \n",
    "    \n",
    "    def split_df(self):\n",
    "        if self.subfolder == \"train\":\n",
    "            self.path_df = self.path_df.iloc[:int(len(self.path_df) * self.split_percent)]\n",
    "        elif self.subfolder == \"val\":\n",
    "            self.path_df = self.path_df.iloc[int(len(self.path_df) * self.split_percent):]\n",
    "    \n",
    "    \n",
    "    def __getitem__(self, index):\n",
    "        input_images  = []\n",
    "        output_targets = []\n",
    "\n",
    "        #-------------------------------#\n",
    "        #   Calculate start indice and end indice of the batch\n",
    "        #-------------------------------#  \n",
    "        start = index * self.batch_size\n",
    "        end = min((index + 1) * self.batch_size, len(self.path_df)) # Make sure that we can load all the data of the last batch\n",
    "\n",
    "        for i in range(start, end):  \n",
    "            \n",
    "            #-------------------------------#\n",
    "            #   Get image path and label path of each batch from path_df\n",
    "            #-------------------------------#                     \n",
    "            jpg = self.path_df.iloc[i][\"image_path\"]\n",
    "            png = self.path_df.iloc[i][\"label_path\"]\n",
    "                \n",
    "            #-------------------------------#\n",
    "            #   Transform images and labels to numpy array, resize them\n",
    "            #   Set the background label to 4\n",
    "            #-------------------------------#\n",
    "\n",
    "            jpg = cv2.imread(jpg)           \n",
    "            png = cv2.imread(png,0)\n",
    "                \n",
    "            jpg = cv2.resize(jpg, dsize = (int(self.input_shape[0]), int(self.input_shape[1])))\n",
    "            png = cv2.resize(png, dsize = (int(self.input_shape[0]), int(self.input_shape[1])), \n",
    "                                      interpolation = cv2.INTER_NEAREST)\n",
    "\n",
    "            png[png == 255] = 4\n",
    "\n",
    "            #-------------------------------------------------------#\n",
    "            #   One hot encode the labels\n",
    "            #-------------------------------------------------------#\n",
    "                \n",
    "            seg_labels = np.eye(self.num_classes)[png.reshape([-1])]                \n",
    "            seg_labels = seg_labels.reshape((int(self.input_shape[0]), int(self.input_shape[1]), self.num_classes))\n",
    "\n",
    "            input_images.append(jpg)\n",
    "            output_targets.append(seg_labels)\n",
    "\n",
    "        input_images = np.asarray(input_images)\n",
    "        output_targets = np.array(output_targets)\n",
    "\n",
    "        \n",
    "        return input_images, output_targets\n",
    "\"\"\""
   ]
  },
  {
   "cell_type": "code",
   "execution_count": null,
   "id": "9d1283bd",
   "metadata": {
    "scrolled": true
   },
   "outputs": [
    {
     "name": "stdout",
     "output_type": "stream",
     "text": [
      "> \u001b[0;32m/tmp/ipykernel_1069/2466099226.py\u001b[0m(22)\u001b[0;36mUnetDataGenerator\u001b[0;34m()\u001b[0m\n",
      "\u001b[0;32m     20 \u001b[0;31m    \u001b[0mpdb\u001b[0m\u001b[0;34m.\u001b[0m\u001b[0mset_trace\u001b[0m\u001b[0;34m(\u001b[0m\u001b[0;34m)\u001b[0m\u001b[0;34m\u001b[0m\u001b[0;34m\u001b[0m\u001b[0m\n",
      "\u001b[0m\u001b[0;32m     21 \u001b[0;31m\u001b[0;34m\u001b[0m\u001b[0m\n",
      "\u001b[0m\u001b[0;32m---> 22 \u001b[0;31m    \u001b[0;32mdef\u001b[0m \u001b[0mmake_df\u001b[0m\u001b[0;34m(\u001b[0m\u001b[0mself\u001b[0m\u001b[0;34m)\u001b[0m\u001b[0;34m:\u001b[0m\u001b[0;34m\u001b[0m\u001b[0;34m\u001b[0m\u001b[0m\n",
      "\u001b[0m\u001b[0;32m     23 \u001b[0;31m        \u001b[0mimg_list\u001b[0m \u001b[0;34m=\u001b[0m \u001b[0;34m[\u001b[0m\u001b[0mf\u001b[0m \u001b[0;32mfor\u001b[0m \u001b[0mf\u001b[0m \u001b[0;32min\u001b[0m \u001b[0mos\u001b[0m\u001b[0;34m.\u001b[0m\u001b[0mlistdir\u001b[0m\u001b[0;34m(\u001b[0m\u001b[0mself\u001b[0m\u001b[0;34m.\u001b[0m\u001b[0mimage_folder\u001b[0m\u001b[0;34m)\u001b[0m \u001b[0;32mif\u001b[0m \u001b[0mf\u001b[0m\u001b[0;34m.\u001b[0m\u001b[0mendswith\u001b[0m\u001b[0;34m(\u001b[0m\u001b[0;34m'.JPG'\u001b[0m\u001b[0;34m)\u001b[0m\u001b[0;34m]\u001b[0m\u001b[0;34m\u001b[0m\u001b[0;34m\u001b[0m\u001b[0m\n",
      "\u001b[0m\u001b[0;32m     24 \u001b[0;31m        \u001b[0mlab_list\u001b[0m \u001b[0;34m=\u001b[0m \u001b[0;34m[\u001b[0m\u001b[0mf\u001b[0m \u001b[0;32mfor\u001b[0m \u001b[0mf\u001b[0m \u001b[0;32min\u001b[0m \u001b[0mos\u001b[0m\u001b[0;34m.\u001b[0m\u001b[0mlistdir\u001b[0m\u001b[0;34m(\u001b[0m\u001b[0mself\u001b[0m\u001b[0;34m.\u001b[0m\u001b[0mlabel_folder\u001b[0m\u001b[0;34m)\u001b[0m \u001b[0;32mif\u001b[0m \u001b[0mf\u001b[0m\u001b[0;34m.\u001b[0m\u001b[0mendswith\u001b[0m\u001b[0;34m(\u001b[0m\u001b[0;34m'.png'\u001b[0m\u001b[0;34m)\u001b[0m\u001b[0;34m]\u001b[0m\u001b[0;34m\u001b[0m\u001b[0;34m\u001b[0m\u001b[0m\n",
      "\u001b[0m\n",
      "ipdb> img_list\n",
      "*** NameError: name 'img_list' is not defined\n",
      "ipdb> n\n",
      "> \u001b[0;32m/tmp/ipykernel_1069/2466099226.py\u001b[0m(49)\u001b[0;36mUnetDataGenerator\u001b[0;34m()\u001b[0m\n",
      "\u001b[0;32m     47 \u001b[0;31m\u001b[0;34m\u001b[0m\u001b[0m\n",
      "\u001b[0m\u001b[0;32m     48 \u001b[0;31m\u001b[0;34m\u001b[0m\u001b[0m\n",
      "\u001b[0m\u001b[0;32m---> 49 \u001b[0;31m    \u001b[0;32mdef\u001b[0m \u001b[0msplit_df\u001b[0m\u001b[0;34m(\u001b[0m\u001b[0mself\u001b[0m\u001b[0;34m)\u001b[0m\u001b[0;34m:\u001b[0m\u001b[0;34m\u001b[0m\u001b[0;34m\u001b[0m\u001b[0m\n",
      "\u001b[0m\u001b[0;32m     50 \u001b[0;31m        \u001b[0;32mif\u001b[0m \u001b[0mself\u001b[0m\u001b[0;34m.\u001b[0m\u001b[0msubfolder\u001b[0m \u001b[0;34m==\u001b[0m \u001b[0;34m\"train\"\u001b[0m\u001b[0;34m:\u001b[0m\u001b[0;34m\u001b[0m\u001b[0;34m\u001b[0m\u001b[0m\n",
      "\u001b[0m\u001b[0;32m     51 \u001b[0;31m            \u001b[0mself\u001b[0m\u001b[0;34m.\u001b[0m\u001b[0mpath_df\u001b[0m \u001b[0;34m=\u001b[0m \u001b[0mself\u001b[0m\u001b[0;34m.\u001b[0m\u001b[0mpath_df\u001b[0m\u001b[0;34m.\u001b[0m\u001b[0miloc\u001b[0m\u001b[0;34m[\u001b[0m\u001b[0;34m:\u001b[0m\u001b[0mint\u001b[0m\u001b[0;34m(\u001b[0m\u001b[0mlen\u001b[0m\u001b[0;34m(\u001b[0m\u001b[0mself\u001b[0m\u001b[0;34m.\u001b[0m\u001b[0mpath_df\u001b[0m\u001b[0;34m)\u001b[0m \u001b[0;34m*\u001b[0m \u001b[0mself\u001b[0m\u001b[0;34m.\u001b[0m\u001b[0msplit_percent\u001b[0m\u001b[0;34m)\u001b[0m\u001b[0;34m]\u001b[0m\u001b[0;34m\u001b[0m\u001b[0;34m\u001b[0m\u001b[0m\n",
      "\u001b[0m\n",
      "ipdb> n\n",
      "> \u001b[0;32m/tmp/ipykernel_1069/2466099226.py\u001b[0m(56)\u001b[0;36mUnetDataGenerator\u001b[0;34m()\u001b[0m\n",
      "\u001b[0;32m     54 \u001b[0;31m\u001b[0;34m\u001b[0m\u001b[0m\n",
      "\u001b[0m\u001b[0;32m     55 \u001b[0;31m\u001b[0;34m\u001b[0m\u001b[0m\n",
      "\u001b[0m\u001b[0;32m---> 56 \u001b[0;31m    \u001b[0;32mdef\u001b[0m \u001b[0m__getitem__\u001b[0m\u001b[0;34m(\u001b[0m\u001b[0mself\u001b[0m\u001b[0;34m,\u001b[0m \u001b[0mindex\u001b[0m\u001b[0;34m)\u001b[0m\u001b[0;34m:\u001b[0m\u001b[0;34m\u001b[0m\u001b[0;34m\u001b[0m\u001b[0m\n",
      "\u001b[0m\u001b[0;32m     57 \u001b[0;31m        \u001b[0minput_images\u001b[0m  \u001b[0;34m=\u001b[0m \u001b[0;34m[\u001b[0m\u001b[0;34m]\u001b[0m\u001b[0;34m\u001b[0m\u001b[0;34m\u001b[0m\u001b[0m\n",
      "\u001b[0m\u001b[0;32m     58 \u001b[0;31m        \u001b[0moutput_targets\u001b[0m \u001b[0;34m=\u001b[0m \u001b[0;34m[\u001b[0m\u001b[0;34m]\u001b[0m\u001b[0;34m\u001b[0m\u001b[0;34m\u001b[0m\u001b[0m\n",
      "\u001b[0m\n"
     ]
    }
   ],
   "source": [
    "# Define a customized data generator\n",
    "class UnetDataGenerator(keras.utils.Sequence):\n",
    "    def __init__(self, image_folder, label_folder, input_shape, batch_size, num_classes, subfolder, split_percent, use_mask = False):\n",
    "        self.image_folder       = image_folder\n",
    "        self.label_folder       = label_folder\n",
    "        self.input_shape        = input_shape\n",
    "        self.batch_size         = batch_size\n",
    "        self.num_classes        = num_classes\n",
    "        self.subfolder          = subfolder\n",
    "        self.split_percent      = split_percent\n",
    "        self.path_df            = self.make_df()\n",
    "        self.split_df()\n",
    "        self.use_mask           = use_mask\n",
    "\n",
    "    def __len__(self):\n",
    "        print(\"Length of generator:\", len(self.path_df))\n",
    "        return math.ceil(len(self.path_df) / float(self.batch_size))\n",
    "    \n",
    "    import pdb\n",
    "    pdb.set_trace()\n",
    "    \n",
    "    def make_df(self):      \n",
    "        img_list = [f for f in os.listdir(self.image_folder) if f.endswith('.JPG')]\n",
    "        lab_list = [f for f in os.listdir(self.label_folder) if f.endswith('.png')]\n",
    "    \n",
    " \n",
    "        path_df = pd.DataFrame(columns=[\"image_path\", \"label_path\", \"rover_mask_path\", \"range_mask_path\"])\n",
    "\n",
    "        for label_name in lab_list:\n",
    "            image_name = label_name.replace('.png', '.JPG')\n",
    "            rover_mask_name = label_name.replace('EDR', 'MXY')  \n",
    "            range_mask_name = label_name.replace('EDR', 'RNG')  \n",
    "            \n",
    "            parent_folder = os.path.dirname(self.image_folder)\n",
    "            rover_mask_path = os.path.join(parent_folder,'/mxy', rover_mask_name)\n",
    "            range_mask_path = os.path.join(parent_folder,'rng-30m', range_mask_name)\n",
    "\n",
    "            if image_name in img_list and os.path.exists(rover_mask_path) and os.path.exists(range_mask_path):\n",
    "                path_df = path_df.append({\n",
    "                    \"image_path\": os.path.join(self.image_folder, image_name),\n",
    "                    \"label_path\": os.path.join(self.label_folder, label_name),\n",
    "                    \"rover_mask_path\": os.path.join(parent_folder,'mxy', rover_mask_name),\n",
    "                    \"range_mask_path\": os.path.join(parent_folder,'rng-30m', range_mask_name)\n",
    "                }, ignore_index=True)\n",
    "        return path_df\n",
    "\n",
    "  \n",
    "    \n",
    "    def split_df(self):\n",
    "        if self.subfolder == \"train\":\n",
    "            self.path_df = self.path_df.iloc[:int(len(self.path_df) * self.split_percent)]\n",
    "        elif self.subfolder == \"val\":\n",
    "            self.path_df = self.path_df.iloc[int(len(self.path_df) * self.split_percent):]\n",
    "    \n",
    "    \n",
    "    def __getitem__(self, index):\n",
    "        input_images  = []\n",
    "        output_targets = []\n",
    "\n",
    "        #-------------------------------#\n",
    "        #   Calculate start indice and end indice of the batch\n",
    "        #-------------------------------#  \n",
    "        start = index * self.batch_size\n",
    "        end = min((index + 1) * self.batch_size, len(self.path_df)) # Make sure that we can load all the data of the last batch\n",
    "\n",
    "        for i in range(start, end):  \n",
    "            \n",
    "            #-------------------------------#\n",
    "            #   Get image,label,rover mask and range mask path of each batch from path_df\n",
    "            #-------------------------------#                     \n",
    "            jpg = self.path_df.iloc[i][\"image_path\"]\n",
    "            png = self.path_df.iloc[i][\"label_path\"]\n",
    "            rover = self.path_df.iloc[i][\"rover_mask_path\"]\n",
    "            rng = self.path_df.iloc[i][\"range_mask_path\"]\n",
    "            \n",
    "            #-------------------------------#\n",
    "            #   Load both range and rover masks combined\n",
    "            #-------------------------------#           \n",
    "            rover_array = cv2.imread(rover)\n",
    "            rng_array = cv2.imread(rng)\n",
    "            # reversing mask to only keep the image out of the mask\n",
    "            mask_combined = (1-rover_array) * (1-rng_array)\n",
    "      \n",
    "            #-------------------------------#\n",
    "            #   Transform images and labels to numpy array, resize them\n",
    "            #   Set the background label to 4\n",
    "            #-------------------------------#\n",
    "\n",
    "            jpg = cv2.imread(jpg)\n",
    "            if self.use_mask:\n",
    "                jpg = jpg * mask_combined            \n",
    "            \n",
    "            png = cv2.imread(png,0)\n",
    "                \n",
    "            jpg = cv2.resize(jpg, dsize = (int(self.input_shape[0]), int(self.input_shape[1])))\n",
    "            png = cv2.resize(png, dsize = (int(self.input_shape[0]), int(self.input_shape[1])), \n",
    "                                      interpolation = cv2.INTER_NEAREST)\n",
    "\n",
    "            png[png == 255] = 4\n",
    "\n",
    "            #-------------------------------------------------------#\n",
    "            #   One hot encode the labels\n",
    "            #-------------------------------------------------------#\n",
    "                \n",
    "            seg_labels = np.eye(self.num_classes)[png.reshape([-1])]                \n",
    "            seg_labels = seg_labels.reshape((int(self.input_shape[0]), int(self.input_shape[1]), self.num_classes))\n",
    "\n",
    "            input_images.append(jpg)\n",
    "            output_targets.append(seg_labels)\n",
    "\n",
    "        input_images = np.asarray(input_images)\n",
    "        output_targets = np.array(output_targets)\n",
    "\n",
    "        \n",
    "        return input_images, output_targets"
   ]
  },
  {
   "cell_type": "code",
   "execution_count": 16,
   "id": "da146da4",
   "metadata": {
    "collapsed": true
   },
   "outputs": [],
   "source": [
    "                \n",
    "            #mask_list = []\n",
    "            #for n in range(0, self.num_classes ):  # Assurez-vous que les classes commencent à 0\n",
    "            #    mask = (png == i).astype(np.float32)  # Crée un masque pour chaque classe\n",
    "            #    mask_list.append(mask)\n",
    "\n",
    "            ## Empilage des masques pour former 5 canaux\n",
    "            #seg_labels = np.stack(mask_list, axis=-1)\n",
    "                \n",
    "            #import pdb\n",
    "            #pdb.set_trace()"
   ]
  },
  {
   "cell_type": "code",
   "execution_count": 18,
   "id": "8ee9260d",
   "metadata": {
    "scrolled": false
   },
   "outputs": [],
   "source": [
    "#lab_255 = os.path.join(dataset_path, \"labels/train\", lab_files[255])"
   ]
  },
  {
   "cell_type": "code",
   "execution_count": 19,
   "id": "13e77b41",
   "metadata": {
    "collapsed": true
   },
   "outputs": [],
   "source": [
    "#cv2.imread(lab_255).shape"
   ]
  },
  {
   "cell_type": "code",
   "execution_count": 20,
   "id": "2b78cce2",
   "metadata": {
    "collapsed": true
   },
   "outputs": [],
   "source": [
    "#cv2.imread(lab_255,0).shape"
   ]
  },
  {
   "cell_type": "code",
   "execution_count": 21,
   "id": "73b5596b",
   "metadata": {
    "collapsed": true
   },
   "outputs": [],
   "source": [
    "#cv2.imread(lab_255,0).max()"
   ]
  },
  {
   "cell_type": "code",
   "execution_count": 22,
   "id": "4b03dcf2",
   "metadata": {
    "collapsed": true
   },
   "outputs": [],
   "source": [
    "#cv2.imread(lab_255,0).min()"
   ]
  },
  {
   "cell_type": "code",
   "execution_count": 23,
   "id": "06681f54",
   "metadata": {
    "collapsed": true
   },
   "outputs": [],
   "source": [
    "#cv2.imread(lab_255,0).mean()"
   ]
  },
  {
   "cell_type": "code",
   "execution_count": 24,
   "id": "753397b4",
   "metadata": {
    "collapsed": true
   },
   "outputs": [],
   "source": [
    "#np.unique(cv2.imread(lab_255,0))"
   ]
  },
  {
   "cell_type": "code",
   "execution_count": 25,
   "id": "7513aff7",
   "metadata": {
    "collapsed": true
   },
   "outputs": [],
   "source": [
    "#array_lab = cv2.imread(lab_255,0)"
   ]
  },
  {
   "cell_type": "code",
   "execution_count": 26,
   "id": "c508753e",
   "metadata": {
    "collapsed": true
   },
   "outputs": [],
   "source": [
    "#resize_lab = cv2.resize(array_lab, dsize = (256, 256))"
   ]
  },
  {
   "cell_type": "code",
   "execution_count": 27,
   "id": "f2349427",
   "metadata": {
    "collapsed": true
   },
   "outputs": [],
   "source": [
    "#resize_lab.max()"
   ]
  },
  {
   "cell_type": "code",
   "execution_count": 28,
   "id": "b2325b50",
   "metadata": {
    "collapsed": true
   },
   "outputs": [],
   "source": [
    "#lab_arr = cv2.resize(array_lab, (256, 256), interpolation = cv2.INTER_NEAREST)"
   ]
  },
  {
   "cell_type": "code",
   "execution_count": 29,
   "id": "03812632",
   "metadata": {
    "collapsed": true
   },
   "outputs": [],
   "source": [
    "#lab_arr.max()"
   ]
  },
  {
   "cell_type": "code",
   "execution_count": 30,
   "id": "e7291c5a",
   "metadata": {
    "collapsed": true
   },
   "outputs": [],
   "source": [
    "#np.unique(lab_arr)"
   ]
  },
  {
   "cell_type": "code",
   "execution_count": 31,
   "id": "74cdd796",
   "metadata": {
    "collapsed": true
   },
   "outputs": [],
   "source": [
    "#lab_arr[lab_arr == 255] = 4"
   ]
  },
  {
   "cell_type": "code",
   "execution_count": 32,
   "id": "096d06f0",
   "metadata": {
    "collapsed": true
   },
   "outputs": [],
   "source": [
    "#lab_arr.max()"
   ]
  },
  {
   "cell_type": "code",
   "execution_count": 33,
   "id": "4f318ad0",
   "metadata": {
    "collapsed": true
   },
   "outputs": [],
   "source": [
    "#np.unique(lab_arr)"
   ]
  },
  {
   "cell_type": "code",
   "execution_count": 34,
   "id": "52fe5bfc",
   "metadata": {
    "collapsed": true
   },
   "outputs": [],
   "source": [
    "#reshaped = png.reshape([-1])"
   ]
  },
  {
   "cell_type": "code",
   "execution_count": 35,
   "id": "f94d8af7",
   "metadata": {
    "collapsed": true
   },
   "outputs": [],
   "source": [
    "#np.unique(reshaped)\n"
   ]
  },
  {
   "cell_type": "code",
   "execution_count": 36,
   "id": "4ab22d09",
   "metadata": {
    "collapsed": true
   },
   "outputs": [],
   "source": [
    "#np.eye(4)[reshaped]"
   ]
  },
  {
   "cell_type": "code",
   "execution_count": 37,
   "id": "155618ec",
   "metadata": {
    "collapsed": true
   },
   "outputs": [],
   "source": [
    "#png = cv2.imread(lab_255,0)"
   ]
  },
  {
   "cell_type": "code",
   "execution_count": 38,
   "id": "9aa216c3",
   "metadata": {
    "collapsed": true
   },
   "outputs": [],
   "source": [
    "#np.unique(png)"
   ]
  },
  {
   "cell_type": "code",
   "execution_count": 39,
   "id": "274c0d8c",
   "metadata": {
    "collapsed": true
   },
   "outputs": [],
   "source": [
    "#png_resize  = cv2.resize(png, dsize = (256,256))"
   ]
  },
  {
   "cell_type": "code",
   "execution_count": 40,
   "id": "d9f87567",
   "metadata": {
    "collapsed": true
   },
   "outputs": [],
   "source": [
    "#np.unique(png_resize)"
   ]
  },
  {
   "cell_type": "code",
   "execution_count": 41,
   "id": "2115472e",
   "metadata": {
    "collapsed": true
   },
   "outputs": [],
   "source": [
    "#resize_2 = cv2.resize(png, dsize = (256,256),interpolation = cv2.INTER_NEAREST)"
   ]
  },
  {
   "cell_type": "code",
   "execution_count": 42,
   "id": "3c1755fe",
   "metadata": {
    "collapsed": true
   },
   "outputs": [],
   "source": [
    "#np.unique(resize_2)"
   ]
  },
  {
   "cell_type": "code",
   "execution_count": 43,
   "id": "5415ca56",
   "metadata": {
    "collapsed": true
   },
   "outputs": [],
   "source": [
    "#resize_2[resize_2 == 255] = 4"
   ]
  },
  {
   "cell_type": "code",
   "execution_count": 44,
   "id": "656d980f",
   "metadata": {
    "collapsed": true
   },
   "outputs": [],
   "source": [
    "#np.unique(resize_2)"
   ]
  },
  {
   "cell_type": "code",
   "execution_count": 45,
   "id": "86e3e72e",
   "metadata": {
    "collapsed": true
   },
   "outputs": [],
   "source": [
    "#reshape_2 = resize_2.reshape([-1])"
   ]
  },
  {
   "cell_type": "code",
   "execution_count": 46,
   "id": "11c79a22",
   "metadata": {
    "collapsed": true
   },
   "outputs": [],
   "source": [
    "#np.unique(reshape_2)"
   ]
  },
  {
   "cell_type": "code",
   "execution_count": 47,
   "id": "99d87e15",
   "metadata": {
    "collapsed": true
   },
   "outputs": [],
   "source": [
    "#ohe = np.eye(5)[reshape_2]"
   ]
  },
  {
   "cell_type": "code",
   "execution_count": 48,
   "id": "07bb0e37",
   "metadata": {
    "collapsed": true
   },
   "outputs": [],
   "source": [
    "#ohe.shape"
   ]
  },
  {
   "cell_type": "code",
   "execution_count": 49,
   "id": "1c8a4a48",
   "metadata": {
    "collapsed": true
   },
   "outputs": [],
   "source": [
    "#np.unique(ohe)"
   ]
  },
  {
   "cell_type": "code",
   "execution_count": 50,
   "id": "ecef9556",
   "metadata": {
    "collapsed": true
   },
   "outputs": [],
   "source": [
    "#ohe.reshape(256,256,5)"
   ]
  },
  {
   "cell_type": "markdown",
   "id": "a559e0e9",
   "metadata": {},
   "source": [
    "### Base Model building"
   ]
  },
  {
   "cell_type": "code",
   "execution_count": 23,
   "id": "780ca7a2",
   "metadata": {},
   "outputs": [],
   "source": [
    "def Unet_model():\n",
    "    \"\"\"\n",
    "    Initialize the U-Net model\n",
    "    \"\"\"\n",
    "    #################\n",
    "    #    Params    #\n",
    "    #################\n",
    "\n",
    "    n_classes=5\n",
    "    height=256\n",
    "    width=256\n",
    "    channels=3\n",
    "    inputs = Input((height, width, channels))\n",
    "\n",
    "    ############################\n",
    "    # Down Sampling - Encoding #\n",
    "    ############################\n",
    "\n",
    "    conv_1 = Conv2D(16, (3, 3), activation='relu', kernel_initializer='he_normal', padding='same')(inputs)\n",
    "    conv_1 = Dropout(0.1)(conv_1)\n",
    "    conv_1 = Conv2D(16, (3, 3), activation='relu', kernel_initializer='he_normal', padding='same')(conv_1)\n",
    "    pool_1 = MaxPooling2D((2, 2))(conv_1)\n",
    "\n",
    "    conv_2 = Conv2D(32, (3, 3), activation='relu', kernel_initializer='he_normal', padding='same')(pool_1)\n",
    "    conv_2 = Dropout(0.1)(conv_2)\n",
    "    conv_2 = Conv2D(32, (3, 3), activation='relu', kernel_initializer='he_normal', padding='same')(conv_2)\n",
    "    pool_2 = MaxPooling2D((2, 2))(conv_2)\n",
    "\n",
    "    conv_3 = Conv2D(64, (3, 3), activation='relu', kernel_initializer='he_normal', padding='same')(pool_2)\n",
    "    conv_3 = Dropout(0.1)(conv_3)\n",
    "    conv_3 = Conv2D(64, (3, 3), activation='relu', kernel_initializer='he_normal', padding='same')(conv_3)\n",
    "    pool_3 = MaxPooling2D((2, 2))(conv_3)\n",
    "\n",
    "    conv_4 = Conv2D(128, (3, 3), activation='relu', kernel_initializer='he_normal', padding='same')(pool_3)\n",
    "    conv_4 = Dropout(0.1)(conv_4)\n",
    "    conv_4 = Conv2D(128, (3, 3), activation='relu', kernel_initializer='he_normal', padding='same')(conv_4)\n",
    "    pool_4 = MaxPooling2D(pool_size=(2, 2))(conv_4)\n",
    "\n",
    "    conv_5 = Conv2D(256, (3, 3), activation='relu', kernel_initializer='he_normal', padding='same')(pool_4)\n",
    "    conv_5 = Dropout(0.2)(conv_5)\n",
    "    conv_5 = Conv2D(256, (3, 3), activation='relu', kernel_initializer='he_normal', padding='same')(conv_5)\n",
    "\n",
    "    ############################\n",
    "    #  Up Sampling - Decoding  #\n",
    "    ############################\n",
    "\n",
    "    u6 = Conv2DTranspose(128, (2, 2), strides=(2, 2), padding='same')(conv_5)\n",
    "    u6 = concatenate([u6, conv_4])\n",
    "    conv_6 = Conv2D(128, (3, 3), activation='relu', kernel_initializer='he_normal', padding='same')(u6)\n",
    "    conv_6 = Dropout(0.2)(conv_6)\n",
    "    conv_6 = Conv2D(128, (3, 3), activation='relu', kernel_initializer='he_normal', padding='same')(conv_6)\n",
    "\n",
    "    u7 = Conv2DTranspose(64, (2, 2), strides=(2, 2), padding='same')(conv_6)\n",
    "    u7 = concatenate([u7, conv_3])\n",
    "    conv_7 = Conv2D(64, (3, 3), activation='relu', kernel_initializer='he_normal', padding='same')(u7)\n",
    "    conv_7 = Dropout(0.1)(conv_7)\n",
    "    conv_7 = Conv2D(64, (3, 3), activation='relu', kernel_initializer='he_normal', padding='same')(conv_7)\n",
    "\n",
    "    u8 = Conv2DTranspose(32, (2, 2), strides=(2, 2), padding='same')(conv_7)\n",
    "    u8 = concatenate([u8, conv_2])\n",
    "    conv_8 = Conv2D(32, (3, 3), activation='relu', kernel_initializer='he_normal', padding='same')(u8)\n",
    "    conv_8 = Dropout(0.2)(conv_8)\n",
    "    conv_8 = Conv2D(32, (3, 3), activation='relu', kernel_initializer='he_normal', padding='same')(conv_8)\n",
    "\n",
    "    u9 = Conv2DTranspose(16, (2, 2), strides=(2, 2), padding='same')(conv_8)\n",
    "    u9 = concatenate([u9, conv_1], axis=3)\n",
    "    conv_9 = Conv2D(16, (3, 3), activation='relu', kernel_initializer='he_normal', padding='same')(u9)\n",
    "    conv_9 = Dropout(0.1)(conv_9)\n",
    "    conv_9 = Conv2D(16, (3, 3), activation='relu', kernel_initializer='he_normal', padding='same')(conv_9)\n",
    "\n",
    "    ################\n",
    "    # Output Layer #\n",
    "    ################\n",
    "\n",
    "    outputs = Conv2D(n_classes, (1, 1), activation='softmax')(conv_9)\n",
    "\n",
    "    ########################\n",
    "    # Model initialization #\n",
    "    ########################\n",
    "\n",
    "    model = Model(inputs=[inputs], outputs=[outputs])\n",
    "    \n",
    "    model.summary()\n",
    "    \n",
    "    return model\n",
    "\n",
    "    "
   ]
  },
  {
   "cell_type": "code",
   "execution_count": 24,
   "id": "e18a25c6",
   "metadata": {},
   "outputs": [
    {
     "name": "stderr",
     "output_type": "stream",
     "text": [
      "2023-12-12 12:22:28.162982: W tensorflow/stream_executor/platform/default/dso_loader.cc:64] Could not load dynamic library 'libcuda.so.1'; dlerror: libcuda.so.1: cannot open shared object file: No such file or directory; LD_LIBRARY_PATH: /home/gargantua/.pyenv/versions/3.10.6/envs/lewagon/lib/python3.10/site-packages/cv2/../../lib64:\n",
      "2023-12-12 12:22:28.164002: W tensorflow/stream_executor/cuda/cuda_driver.cc:263] failed call to cuInit: UNKNOWN ERROR (303)\n",
      "2023-12-12 12:22:28.164148: I tensorflow/stream_executor/cuda/cuda_diagnostics.cc:156] kernel driver does not appear to be running on this host (Jinjin): /proc/driver/nvidia/version does not exist\n",
      "2023-12-12 12:22:28.167462: I tensorflow/core/platform/cpu_feature_guard.cc:193] This TensorFlow binary is optimized with oneAPI Deep Neural Network Library (oneDNN) to use the following CPU instructions in performance-critical operations:  AVX2 AVX512F AVX512_VNNI FMA\n",
      "To enable them in other operations, rebuild TensorFlow with the appropriate compiler flags.\n"
     ]
    },
    {
     "name": "stdout",
     "output_type": "stream",
     "text": [
      "Model: \"model\"\n",
      "__________________________________________________________________________________________________\n",
      " Layer (type)                   Output Shape         Param #     Connected to                     \n",
      "==================================================================================================\n",
      " input_1 (InputLayer)           [(None, 256, 256, 3  0           []                               \n",
      "                                )]                                                                \n",
      "                                                                                                  \n",
      " conv2d (Conv2D)                (None, 256, 256, 16  448         ['input_1[0][0]']                \n",
      "                                )                                                                 \n",
      "                                                                                                  \n",
      " dropout (Dropout)              (None, 256, 256, 16  0           ['conv2d[0][0]']                 \n",
      "                                )                                                                 \n",
      "                                                                                                  \n",
      " conv2d_1 (Conv2D)              (None, 256, 256, 16  2320        ['dropout[0][0]']                \n",
      "                                )                                                                 \n",
      "                                                                                                  \n",
      " max_pooling2d (MaxPooling2D)   (None, 128, 128, 16  0           ['conv2d_1[0][0]']               \n",
      "                                )                                                                 \n",
      "                                                                                                  \n",
      " conv2d_2 (Conv2D)              (None, 128, 128, 32  4640        ['max_pooling2d[0][0]']          \n",
      "                                )                                                                 \n",
      "                                                                                                  \n",
      " dropout_1 (Dropout)            (None, 128, 128, 32  0           ['conv2d_2[0][0]']               \n",
      "                                )                                                                 \n",
      "                                                                                                  \n",
      " conv2d_3 (Conv2D)              (None, 128, 128, 32  9248        ['dropout_1[0][0]']              \n",
      "                                )                                                                 \n",
      "                                                                                                  \n",
      " max_pooling2d_1 (MaxPooling2D)  (None, 64, 64, 32)  0           ['conv2d_3[0][0]']               \n",
      "                                                                                                  \n",
      " conv2d_4 (Conv2D)              (None, 64, 64, 64)   18496       ['max_pooling2d_1[0][0]']        \n",
      "                                                                                                  \n",
      " dropout_2 (Dropout)            (None, 64, 64, 64)   0           ['conv2d_4[0][0]']               \n",
      "                                                                                                  \n",
      " conv2d_5 (Conv2D)              (None, 64, 64, 64)   36928       ['dropout_2[0][0]']              \n",
      "                                                                                                  \n",
      " max_pooling2d_2 (MaxPooling2D)  (None, 32, 32, 64)  0           ['conv2d_5[0][0]']               \n",
      "                                                                                                  \n",
      " conv2d_6 (Conv2D)              (None, 32, 32, 128)  73856       ['max_pooling2d_2[0][0]']        \n",
      "                                                                                                  \n",
      " dropout_3 (Dropout)            (None, 32, 32, 128)  0           ['conv2d_6[0][0]']               \n",
      "                                                                                                  \n",
      " conv2d_7 (Conv2D)              (None, 32, 32, 128)  147584      ['dropout_3[0][0]']              \n",
      "                                                                                                  \n",
      " max_pooling2d_3 (MaxPooling2D)  (None, 16, 16, 128)  0          ['conv2d_7[0][0]']               \n",
      "                                                                                                  \n",
      " conv2d_8 (Conv2D)              (None, 16, 16, 256)  295168      ['max_pooling2d_3[0][0]']        \n",
      "                                                                                                  \n",
      " dropout_4 (Dropout)            (None, 16, 16, 256)  0           ['conv2d_8[0][0]']               \n",
      "                                                                                                  \n",
      " conv2d_9 (Conv2D)              (None, 16, 16, 256)  590080      ['dropout_4[0][0]']              \n",
      "                                                                                                  \n",
      " conv2d_transpose (Conv2DTransp  (None, 32, 32, 128)  131200     ['conv2d_9[0][0]']               \n",
      " ose)                                                                                             \n",
      "                                                                                                  \n",
      " concatenate (Concatenate)      (None, 32, 32, 256)  0           ['conv2d_transpose[0][0]',       \n",
      "                                                                  'conv2d_7[0][0]']               \n",
      "                                                                                                  \n",
      " conv2d_10 (Conv2D)             (None, 32, 32, 128)  295040      ['concatenate[0][0]']            \n",
      "                                                                                                  \n",
      " dropout_5 (Dropout)            (None, 32, 32, 128)  0           ['conv2d_10[0][0]']              \n",
      "                                                                                                  \n",
      " conv2d_11 (Conv2D)             (None, 32, 32, 128)  147584      ['dropout_5[0][0]']              \n",
      "                                                                                                  \n",
      " conv2d_transpose_1 (Conv2DTran  (None, 64, 64, 64)  32832       ['conv2d_11[0][0]']              \n",
      " spose)                                                                                           \n",
      "                                                                                                  \n",
      " concatenate_1 (Concatenate)    (None, 64, 64, 128)  0           ['conv2d_transpose_1[0][0]',     \n",
      "                                                                  'conv2d_5[0][0]']               \n",
      "                                                                                                  \n",
      " conv2d_12 (Conv2D)             (None, 64, 64, 64)   73792       ['concatenate_1[0][0]']          \n",
      "                                                                                                  \n",
      " dropout_6 (Dropout)            (None, 64, 64, 64)   0           ['conv2d_12[0][0]']              \n",
      "                                                                                                  \n",
      " conv2d_13 (Conv2D)             (None, 64, 64, 64)   36928       ['dropout_6[0][0]']              \n",
      "                                                                                                  \n",
      " conv2d_transpose_2 (Conv2DTran  (None, 128, 128, 32  8224       ['conv2d_13[0][0]']              \n",
      " spose)                         )                                                                 \n",
      "                                                                                                  \n",
      " concatenate_2 (Concatenate)    (None, 128, 128, 64  0           ['conv2d_transpose_2[0][0]',     \n",
      "                                )                                 'conv2d_3[0][0]']               \n",
      "                                                                                                  \n",
      " conv2d_14 (Conv2D)             (None, 128, 128, 32  18464       ['concatenate_2[0][0]']          \n",
      "                                )                                                                 \n"
     ]
    },
    {
     "name": "stdout",
     "output_type": "stream",
     "text": [
      "                                                                                                  \n",
      " dropout_7 (Dropout)            (None, 128, 128, 32  0           ['conv2d_14[0][0]']              \n",
      "                                )                                                                 \n",
      "                                                                                                  \n",
      " conv2d_15 (Conv2D)             (None, 128, 128, 32  9248        ['dropout_7[0][0]']              \n",
      "                                )                                                                 \n",
      "                                                                                                  \n",
      " conv2d_transpose_3 (Conv2DTran  (None, 256, 256, 16  2064       ['conv2d_15[0][0]']              \n",
      " spose)                         )                                                                 \n",
      "                                                                                                  \n",
      " concatenate_3 (Concatenate)    (None, 256, 256, 32  0           ['conv2d_transpose_3[0][0]',     \n",
      "                                )                                 'conv2d_1[0][0]']               \n",
      "                                                                                                  \n",
      " conv2d_16 (Conv2D)             (None, 256, 256, 16  4624        ['concatenate_3[0][0]']          \n",
      "                                )                                                                 \n",
      "                                                                                                  \n",
      " dropout_8 (Dropout)            (None, 256, 256, 16  0           ['conv2d_16[0][0]']              \n",
      "                                )                                                                 \n",
      "                                                                                                  \n",
      " conv2d_17 (Conv2D)             (None, 256, 256, 16  2320        ['dropout_8[0][0]']              \n",
      "                                )                                                                 \n",
      "                                                                                                  \n",
      " conv2d_18 (Conv2D)             (None, 256, 256, 5)  85          ['conv2d_17[0][0]']              \n",
      "                                                                                                  \n",
      "==================================================================================================\n",
      "Total params: 1,941,173\n",
      "Trainable params: 1,941,173\n",
      "Non-trainable params: 0\n",
      "__________________________________________________________________________________________________\n"
     ]
    }
   ],
   "source": [
    "# Initializing and compiling model\n",
    "model = Unet_model()\n",
    "model.compile(optimizer='adam', loss='categorical_crossentropy', metrics=[iou_score] )"
   ]
  },
  {
   "cell_type": "markdown",
   "id": "ad3cc183",
   "metadata": {},
   "source": [
    "### ResNet_Backbone model"
   ]
  },
  {
   "cell_type": "code",
   "execution_count": 7,
   "id": "4ca57e8c",
   "metadata": {
    "collapsed": true
   },
   "outputs": [
    {
     "name": "stderr",
     "output_type": "stream",
     "text": [
      "2023-12-10 07:26:11.468695: W tensorflow/stream_executor/platform/default/dso_loader.cc:64] Could not load dynamic library 'libcuda.so.1'; dlerror: libcuda.so.1: cannot open shared object file: No such file or directory; LD_LIBRARY_PATH: /home/gargantua/.pyenv/versions/3.10.6/envs/lewagon/lib/python3.10/site-packages/cv2/../../lib64:\n",
      "2023-12-10 07:26:11.469433: W tensorflow/stream_executor/cuda/cuda_driver.cc:263] failed call to cuInit: UNKNOWN ERROR (303)\n",
      "2023-12-10 07:26:11.469459: I tensorflow/stream_executor/cuda/cuda_diagnostics.cc:156] kernel driver does not appear to be running on this host (Jinjin): /proc/driver/nvidia/version does not exist\n",
      "2023-12-10 07:26:11.470292: I tensorflow/core/platform/cpu_feature_guard.cc:193] This TensorFlow binary is optimized with oneAPI Deep Neural Network Library (oneDNN) to use the following CPU instructions in performance-critical operations:  AVX2 AVX512F AVX512_VNNI FMA\n",
      "To enable them in other operations, rebuild TensorFlow with the appropriate compiler flags.\n"
     ]
    },
    {
     "name": "stdout",
     "output_type": "stream",
     "text": [
      "Downloading data from https://github.com/qubvel/classification_models/releases/download/0.0.1/resnet34_imagenet_1000_no_top.h5\n",
      "85521592/85521592 [==============================] - 1s 0us/step\n",
      "Model: \"model_1\"\n",
      "__________________________________________________________________________________________________\n",
      " Layer (type)                   Output Shape         Param #     Connected to                     \n",
      "==================================================================================================\n",
      " data (InputLayer)              [(None, None, None,  0           []                               \n",
      "                                 3)]                                                              \n",
      "                                                                                                  \n",
      " bn_data (BatchNormalization)   (None, None, None,   9           ['data[0][0]']                   \n",
      "                                3)                                                                \n",
      "                                                                                                  \n",
      " zero_padding2d (ZeroPadding2D)  (None, None, None,   0          ['bn_data[0][0]']                \n",
      "                                3)                                                                \n",
      "                                                                                                  \n",
      " conv0 (Conv2D)                 (None, None, None,   9408        ['zero_padding2d[0][0]']         \n",
      "                                64)                                                               \n",
      "                                                                                                  \n",
      " bn0 (BatchNormalization)       (None, None, None,   256         ['conv0[0][0]']                  \n",
      "                                64)                                                               \n",
      "                                                                                                  \n",
      " relu0 (Activation)             (None, None, None,   0           ['bn0[0][0]']                    \n",
      "                                64)                                                               \n",
      "                                                                                                  \n",
      " zero_padding2d_1 (ZeroPadding2  (None, None, None,   0          ['relu0[0][0]']                  \n",
      " D)                             64)                                                               \n",
      "                                                                                                  \n",
      " pooling0 (MaxPooling2D)        (None, None, None,   0           ['zero_padding2d_1[0][0]']       \n",
      "                                64)                                                               \n",
      "                                                                                                  \n",
      " stage1_unit1_bn1 (BatchNormali  (None, None, None,   256        ['pooling0[0][0]']               \n",
      " zation)                        64)                                                               \n",
      "                                                                                                  \n",
      " stage1_unit1_relu1 (Activation  (None, None, None,   0          ['stage1_unit1_bn1[0][0]']       \n",
      " )                              64)                                                               \n",
      "                                                                                                  \n",
      " zero_padding2d_2 (ZeroPadding2  (None, None, None,   0          ['stage1_unit1_relu1[0][0]']     \n",
      " D)                             64)                                                               \n",
      "                                                                                                  \n",
      " stage1_unit1_conv1 (Conv2D)    (None, None, None,   36864       ['zero_padding2d_2[0][0]']       \n",
      "                                64)                                                               \n",
      "                                                                                                  \n",
      " stage1_unit1_bn2 (BatchNormali  (None, None, None,   256        ['stage1_unit1_conv1[0][0]']     \n",
      " zation)                        64)                                                               \n",
      "                                                                                                  \n",
      " stage1_unit1_relu2 (Activation  (None, None, None,   0          ['stage1_unit1_bn2[0][0]']       \n",
      " )                              64)                                                               \n",
      "                                                                                                  \n",
      " zero_padding2d_3 (ZeroPadding2  (None, None, None,   0          ['stage1_unit1_relu2[0][0]']     \n",
      " D)                             64)                                                               \n",
      "                                                                                                  \n",
      " stage1_unit1_conv2 (Conv2D)    (None, None, None,   36864       ['zero_padding2d_3[0][0]']       \n",
      "                                64)                                                               \n",
      "                                                                                                  \n",
      " stage1_unit1_sc (Conv2D)       (None, None, None,   4096        ['stage1_unit1_relu1[0][0]']     \n",
      "                                64)                                                               \n",
      "                                                                                                  \n",
      " add (Add)                      (None, None, None,   0           ['stage1_unit1_conv2[0][0]',     \n",
      "                                64)                               'stage1_unit1_sc[0][0]']        \n",
      "                                                                                                  \n",
      " stage1_unit2_bn1 (BatchNormali  (None, None, None,   256        ['add[0][0]']                    \n",
      " zation)                        64)                                                               \n",
      "                                                                                                  \n",
      " stage1_unit2_relu1 (Activation  (None, None, None,   0          ['stage1_unit2_bn1[0][0]']       \n",
      " )                              64)                                                               \n",
      "                                                                                                  \n",
      " zero_padding2d_4 (ZeroPadding2  (None, None, None,   0          ['stage1_unit2_relu1[0][0]']     \n",
      " D)                             64)                                                               \n",
      "                                                                                                  \n",
      " stage1_unit2_conv1 (Conv2D)    (None, None, None,   36864       ['zero_padding2d_4[0][0]']       \n",
      "                                64)                                                               \n",
      "                                                                                                  \n",
      " stage1_unit2_bn2 (BatchNormali  (None, None, None,   256        ['stage1_unit2_conv1[0][0]']     \n",
      " zation)                        64)                                                               \n",
      "                                                                                                  \n",
      " stage1_unit2_relu2 (Activation  (None, None, None,   0          ['stage1_unit2_bn2[0][0]']       \n",
      " )                              64)                                                               \n",
      "                                                                                                  \n",
      " zero_padding2d_5 (ZeroPadding2  (None, None, None,   0          ['stage1_unit2_relu2[0][0]']     \n",
      " D)                             64)                                                               \n",
      "                                                                                                  \n",
      " stage1_unit2_conv2 (Conv2D)    (None, None, None,   36864       ['zero_padding2d_5[0][0]']       \n",
      "                                64)                                                               \n",
      "                                                                                                  \n"
     ]
    },
    {
     "name": "stdout",
     "output_type": "stream",
     "text": [
      " add_1 (Add)                    (None, None, None,   0           ['stage1_unit2_conv2[0][0]',     \n",
      "                                64)                               'add[0][0]']                    \n",
      "                                                                                                  \n",
      " stage1_unit3_bn1 (BatchNormali  (None, None, None,   256        ['add_1[0][0]']                  \n",
      " zation)                        64)                                                               \n",
      "                                                                                                  \n",
      " stage1_unit3_relu1 (Activation  (None, None, None,   0          ['stage1_unit3_bn1[0][0]']       \n",
      " )                              64)                                                               \n",
      "                                                                                                  \n",
      " zero_padding2d_6 (ZeroPadding2  (None, None, None,   0          ['stage1_unit3_relu1[0][0]']     \n",
      " D)                             64)                                                               \n",
      "                                                                                                  \n",
      " stage1_unit3_conv1 (Conv2D)    (None, None, None,   36864       ['zero_padding2d_6[0][0]']       \n",
      "                                64)                                                               \n",
      "                                                                                                  \n",
      " stage1_unit3_bn2 (BatchNormali  (None, None, None,   256        ['stage1_unit3_conv1[0][0]']     \n",
      " zation)                        64)                                                               \n",
      "                                                                                                  \n",
      " stage1_unit3_relu2 (Activation  (None, None, None,   0          ['stage1_unit3_bn2[0][0]']       \n",
      " )                              64)                                                               \n",
      "                                                                                                  \n",
      " zero_padding2d_7 (ZeroPadding2  (None, None, None,   0          ['stage1_unit3_relu2[0][0]']     \n",
      " D)                             64)                                                               \n",
      "                                                                                                  \n",
      " stage1_unit3_conv2 (Conv2D)    (None, None, None,   36864       ['zero_padding2d_7[0][0]']       \n",
      "                                64)                                                               \n",
      "                                                                                                  \n",
      " add_2 (Add)                    (None, None, None,   0           ['stage1_unit3_conv2[0][0]',     \n",
      "                                64)                               'add_1[0][0]']                  \n",
      "                                                                                                  \n",
      " stage2_unit1_bn1 (BatchNormali  (None, None, None,   256        ['add_2[0][0]']                  \n",
      " zation)                        64)                                                               \n",
      "                                                                                                  \n",
      " stage2_unit1_relu1 (Activation  (None, None, None,   0          ['stage2_unit1_bn1[0][0]']       \n",
      " )                              64)                                                               \n",
      "                                                                                                  \n",
      " zero_padding2d_8 (ZeroPadding2  (None, None, None,   0          ['stage2_unit1_relu1[0][0]']     \n",
      " D)                             64)                                                               \n",
      "                                                                                                  \n",
      " stage2_unit1_conv1 (Conv2D)    (None, None, None,   73728       ['zero_padding2d_8[0][0]']       \n",
      "                                128)                                                              \n",
      "                                                                                                  \n",
      " stage2_unit1_bn2 (BatchNormali  (None, None, None,   512        ['stage2_unit1_conv1[0][0]']     \n",
      " zation)                        128)                                                              \n",
      "                                                                                                  \n",
      " stage2_unit1_relu2 (Activation  (None, None, None,   0          ['stage2_unit1_bn2[0][0]']       \n",
      " )                              128)                                                              \n",
      "                                                                                                  \n",
      " zero_padding2d_9 (ZeroPadding2  (None, None, None,   0          ['stage2_unit1_relu2[0][0]']     \n",
      " D)                             128)                                                              \n",
      "                                                                                                  \n",
      " stage2_unit1_conv2 (Conv2D)    (None, None, None,   147456      ['zero_padding2d_9[0][0]']       \n",
      "                                128)                                                              \n",
      "                                                                                                  \n",
      " stage2_unit1_sc (Conv2D)       (None, None, None,   8192        ['stage2_unit1_relu1[0][0]']     \n",
      "                                128)                                                              \n",
      "                                                                                                  \n",
      " add_3 (Add)                    (None, None, None,   0           ['stage2_unit1_conv2[0][0]',     \n",
      "                                128)                              'stage2_unit1_sc[0][0]']        \n",
      "                                                                                                  \n",
      " stage2_unit2_bn1 (BatchNormali  (None, None, None,   512        ['add_3[0][0]']                  \n",
      " zation)                        128)                                                              \n",
      "                                                                                                  \n",
      " stage2_unit2_relu1 (Activation  (None, None, None,   0          ['stage2_unit2_bn1[0][0]']       \n",
      " )                              128)                                                              \n",
      "                                                                                                  \n",
      " zero_padding2d_10 (ZeroPadding  (None, None, None,   0          ['stage2_unit2_relu1[0][0]']     \n",
      " 2D)                            128)                                                              \n",
      "                                                                                                  \n",
      " stage2_unit2_conv1 (Conv2D)    (None, None, None,   147456      ['zero_padding2d_10[0][0]']      \n",
      "                                128)                                                              \n",
      "                                                                                                  \n",
      " stage2_unit2_bn2 (BatchNormali  (None, None, None,   512        ['stage2_unit2_conv1[0][0]']     \n",
      " zation)                        128)                                                              \n",
      "                                                                                                  \n",
      " stage2_unit2_relu2 (Activation  (None, None, None,   0          ['stage2_unit2_bn2[0][0]']       \n",
      " )                              128)                                                              \n",
      "                                                                                                  \n",
      " zero_padding2d_11 (ZeroPadding  (None, None, None,   0          ['stage2_unit2_relu2[0][0]']     \n",
      " 2D)                            128)                                                              \n",
      "                                                                                                  \n",
      " stage2_unit2_conv2 (Conv2D)    (None, None, None,   147456      ['zero_padding2d_11[0][0]']      \n",
      "                                128)                                                              \n"
     ]
    },
    {
     "name": "stdout",
     "output_type": "stream",
     "text": [
      "                                                                                                  \n",
      " add_4 (Add)                    (None, None, None,   0           ['stage2_unit2_conv2[0][0]',     \n",
      "                                128)                              'add_3[0][0]']                  \n",
      "                                                                                                  \n",
      " stage2_unit3_bn1 (BatchNormali  (None, None, None,   512        ['add_4[0][0]']                  \n",
      " zation)                        128)                                                              \n",
      "                                                                                                  \n",
      " stage2_unit3_relu1 (Activation  (None, None, None,   0          ['stage2_unit3_bn1[0][0]']       \n",
      " )                              128)                                                              \n",
      "                                                                                                  \n",
      " zero_padding2d_12 (ZeroPadding  (None, None, None,   0          ['stage2_unit3_relu1[0][0]']     \n",
      " 2D)                            128)                                                              \n",
      "                                                                                                  \n",
      " stage2_unit3_conv1 (Conv2D)    (None, None, None,   147456      ['zero_padding2d_12[0][0]']      \n",
      "                                128)                                                              \n",
      "                                                                                                  \n",
      " stage2_unit3_bn2 (BatchNormali  (None, None, None,   512        ['stage2_unit3_conv1[0][0]']     \n",
      " zation)                        128)                                                              \n",
      "                                                                                                  \n",
      " stage2_unit3_relu2 (Activation  (None, None, None,   0          ['stage2_unit3_bn2[0][0]']       \n",
      " )                              128)                                                              \n",
      "                                                                                                  \n",
      " zero_padding2d_13 (ZeroPadding  (None, None, None,   0          ['stage2_unit3_relu2[0][0]']     \n",
      " 2D)                            128)                                                              \n",
      "                                                                                                  \n",
      " stage2_unit3_conv2 (Conv2D)    (None, None, None,   147456      ['zero_padding2d_13[0][0]']      \n",
      "                                128)                                                              \n",
      "                                                                                                  \n",
      " add_5 (Add)                    (None, None, None,   0           ['stage2_unit3_conv2[0][0]',     \n",
      "                                128)                              'add_4[0][0]']                  \n",
      "                                                                                                  \n",
      " stage2_unit4_bn1 (BatchNormali  (None, None, None,   512        ['add_5[0][0]']                  \n",
      " zation)                        128)                                                              \n",
      "                                                                                                  \n",
      " stage2_unit4_relu1 (Activation  (None, None, None,   0          ['stage2_unit4_bn1[0][0]']       \n",
      " )                              128)                                                              \n",
      "                                                                                                  \n",
      " zero_padding2d_14 (ZeroPadding  (None, None, None,   0          ['stage2_unit4_relu1[0][0]']     \n",
      " 2D)                            128)                                                              \n",
      "                                                                                                  \n",
      " stage2_unit4_conv1 (Conv2D)    (None, None, None,   147456      ['zero_padding2d_14[0][0]']      \n",
      "                                128)                                                              \n",
      "                                                                                                  \n",
      " stage2_unit4_bn2 (BatchNormali  (None, None, None,   512        ['stage2_unit4_conv1[0][0]']     \n",
      " zation)                        128)                                                              \n",
      "                                                                                                  \n",
      " stage2_unit4_relu2 (Activation  (None, None, None,   0          ['stage2_unit4_bn2[0][0]']       \n",
      " )                              128)                                                              \n",
      "                                                                                                  \n",
      " zero_padding2d_15 (ZeroPadding  (None, None, None,   0          ['stage2_unit4_relu2[0][0]']     \n",
      " 2D)                            128)                                                              \n",
      "                                                                                                  \n",
      " stage2_unit4_conv2 (Conv2D)    (None, None, None,   147456      ['zero_padding2d_15[0][0]']      \n",
      "                                128)                                                              \n",
      "                                                                                                  \n",
      " add_6 (Add)                    (None, None, None,   0           ['stage2_unit4_conv2[0][0]',     \n",
      "                                128)                              'add_5[0][0]']                  \n",
      "                                                                                                  \n",
      " stage3_unit1_bn1 (BatchNormali  (None, None, None,   512        ['add_6[0][0]']                  \n",
      " zation)                        128)                                                              \n",
      "                                                                                                  \n",
      " stage3_unit1_relu1 (Activation  (None, None, None,   0          ['stage3_unit1_bn1[0][0]']       \n",
      " )                              128)                                                              \n",
      "                                                                                                  \n",
      " zero_padding2d_16 (ZeroPadding  (None, None, None,   0          ['stage3_unit1_relu1[0][0]']     \n",
      " 2D)                            128)                                                              \n",
      "                                                                                                  \n",
      " stage3_unit1_conv1 (Conv2D)    (None, None, None,   294912      ['zero_padding2d_16[0][0]']      \n",
      "                                256)                                                              \n",
      "                                                                                                  \n",
      " stage3_unit1_bn2 (BatchNormali  (None, None, None,   1024       ['stage3_unit1_conv1[0][0]']     \n",
      " zation)                        256)                                                              \n",
      "                                                                                                  \n",
      " stage3_unit1_relu2 (Activation  (None, None, None,   0          ['stage3_unit1_bn2[0][0]']       \n",
      " )                              256)                                                              \n",
      "                                                                                                  \n",
      " zero_padding2d_17 (ZeroPadding  (None, None, None,   0          ['stage3_unit1_relu2[0][0]']     \n",
      " 2D)                            256)                                                              \n",
      "                                                                                                  \n",
      " stage3_unit1_conv2 (Conv2D)    (None, None, None,   589824      ['zero_padding2d_17[0][0]']      \n",
      "                                256)                                                              \n",
      "                                                                                                  \n",
      " stage3_unit1_sc (Conv2D)       (None, None, None,   32768       ['stage3_unit1_relu1[0][0]']     \n"
     ]
    },
    {
     "name": "stdout",
     "output_type": "stream",
     "text": [
      "                                256)                                                              \n",
      "                                                                                                  \n",
      " add_7 (Add)                    (None, None, None,   0           ['stage3_unit1_conv2[0][0]',     \n",
      "                                256)                              'stage3_unit1_sc[0][0]']        \n",
      "                                                                                                  \n",
      " stage3_unit2_bn1 (BatchNormali  (None, None, None,   1024       ['add_7[0][0]']                  \n",
      " zation)                        256)                                                              \n",
      "                                                                                                  \n",
      " stage3_unit2_relu1 (Activation  (None, None, None,   0          ['stage3_unit2_bn1[0][0]']       \n",
      " )                              256)                                                              \n",
      "                                                                                                  \n",
      " zero_padding2d_18 (ZeroPadding  (None, None, None,   0          ['stage3_unit2_relu1[0][0]']     \n",
      " 2D)                            256)                                                              \n",
      "                                                                                                  \n",
      " stage3_unit2_conv1 (Conv2D)    (None, None, None,   589824      ['zero_padding2d_18[0][0]']      \n",
      "                                256)                                                              \n",
      "                                                                                                  \n",
      " stage3_unit2_bn2 (BatchNormali  (None, None, None,   1024       ['stage3_unit2_conv1[0][0]']     \n",
      " zation)                        256)                                                              \n",
      "                                                                                                  \n",
      " stage3_unit2_relu2 (Activation  (None, None, None,   0          ['stage3_unit2_bn2[0][0]']       \n",
      " )                              256)                                                              \n",
      "                                                                                                  \n",
      " zero_padding2d_19 (ZeroPadding  (None, None, None,   0          ['stage3_unit2_relu2[0][0]']     \n",
      " 2D)                            256)                                                              \n",
      "                                                                                                  \n",
      " stage3_unit2_conv2 (Conv2D)    (None, None, None,   589824      ['zero_padding2d_19[0][0]']      \n",
      "                                256)                                                              \n",
      "                                                                                                  \n",
      " add_8 (Add)                    (None, None, None,   0           ['stage3_unit2_conv2[0][0]',     \n",
      "                                256)                              'add_7[0][0]']                  \n",
      "                                                                                                  \n",
      " stage3_unit3_bn1 (BatchNormali  (None, None, None,   1024       ['add_8[0][0]']                  \n",
      " zation)                        256)                                                              \n",
      "                                                                                                  \n",
      " stage3_unit3_relu1 (Activation  (None, None, None,   0          ['stage3_unit3_bn1[0][0]']       \n",
      " )                              256)                                                              \n",
      "                                                                                                  \n",
      " zero_padding2d_20 (ZeroPadding  (None, None, None,   0          ['stage3_unit3_relu1[0][0]']     \n",
      " 2D)                            256)                                                              \n",
      "                                                                                                  \n",
      " stage3_unit3_conv1 (Conv2D)    (None, None, None,   589824      ['zero_padding2d_20[0][0]']      \n",
      "                                256)                                                              \n",
      "                                                                                                  \n",
      " stage3_unit3_bn2 (BatchNormali  (None, None, None,   1024       ['stage3_unit3_conv1[0][0]']     \n",
      " zation)                        256)                                                              \n",
      "                                                                                                  \n",
      " stage3_unit3_relu2 (Activation  (None, None, None,   0          ['stage3_unit3_bn2[0][0]']       \n",
      " )                              256)                                                              \n",
      "                                                                                                  \n",
      " zero_padding2d_21 (ZeroPadding  (None, None, None,   0          ['stage3_unit3_relu2[0][0]']     \n",
      " 2D)                            256)                                                              \n",
      "                                                                                                  \n",
      " stage3_unit3_conv2 (Conv2D)    (None, None, None,   589824      ['zero_padding2d_21[0][0]']      \n",
      "                                256)                                                              \n",
      "                                                                                                  \n",
      " add_9 (Add)                    (None, None, None,   0           ['stage3_unit3_conv2[0][0]',     \n",
      "                                256)                              'add_8[0][0]']                  \n",
      "                                                                                                  \n",
      " stage3_unit4_bn1 (BatchNormali  (None, None, None,   1024       ['add_9[0][0]']                  \n",
      " zation)                        256)                                                              \n",
      "                                                                                                  \n",
      " stage3_unit4_relu1 (Activation  (None, None, None,   0          ['stage3_unit4_bn1[0][0]']       \n",
      " )                              256)                                                              \n",
      "                                                                                                  \n",
      " zero_padding2d_22 (ZeroPadding  (None, None, None,   0          ['stage3_unit4_relu1[0][0]']     \n",
      " 2D)                            256)                                                              \n",
      "                                                                                                  \n",
      " stage3_unit4_conv1 (Conv2D)    (None, None, None,   589824      ['zero_padding2d_22[0][0]']      \n",
      "                                256)                                                              \n",
      "                                                                                                  \n",
      " stage3_unit4_bn2 (BatchNormali  (None, None, None,   1024       ['stage3_unit4_conv1[0][0]']     \n",
      " zation)                        256)                                                              \n",
      "                                                                                                  \n",
      " stage3_unit4_relu2 (Activation  (None, None, None,   0          ['stage3_unit4_bn2[0][0]']       \n",
      " )                              256)                                                              \n",
      "                                                                                                  \n",
      " zero_padding2d_23 (ZeroPadding  (None, None, None,   0          ['stage3_unit4_relu2[0][0]']     \n",
      " 2D)                            256)                                                              \n",
      "                                                                                                  \n",
      " stage3_unit4_conv2 (Conv2D)    (None, None, None,   589824      ['zero_padding2d_23[0][0]']      \n",
      "                                256)                                                              \n",
      "                                                                                                  \n"
     ]
    },
    {
     "name": "stdout",
     "output_type": "stream",
     "text": [
      " add_10 (Add)                   (None, None, None,   0           ['stage3_unit4_conv2[0][0]',     \n",
      "                                256)                              'add_9[0][0]']                  \n",
      "                                                                                                  \n",
      " stage3_unit5_bn1 (BatchNormali  (None, None, None,   1024       ['add_10[0][0]']                 \n",
      " zation)                        256)                                                              \n",
      "                                                                                                  \n",
      " stage3_unit5_relu1 (Activation  (None, None, None,   0          ['stage3_unit5_bn1[0][0]']       \n",
      " )                              256)                                                              \n",
      "                                                                                                  \n",
      " zero_padding2d_24 (ZeroPadding  (None, None, None,   0          ['stage3_unit5_relu1[0][0]']     \n",
      " 2D)                            256)                                                              \n",
      "                                                                                                  \n",
      " stage3_unit5_conv1 (Conv2D)    (None, None, None,   589824      ['zero_padding2d_24[0][0]']      \n",
      "                                256)                                                              \n",
      "                                                                                                  \n",
      " stage3_unit5_bn2 (BatchNormali  (None, None, None,   1024       ['stage3_unit5_conv1[0][0]']     \n",
      " zation)                        256)                                                              \n",
      "                                                                                                  \n",
      " stage3_unit5_relu2 (Activation  (None, None, None,   0          ['stage3_unit5_bn2[0][0]']       \n",
      " )                              256)                                                              \n",
      "                                                                                                  \n",
      " zero_padding2d_25 (ZeroPadding  (None, None, None,   0          ['stage3_unit5_relu2[0][0]']     \n",
      " 2D)                            256)                                                              \n",
      "                                                                                                  \n",
      " stage3_unit5_conv2 (Conv2D)    (None, None, None,   589824      ['zero_padding2d_25[0][0]']      \n",
      "                                256)                                                              \n",
      "                                                                                                  \n",
      " add_11 (Add)                   (None, None, None,   0           ['stage3_unit5_conv2[0][0]',     \n",
      "                                256)                              'add_10[0][0]']                 \n",
      "                                                                                                  \n",
      " stage3_unit6_bn1 (BatchNormali  (None, None, None,   1024       ['add_11[0][0]']                 \n",
      " zation)                        256)                                                              \n",
      "                                                                                                  \n",
      " stage3_unit6_relu1 (Activation  (None, None, None,   0          ['stage3_unit6_bn1[0][0]']       \n",
      " )                              256)                                                              \n",
      "                                                                                                  \n",
      " zero_padding2d_26 (ZeroPadding  (None, None, None,   0          ['stage3_unit6_relu1[0][0]']     \n",
      " 2D)                            256)                                                              \n",
      "                                                                                                  \n",
      " stage3_unit6_conv1 (Conv2D)    (None, None, None,   589824      ['zero_padding2d_26[0][0]']      \n",
      "                                256)                                                              \n",
      "                                                                                                  \n",
      " stage3_unit6_bn2 (BatchNormali  (None, None, None,   1024       ['stage3_unit6_conv1[0][0]']     \n",
      " zation)                        256)                                                              \n",
      "                                                                                                  \n",
      " stage3_unit6_relu2 (Activation  (None, None, None,   0          ['stage3_unit6_bn2[0][0]']       \n",
      " )                              256)                                                              \n",
      "                                                                                                  \n",
      " zero_padding2d_27 (ZeroPadding  (None, None, None,   0          ['stage3_unit6_relu2[0][0]']     \n",
      " 2D)                            256)                                                              \n",
      "                                                                                                  \n",
      " stage3_unit6_conv2 (Conv2D)    (None, None, None,   589824      ['zero_padding2d_27[0][0]']      \n",
      "                                256)                                                              \n",
      "                                                                                                  \n",
      " add_12 (Add)                   (None, None, None,   0           ['stage3_unit6_conv2[0][0]',     \n",
      "                                256)                              'add_11[0][0]']                 \n",
      "                                                                                                  \n",
      " stage4_unit1_bn1 (BatchNormali  (None, None, None,   1024       ['add_12[0][0]']                 \n",
      " zation)                        256)                                                              \n",
      "                                                                                                  \n",
      " stage4_unit1_relu1 (Activation  (None, None, None,   0          ['stage4_unit1_bn1[0][0]']       \n",
      " )                              256)                                                              \n",
      "                                                                                                  \n",
      " zero_padding2d_28 (ZeroPadding  (None, None, None,   0          ['stage4_unit1_relu1[0][0]']     \n",
      " 2D)                            256)                                                              \n",
      "                                                                                                  \n",
      " stage4_unit1_conv1 (Conv2D)    (None, None, None,   1179648     ['zero_padding2d_28[0][0]']      \n",
      "                                512)                                                              \n",
      "                                                                                                  \n",
      " stage4_unit1_bn2 (BatchNormali  (None, None, None,   2048       ['stage4_unit1_conv1[0][0]']     \n",
      " zation)                        512)                                                              \n",
      "                                                                                                  \n",
      " stage4_unit1_relu2 (Activation  (None, None, None,   0          ['stage4_unit1_bn2[0][0]']       \n",
      " )                              512)                                                              \n",
      "                                                                                                  \n",
      " zero_padding2d_29 (ZeroPadding  (None, None, None,   0          ['stage4_unit1_relu2[0][0]']     \n",
      " 2D)                            512)                                                              \n",
      "                                                                                                  \n",
      " stage4_unit1_conv2 (Conv2D)    (None, None, None,   2359296     ['zero_padding2d_29[0][0]']      \n",
      "                                512)                                                              \n",
      "                                                                                                  \n",
      " stage4_unit1_sc (Conv2D)       (None, None, None,   131072      ['stage4_unit1_relu1[0][0]']     \n",
      "                                512)                                                              \n"
     ]
    },
    {
     "name": "stdout",
     "output_type": "stream",
     "text": [
      "                                                                                                  \n",
      " add_13 (Add)                   (None, None, None,   0           ['stage4_unit1_conv2[0][0]',     \n",
      "                                512)                              'stage4_unit1_sc[0][0]']        \n",
      "                                                                                                  \n",
      " stage4_unit2_bn1 (BatchNormali  (None, None, None,   2048       ['add_13[0][0]']                 \n",
      " zation)                        512)                                                              \n",
      "                                                                                                  \n",
      " stage4_unit2_relu1 (Activation  (None, None, None,   0          ['stage4_unit2_bn1[0][0]']       \n",
      " )                              512)                                                              \n",
      "                                                                                                  \n",
      " zero_padding2d_30 (ZeroPadding  (None, None, None,   0          ['stage4_unit2_relu1[0][0]']     \n",
      " 2D)                            512)                                                              \n",
      "                                                                                                  \n",
      " stage4_unit2_conv1 (Conv2D)    (None, None, None,   2359296     ['zero_padding2d_30[0][0]']      \n",
      "                                512)                                                              \n",
      "                                                                                                  \n",
      " stage4_unit2_bn2 (BatchNormali  (None, None, None,   2048       ['stage4_unit2_conv1[0][0]']     \n",
      " zation)                        512)                                                              \n",
      "                                                                                                  \n",
      " stage4_unit2_relu2 (Activation  (None, None, None,   0          ['stage4_unit2_bn2[0][0]']       \n",
      " )                              512)                                                              \n",
      "                                                                                                  \n",
      " zero_padding2d_31 (ZeroPadding  (None, None, None,   0          ['stage4_unit2_relu2[0][0]']     \n",
      " 2D)                            512)                                                              \n",
      "                                                                                                  \n",
      " stage4_unit2_conv2 (Conv2D)    (None, None, None,   2359296     ['zero_padding2d_31[0][0]']      \n",
      "                                512)                                                              \n",
      "                                                                                                  \n",
      " add_14 (Add)                   (None, None, None,   0           ['stage4_unit2_conv2[0][0]',     \n",
      "                                512)                              'add_13[0][0]']                 \n",
      "                                                                                                  \n",
      " stage4_unit3_bn1 (BatchNormali  (None, None, None,   2048       ['add_14[0][0]']                 \n",
      " zation)                        512)                                                              \n",
      "                                                                                                  \n",
      " stage4_unit3_relu1 (Activation  (None, None, None,   0          ['stage4_unit3_bn1[0][0]']       \n",
      " )                              512)                                                              \n",
      "                                                                                                  \n",
      " zero_padding2d_32 (ZeroPadding  (None, None, None,   0          ['stage4_unit3_relu1[0][0]']     \n",
      " 2D)                            512)                                                              \n",
      "                                                                                                  \n",
      " stage4_unit3_conv1 (Conv2D)    (None, None, None,   2359296     ['zero_padding2d_32[0][0]']      \n",
      "                                512)                                                              \n",
      "                                                                                                  \n",
      " stage4_unit3_bn2 (BatchNormali  (None, None, None,   2048       ['stage4_unit3_conv1[0][0]']     \n",
      " zation)                        512)                                                              \n",
      "                                                                                                  \n",
      " stage4_unit3_relu2 (Activation  (None, None, None,   0          ['stage4_unit3_bn2[0][0]']       \n",
      " )                              512)                                                              \n",
      "                                                                                                  \n",
      " zero_padding2d_33 (ZeroPadding  (None, None, None,   0          ['stage4_unit3_relu2[0][0]']     \n",
      " 2D)                            512)                                                              \n",
      "                                                                                                  \n",
      " stage4_unit3_conv2 (Conv2D)    (None, None, None,   2359296     ['zero_padding2d_33[0][0]']      \n",
      "                                512)                                                              \n",
      "                                                                                                  \n",
      " add_15 (Add)                   (None, None, None,   0           ['stage4_unit3_conv2[0][0]',     \n",
      "                                512)                              'add_14[0][0]']                 \n",
      "                                                                                                  \n",
      " bn1 (BatchNormalization)       (None, None, None,   2048        ['add_15[0][0]']                 \n",
      "                                512)                                                              \n",
      "                                                                                                  \n",
      " relu1 (Activation)             (None, None, None,   0           ['bn1[0][0]']                    \n",
      "                                512)                                                              \n",
      "                                                                                                  \n",
      " decoder_stage0_upsampling (UpS  (None, None, None,   0          ['relu1[0][0]']                  \n",
      " ampling2D)                     512)                                                              \n",
      "                                                                                                  \n",
      " decoder_stage0_concat (Concate  (None, None, None,   0          ['decoder_stage0_upsampling[0][0]\n",
      " nate)                          768)                             ',                               \n",
      "                                                                  'stage4_unit1_relu1[0][0]']     \n",
      "                                                                                                  \n",
      " decoder_stage0a_conv (Conv2D)  (None, None, None,   1769472     ['decoder_stage0_concat[0][0]']  \n",
      "                                256)                                                              \n",
      "                                                                                                  \n",
      " decoder_stage0a_bn (BatchNorma  (None, None, None,   1024       ['decoder_stage0a_conv[0][0]']   \n",
      " lization)                      256)                                                              \n",
      "                                                                                                  \n",
      " decoder_stage0a_relu (Activati  (None, None, None,   0          ['decoder_stage0a_bn[0][0]']     \n",
      " on)                            256)                                                              \n",
      "                                                                                                  \n",
      " decoder_stage0b_conv (Conv2D)  (None, None, None,   589824      ['decoder_stage0a_relu[0][0]']   \n",
      "                                256)                                                              \n",
      "                                                                                                  \n"
     ]
    },
    {
     "name": "stdout",
     "output_type": "stream",
     "text": [
      " decoder_stage0b_bn (BatchNorma  (None, None, None,   1024       ['decoder_stage0b_conv[0][0]']   \n",
      " lization)                      256)                                                              \n",
      "                                                                                                  \n",
      " decoder_stage0b_relu (Activati  (None, None, None,   0          ['decoder_stage0b_bn[0][0]']     \n",
      " on)                            256)                                                              \n",
      "                                                                                                  \n",
      " decoder_stage1_upsampling (UpS  (None, None, None,   0          ['decoder_stage0b_relu[0][0]']   \n",
      " ampling2D)                     256)                                                              \n",
      "                                                                                                  \n",
      " decoder_stage1_concat (Concate  (None, None, None,   0          ['decoder_stage1_upsampling[0][0]\n",
      " nate)                          384)                             ',                               \n",
      "                                                                  'stage3_unit1_relu1[0][0]']     \n",
      "                                                                                                  \n",
      " decoder_stage1a_conv (Conv2D)  (None, None, None,   442368      ['decoder_stage1_concat[0][0]']  \n",
      "                                128)                                                              \n",
      "                                                                                                  \n",
      " decoder_stage1a_bn (BatchNorma  (None, None, None,   512        ['decoder_stage1a_conv[0][0]']   \n",
      " lization)                      128)                                                              \n",
      "                                                                                                  \n",
      " decoder_stage1a_relu (Activati  (None, None, None,   0          ['decoder_stage1a_bn[0][0]']     \n",
      " on)                            128)                                                              \n",
      "                                                                                                  \n",
      " decoder_stage1b_conv (Conv2D)  (None, None, None,   147456      ['decoder_stage1a_relu[0][0]']   \n",
      "                                128)                                                              \n",
      "                                                                                                  \n",
      " decoder_stage1b_bn (BatchNorma  (None, None, None,   512        ['decoder_stage1b_conv[0][0]']   \n",
      " lization)                      128)                                                              \n",
      "                                                                                                  \n",
      " decoder_stage1b_relu (Activati  (None, None, None,   0          ['decoder_stage1b_bn[0][0]']     \n",
      " on)                            128)                                                              \n",
      "                                                                                                  \n",
      " decoder_stage2_upsampling (UpS  (None, None, None,   0          ['decoder_stage1b_relu[0][0]']   \n",
      " ampling2D)                     128)                                                              \n",
      "                                                                                                  \n",
      " decoder_stage2_concat (Concate  (None, None, None,   0          ['decoder_stage2_upsampling[0][0]\n",
      " nate)                          192)                             ',                               \n",
      "                                                                  'stage2_unit1_relu1[0][0]']     \n",
      "                                                                                                  \n",
      " decoder_stage2a_conv (Conv2D)  (None, None, None,   110592      ['decoder_stage2_concat[0][0]']  \n",
      "                                64)                                                               \n",
      "                                                                                                  \n",
      " decoder_stage2a_bn (BatchNorma  (None, None, None,   256        ['decoder_stage2a_conv[0][0]']   \n",
      " lization)                      64)                                                               \n",
      "                                                                                                  \n",
      " decoder_stage2a_relu (Activati  (None, None, None,   0          ['decoder_stage2a_bn[0][0]']     \n",
      " on)                            64)                                                               \n",
      "                                                                                                  \n",
      " decoder_stage2b_conv (Conv2D)  (None, None, None,   36864       ['decoder_stage2a_relu[0][0]']   \n",
      "                                64)                                                               \n",
      "                                                                                                  \n",
      " decoder_stage2b_bn (BatchNorma  (None, None, None,   256        ['decoder_stage2b_conv[0][0]']   \n",
      " lization)                      64)                                                               \n",
      "                                                                                                  \n",
      " decoder_stage2b_relu (Activati  (None, None, None,   0          ['decoder_stage2b_bn[0][0]']     \n",
      " on)                            64)                                                               \n",
      "                                                                                                  \n",
      " decoder_stage3_upsampling (UpS  (None, None, None,   0          ['decoder_stage2b_relu[0][0]']   \n",
      " ampling2D)                     64)                                                               \n",
      "                                                                                                  \n",
      " decoder_stage3_concat (Concate  (None, None, None,   0          ['decoder_stage3_upsampling[0][0]\n",
      " nate)                          128)                             ',                               \n",
      "                                                                  'relu0[0][0]']                  \n",
      "                                                                                                  \n",
      " decoder_stage3a_conv (Conv2D)  (None, None, None,   36864       ['decoder_stage3_concat[0][0]']  \n",
      "                                32)                                                               \n",
      "                                                                                                  \n",
      " decoder_stage3a_bn (BatchNorma  (None, None, None,   128        ['decoder_stage3a_conv[0][0]']   \n",
      " lization)                      32)                                                               \n",
      "                                                                                                  \n",
      " decoder_stage3a_relu (Activati  (None, None, None,   0          ['decoder_stage3a_bn[0][0]']     \n",
      " on)                            32)                                                               \n",
      "                                                                                                  \n",
      " decoder_stage3b_conv (Conv2D)  (None, None, None,   9216        ['decoder_stage3a_relu[0][0]']   \n",
      "                                32)                                                               \n",
      "                                                                                                  \n",
      " decoder_stage3b_bn (BatchNorma  (None, None, None,   128        ['decoder_stage3b_conv[0][0]']   \n",
      " lization)                      32)                                                               \n",
      "                                                                                                  \n",
      " decoder_stage3b_relu (Activati  (None, None, None,   0          ['decoder_stage3b_bn[0][0]']     \n",
      " on)                            32)                                                               \n",
      "                                                                                                  \n",
      " decoder_stage4_upsampling (UpS  (None, None, None,   0          ['decoder_stage3b_relu[0][0]']   \n",
      " ampling2D)                     32)                                                               \n"
     ]
    },
    {
     "name": "stdout",
     "output_type": "stream",
     "text": [
      "                                                                                                  \n",
      " decoder_stage4a_conv (Conv2D)  (None, None, None,   4608        ['decoder_stage4_upsampling[0][0]\n",
      "                                16)                              ']                               \n",
      "                                                                                                  \n",
      " decoder_stage4a_bn (BatchNorma  (None, None, None,   64         ['decoder_stage4a_conv[0][0]']   \n",
      " lization)                      16)                                                               \n",
      "                                                                                                  \n",
      " decoder_stage4a_relu (Activati  (None, None, None,   0          ['decoder_stage4a_bn[0][0]']     \n",
      " on)                            16)                                                               \n",
      "                                                                                                  \n",
      " decoder_stage4b_conv (Conv2D)  (None, None, None,   2304        ['decoder_stage4a_relu[0][0]']   \n",
      "                                16)                                                               \n",
      "                                                                                                  \n",
      " decoder_stage4b_bn (BatchNorma  (None, None, None,   64         ['decoder_stage4b_conv[0][0]']   \n",
      " lization)                      16)                                                               \n",
      "                                                                                                  \n",
      " decoder_stage4b_relu (Activati  (None, None, None,   0          ['decoder_stage4b_bn[0][0]']     \n",
      " on)                            16)                                                               \n",
      "                                                                                                  \n",
      " final_conv (Conv2D)            (None, None, None,   725         ['decoder_stage4b_relu[0][0]']   \n",
      "                                5)                                                                \n",
      "                                                                                                  \n",
      " softmax (Activation)           (None, None, None,   0           ['final_conv[0][0]']             \n",
      "                                5)                                                                \n",
      "                                                                                                  \n",
      "==================================================================================================\n",
      "Total params: 24,456,734\n",
      "Trainable params: 24,439,384\n",
      "Non-trainable params: 17,350\n",
      "__________________________________________________________________________________________________\n",
      "None\n"
     ]
    }
   ],
   "source": [
    "#%% pre-trained model\n",
    "\n",
    "BACKBONE = 'resnet34'\n",
    "preprocess_input = sm.get_preprocessing(BACKBONE)\n",
    "\n",
    "# preprocess input\n",
    "#x_train_new = preprocess_input(x_train)\n",
    "#x_test_new = preprocess_input(x_test)\n",
    "\n",
    "# define model\n",
    "model_resnet_backbone = sm.Unet(BACKBONE, encoder_weights='imagenet', classes=num_classes, activation='softmax')\n",
    "\n",
    "print(model_resnet_backbone.summary())"
   ]
  },
  {
   "cell_type": "code",
   "execution_count": 12,
   "id": "7112abe5",
   "metadata": {
    "collapsed": true
   },
   "outputs": [],
   "source": [
    "# compile keras model with defined optimozer, loss and metrics\n",
    "\n",
    "metrics=['accuracy', sm.metrics.iou_score]\n",
    "\n",
    "#model_resnet_backbone.compile(optimizer='adam', loss=focal_loss, metrics=metrics)\n",
    "model_resnet_backbone.compile(optimizer='adam', loss=sm.losses.bce_jaccard_loss, metrics=metrics)"
   ]
  },
  {
   "cell_type": "markdown",
   "id": "8fa720d9",
   "metadata": {},
   "source": [
    "### DeeplabV3 Model"
   ]
  },
  {
   "cell_type": "code",
   "execution_count": 36,
   "id": "83c4c8cc",
   "metadata": {
    "collapsed": true
   },
   "outputs": [],
   "source": [
    "NUM_CLASSES = 5\n",
    "IMAGE_SIZE = 256"
   ]
  },
  {
   "cell_type": "code",
   "execution_count": 49,
   "id": "995ed1c4",
   "metadata": {
    "collapsed": true
   },
   "outputs": [],
   "source": [
    "def convolution_block(\n",
    "    block_input, \n",
    "    num_filters=256, \n",
    "    kernel_size=(3, 3), \n",
    "    dilation_rate=1, \n",
    "    padding=\"same\", \n",
    "    use_bias=False,\n",
    "):\n",
    "    x = layers.Conv2D(\n",
    "        num_filters, \n",
    "        kernel_size=kernel_size, \n",
    "        dilation_rate=dilation_rate, \n",
    "        padding=\"same\",\n",
    "        use_bias=use_bias,\n",
    "        kernel_initializer=keras.initializers.HeNormal(),\n",
    "    )(block_input)\n",
    "    x = layers.BatchNormalization()(x)\n",
    "    x = layers.Activation('relu')(x)\n",
    "    return x\n",
    "\n",
    "\n",
    "def DilatedSpatialPyramidPooling(dspp_input):\n",
    "    dims = dspp_input.shape\n",
    "    x = layers.AveragePooling2D(pool_size=(dims[-3], dims[-2]))(dspp_input)\n",
    "    x = convolution_block(x, kernel_size=1, use_bias=True)\n",
    "    out_pool = layers.UpSampling2D(\n",
    "        size=(dims[-3] // x.shape[1], dims[-2] // x.shape[2]),\n",
    "        interpolation=\"nearest\",\n",
    "    )(x)\n",
    "\n",
    "    out_1 = convolution_block(dspp_input, kernel_size=1, dilation_rate=1)\n",
    "    out_6 = convolution_block(dspp_input, kernel_size=3, dilation_rate=6)\n",
    "    out_12 = convolution_block(dspp_input, kernel_size=3, dilation_rate=12)\n",
    "    out_18 = convolution_block(dspp_input, kernel_size=3, dilation_rate=18)\n",
    "\n",
    "    x = layers.Concatenate(axis=-1)([out_pool, out_1, out_6, out_12, out_18])\n",
    "    output = convolution_block(x, kernel_size=1)\n",
    "    return output"
   ]
  },
  {
   "cell_type": "code",
   "execution_count": 50,
   "id": "a4c25da9",
   "metadata": {
    "collapsed": true
   },
   "outputs": [
    {
     "name": "stdout",
     "output_type": "stream",
     "text": [
      "Model: \"model_5\"\n",
      "__________________________________________________________________________________________________\n",
      " Layer (type)                   Output Shape         Param #     Connected to                     \n",
      "==================================================================================================\n",
      " input_11 (InputLayer)          [(None, 256, 256, 3  0           []                               \n",
      "                                )]                                                                \n",
      "                                                                                                  \n",
      " tf.__operators__.getitem_3 (Sl  (None, 256, 256, 3)  0          ['input_11[0][0]']               \n",
      " icingOpLambda)                                                                                   \n",
      "                                                                                                  \n",
      " tf.nn.bias_add_3 (TFOpLambda)  (None, 256, 256, 3)  0           ['tf.__operators__.getitem_3[0][0\n",
      "                                                                 ]']                              \n",
      "                                                                                                  \n",
      " conv1_pad (ZeroPadding2D)      (None, 262, 262, 3)  0           ['tf.nn.bias_add_3[0][0]']       \n",
      "                                                                                                  \n",
      " conv1_conv (Conv2D)            (None, 128, 128, 64  9472        ['conv1_pad[0][0]']              \n",
      "                                )                                                                 \n",
      "                                                                                                  \n",
      " conv1_bn (BatchNormalization)  (None, 128, 128, 64  256         ['conv1_conv[0][0]']             \n",
      "                                )                                                                 \n",
      "                                                                                                  \n",
      " conv1_relu (Activation)        (None, 128, 128, 64  0           ['conv1_bn[0][0]']               \n",
      "                                )                                                                 \n",
      "                                                                                                  \n",
      " pool1_pad (ZeroPadding2D)      (None, 130, 130, 64  0           ['conv1_relu[0][0]']             \n",
      "                                )                                                                 \n",
      "                                                                                                  \n",
      " pool1_pool (MaxPooling2D)      (None, 64, 64, 64)   0           ['pool1_pad[0][0]']              \n",
      "                                                                                                  \n",
      " conv2_block1_1_conv (Conv2D)   (None, 64, 64, 64)   4160        ['pool1_pool[0][0]']             \n",
      "                                                                                                  \n",
      " conv2_block1_1_bn (BatchNormal  (None, 64, 64, 64)  256         ['conv2_block1_1_conv[0][0]']    \n",
      " ization)                                                                                         \n",
      "                                                                                                  \n",
      " conv2_block1_1_relu (Activatio  (None, 64, 64, 64)  0           ['conv2_block1_1_bn[0][0]']      \n",
      " n)                                                                                               \n",
      "                                                                                                  \n",
      " conv2_block1_2_conv (Conv2D)   (None, 64, 64, 64)   36928       ['conv2_block1_1_relu[0][0]']    \n",
      "                                                                                                  \n",
      " conv2_block1_2_bn (BatchNormal  (None, 64, 64, 64)  256         ['conv2_block1_2_conv[0][0]']    \n",
      " ization)                                                                                         \n",
      "                                                                                                  \n",
      " conv2_block1_2_relu (Activatio  (None, 64, 64, 64)  0           ['conv2_block1_2_bn[0][0]']      \n",
      " n)                                                                                               \n",
      "                                                                                                  \n",
      " conv2_block1_0_conv (Conv2D)   (None, 64, 64, 256)  16640       ['pool1_pool[0][0]']             \n",
      "                                                                                                  \n",
      " conv2_block1_3_conv (Conv2D)   (None, 64, 64, 256)  16640       ['conv2_block1_2_relu[0][0]']    \n",
      "                                                                                                  \n",
      " conv2_block1_0_bn (BatchNormal  (None, 64, 64, 256)  1024       ['conv2_block1_0_conv[0][0]']    \n",
      " ization)                                                                                         \n",
      "                                                                                                  \n",
      " conv2_block1_3_bn (BatchNormal  (None, 64, 64, 256)  1024       ['conv2_block1_3_conv[0][0]']    \n",
      " ization)                                                                                         \n",
      "                                                                                                  \n",
      " conv2_block1_add (Add)         (None, 64, 64, 256)  0           ['conv2_block1_0_bn[0][0]',      \n",
      "                                                                  'conv2_block1_3_bn[0][0]']      \n",
      "                                                                                                  \n",
      " conv2_block1_out (Activation)  (None, 64, 64, 256)  0           ['conv2_block1_add[0][0]']       \n",
      "                                                                                                  \n",
      " conv2_block2_1_conv (Conv2D)   (None, 64, 64, 64)   16448       ['conv2_block1_out[0][0]']       \n",
      "                                                                                                  \n",
      " conv2_block2_1_bn (BatchNormal  (None, 64, 64, 64)  256         ['conv2_block2_1_conv[0][0]']    \n",
      " ization)                                                                                         \n",
      "                                                                                                  \n",
      " conv2_block2_1_relu (Activatio  (None, 64, 64, 64)  0           ['conv2_block2_1_bn[0][0]']      \n",
      " n)                                                                                               \n",
      "                                                                                                  \n",
      " conv2_block2_2_conv (Conv2D)   (None, 64, 64, 64)   36928       ['conv2_block2_1_relu[0][0]']    \n",
      "                                                                                                  \n",
      " conv2_block2_2_bn (BatchNormal  (None, 64, 64, 64)  256         ['conv2_block2_2_conv[0][0]']    \n",
      " ization)                                                                                         \n",
      "                                                                                                  \n",
      " conv2_block2_2_relu (Activatio  (None, 64, 64, 64)  0           ['conv2_block2_2_bn[0][0]']      \n",
      " n)                                                                                               \n",
      "                                                                                                  \n",
      " conv2_block2_3_conv (Conv2D)   (None, 64, 64, 256)  16640       ['conv2_block2_2_relu[0][0]']    \n",
      "                                                                                                  \n",
      " conv2_block2_3_bn (BatchNormal  (None, 64, 64, 256)  1024       ['conv2_block2_3_conv[0][0]']    \n",
      " ization)                                                                                         \n",
      "                                                                                                  \n",
      " conv2_block2_add (Add)         (None, 64, 64, 256)  0           ['conv2_block1_out[0][0]',       \n",
      "                                                                  'conv2_block2_3_bn[0][0]']      \n",
      "                                                                                                  \n"
     ]
    },
    {
     "name": "stdout",
     "output_type": "stream",
     "text": [
      " conv2_block2_out (Activation)  (None, 64, 64, 256)  0           ['conv2_block2_add[0][0]']       \n",
      "                                                                                                  \n",
      " conv2_block3_1_conv (Conv2D)   (None, 64, 64, 64)   16448       ['conv2_block2_out[0][0]']       \n",
      "                                                                                                  \n",
      " conv2_block3_1_bn (BatchNormal  (None, 64, 64, 64)  256         ['conv2_block3_1_conv[0][0]']    \n",
      " ization)                                                                                         \n",
      "                                                                                                  \n",
      " conv2_block3_1_relu (Activatio  (None, 64, 64, 64)  0           ['conv2_block3_1_bn[0][0]']      \n",
      " n)                                                                                               \n",
      "                                                                                                  \n",
      " conv2_block3_2_conv (Conv2D)   (None, 64, 64, 64)   36928       ['conv2_block3_1_relu[0][0]']    \n",
      "                                                                                                  \n",
      " conv2_block3_2_bn (BatchNormal  (None, 64, 64, 64)  256         ['conv2_block3_2_conv[0][0]']    \n",
      " ization)                                                                                         \n",
      "                                                                                                  \n",
      " conv2_block3_2_relu (Activatio  (None, 64, 64, 64)  0           ['conv2_block3_2_bn[0][0]']      \n",
      " n)                                                                                               \n",
      "                                                                                                  \n",
      " conv2_block3_3_conv (Conv2D)   (None, 64, 64, 256)  16640       ['conv2_block3_2_relu[0][0]']    \n",
      "                                                                                                  \n",
      " conv2_block3_3_bn (BatchNormal  (None, 64, 64, 256)  1024       ['conv2_block3_3_conv[0][0]']    \n",
      " ization)                                                                                         \n",
      "                                                                                                  \n",
      " conv2_block3_add (Add)         (None, 64, 64, 256)  0           ['conv2_block2_out[0][0]',       \n",
      "                                                                  'conv2_block3_3_bn[0][0]']      \n",
      "                                                                                                  \n",
      " conv2_block3_out (Activation)  (None, 64, 64, 256)  0           ['conv2_block3_add[0][0]']       \n",
      "                                                                                                  \n",
      " conv3_block1_1_conv (Conv2D)   (None, 32, 32, 128)  32896       ['conv2_block3_out[0][0]']       \n",
      "                                                                                                  \n",
      " conv3_block1_1_bn (BatchNormal  (None, 32, 32, 128)  512        ['conv3_block1_1_conv[0][0]']    \n",
      " ization)                                                                                         \n",
      "                                                                                                  \n",
      " conv3_block1_1_relu (Activatio  (None, 32, 32, 128)  0          ['conv3_block1_1_bn[0][0]']      \n",
      " n)                                                                                               \n",
      "                                                                                                  \n",
      " conv3_block1_2_conv (Conv2D)   (None, 32, 32, 128)  147584      ['conv3_block1_1_relu[0][0]']    \n",
      "                                                                                                  \n",
      " conv3_block1_2_bn (BatchNormal  (None, 32, 32, 128)  512        ['conv3_block1_2_conv[0][0]']    \n",
      " ization)                                                                                         \n",
      "                                                                                                  \n",
      " conv3_block1_2_relu (Activatio  (None, 32, 32, 128)  0          ['conv3_block1_2_bn[0][0]']      \n",
      " n)                                                                                               \n",
      "                                                                                                  \n",
      " conv3_block1_0_conv (Conv2D)   (None, 32, 32, 512)  131584      ['conv2_block3_out[0][0]']       \n",
      "                                                                                                  \n",
      " conv3_block1_3_conv (Conv2D)   (None, 32, 32, 512)  66048       ['conv3_block1_2_relu[0][0]']    \n",
      "                                                                                                  \n",
      " conv3_block1_0_bn (BatchNormal  (None, 32, 32, 512)  2048       ['conv3_block1_0_conv[0][0]']    \n",
      " ization)                                                                                         \n",
      "                                                                                                  \n",
      " conv3_block1_3_bn (BatchNormal  (None, 32, 32, 512)  2048       ['conv3_block1_3_conv[0][0]']    \n",
      " ization)                                                                                         \n",
      "                                                                                                  \n",
      " conv3_block1_add (Add)         (None, 32, 32, 512)  0           ['conv3_block1_0_bn[0][0]',      \n",
      "                                                                  'conv3_block1_3_bn[0][0]']      \n",
      "                                                                                                  \n",
      " conv3_block1_out (Activation)  (None, 32, 32, 512)  0           ['conv3_block1_add[0][0]']       \n",
      "                                                                                                  \n",
      " conv3_block2_1_conv (Conv2D)   (None, 32, 32, 128)  65664       ['conv3_block1_out[0][0]']       \n",
      "                                                                                                  \n",
      " conv3_block2_1_bn (BatchNormal  (None, 32, 32, 128)  512        ['conv3_block2_1_conv[0][0]']    \n",
      " ization)                                                                                         \n",
      "                                                                                                  \n",
      " conv3_block2_1_relu (Activatio  (None, 32, 32, 128)  0          ['conv3_block2_1_bn[0][0]']      \n",
      " n)                                                                                               \n",
      "                                                                                                  \n",
      " conv3_block2_2_conv (Conv2D)   (None, 32, 32, 128)  147584      ['conv3_block2_1_relu[0][0]']    \n",
      "                                                                                                  \n",
      " conv3_block2_2_bn (BatchNormal  (None, 32, 32, 128)  512        ['conv3_block2_2_conv[0][0]']    \n",
      " ization)                                                                                         \n",
      "                                                                                                  \n",
      " conv3_block2_2_relu (Activatio  (None, 32, 32, 128)  0          ['conv3_block2_2_bn[0][0]']      \n",
      " n)                                                                                               \n",
      "                                                                                                  \n",
      " conv3_block2_3_conv (Conv2D)   (None, 32, 32, 512)  66048       ['conv3_block2_2_relu[0][0]']    \n",
      "                                                                                                  \n",
      " conv3_block2_3_bn (BatchNormal  (None, 32, 32, 512)  2048       ['conv3_block2_3_conv[0][0]']    \n",
      " ization)                                                                                         \n",
      "                                                                                                  \n",
      " conv3_block2_add (Add)         (None, 32, 32, 512)  0           ['conv3_block1_out[0][0]',       \n",
      "                                                                  'conv3_block2_3_bn[0][0]']      \n",
      "                                                                                                  \n"
     ]
    },
    {
     "name": "stdout",
     "output_type": "stream",
     "text": [
      " conv3_block2_out (Activation)  (None, 32, 32, 512)  0           ['conv3_block2_add[0][0]']       \n",
      "                                                                                                  \n",
      " conv3_block3_1_conv (Conv2D)   (None, 32, 32, 128)  65664       ['conv3_block2_out[0][0]']       \n",
      "                                                                                                  \n",
      " conv3_block3_1_bn (BatchNormal  (None, 32, 32, 128)  512        ['conv3_block3_1_conv[0][0]']    \n",
      " ization)                                                                                         \n",
      "                                                                                                  \n",
      " conv3_block3_1_relu (Activatio  (None, 32, 32, 128)  0          ['conv3_block3_1_bn[0][0]']      \n",
      " n)                                                                                               \n",
      "                                                                                                  \n",
      " conv3_block3_2_conv (Conv2D)   (None, 32, 32, 128)  147584      ['conv3_block3_1_relu[0][0]']    \n",
      "                                                                                                  \n",
      " conv3_block3_2_bn (BatchNormal  (None, 32, 32, 128)  512        ['conv3_block3_2_conv[0][0]']    \n",
      " ization)                                                                                         \n",
      "                                                                                                  \n",
      " conv3_block3_2_relu (Activatio  (None, 32, 32, 128)  0          ['conv3_block3_2_bn[0][0]']      \n",
      " n)                                                                                               \n",
      "                                                                                                  \n",
      " conv3_block3_3_conv (Conv2D)   (None, 32, 32, 512)  66048       ['conv3_block3_2_relu[0][0]']    \n",
      "                                                                                                  \n",
      " conv3_block3_3_bn (BatchNormal  (None, 32, 32, 512)  2048       ['conv3_block3_3_conv[0][0]']    \n",
      " ization)                                                                                         \n",
      "                                                                                                  \n",
      " conv3_block3_add (Add)         (None, 32, 32, 512)  0           ['conv3_block2_out[0][0]',       \n",
      "                                                                  'conv3_block3_3_bn[0][0]']      \n",
      "                                                                                                  \n",
      " conv3_block3_out (Activation)  (None, 32, 32, 512)  0           ['conv3_block3_add[0][0]']       \n",
      "                                                                                                  \n",
      " conv3_block4_1_conv (Conv2D)   (None, 32, 32, 128)  65664       ['conv3_block3_out[0][0]']       \n",
      "                                                                                                  \n",
      " conv3_block4_1_bn (BatchNormal  (None, 32, 32, 128)  512        ['conv3_block4_1_conv[0][0]']    \n",
      " ization)                                                                                         \n",
      "                                                                                                  \n",
      " conv3_block4_1_relu (Activatio  (None, 32, 32, 128)  0          ['conv3_block4_1_bn[0][0]']      \n",
      " n)                                                                                               \n",
      "                                                                                                  \n",
      " conv3_block4_2_conv (Conv2D)   (None, 32, 32, 128)  147584      ['conv3_block4_1_relu[0][0]']    \n",
      "                                                                                                  \n",
      " conv3_block4_2_bn (BatchNormal  (None, 32, 32, 128)  512        ['conv3_block4_2_conv[0][0]']    \n",
      " ization)                                                                                         \n",
      "                                                                                                  \n",
      " conv3_block4_2_relu (Activatio  (None, 32, 32, 128)  0          ['conv3_block4_2_bn[0][0]']      \n",
      " n)                                                                                               \n",
      "                                                                                                  \n",
      " conv3_block4_3_conv (Conv2D)   (None, 32, 32, 512)  66048       ['conv3_block4_2_relu[0][0]']    \n",
      "                                                                                                  \n",
      " conv3_block4_3_bn (BatchNormal  (None, 32, 32, 512)  2048       ['conv3_block4_3_conv[0][0]']    \n",
      " ization)                                                                                         \n",
      "                                                                                                  \n",
      " conv3_block4_add (Add)         (None, 32, 32, 512)  0           ['conv3_block3_out[0][0]',       \n",
      "                                                                  'conv3_block4_3_bn[0][0]']      \n",
      "                                                                                                  \n",
      " conv3_block4_out (Activation)  (None, 32, 32, 512)  0           ['conv3_block4_add[0][0]']       \n",
      "                                                                                                  \n",
      " conv4_block1_1_conv (Conv2D)   (None, 16, 16, 256)  131328      ['conv3_block4_out[0][0]']       \n",
      "                                                                                                  \n",
      " conv4_block1_1_bn (BatchNormal  (None, 16, 16, 256)  1024       ['conv4_block1_1_conv[0][0]']    \n",
      " ization)                                                                                         \n",
      "                                                                                                  \n",
      " conv4_block1_1_relu (Activatio  (None, 16, 16, 256)  0          ['conv4_block1_1_bn[0][0]']      \n",
      " n)                                                                                               \n",
      "                                                                                                  \n",
      " conv4_block1_2_conv (Conv2D)   (None, 16, 16, 256)  590080      ['conv4_block1_1_relu[0][0]']    \n",
      "                                                                                                  \n",
      " conv4_block1_2_bn (BatchNormal  (None, 16, 16, 256)  1024       ['conv4_block1_2_conv[0][0]']    \n",
      " ization)                                                                                         \n",
      "                                                                                                  \n",
      " conv4_block1_2_relu (Activatio  (None, 16, 16, 256)  0          ['conv4_block1_2_bn[0][0]']      \n",
      " n)                                                                                               \n",
      "                                                                                                  \n",
      " conv4_block1_0_conv (Conv2D)   (None, 16, 16, 1024  525312      ['conv3_block4_out[0][0]']       \n",
      "                                )                                                                 \n",
      "                                                                                                  \n",
      " conv4_block1_3_conv (Conv2D)   (None, 16, 16, 1024  263168      ['conv4_block1_2_relu[0][0]']    \n",
      "                                )                                                                 \n",
      "                                                                                                  \n",
      " conv4_block1_0_bn (BatchNormal  (None, 16, 16, 1024  4096       ['conv4_block1_0_conv[0][0]']    \n",
      " ization)                       )                                                                 \n",
      "                                                                                                  \n",
      " conv4_block1_3_bn (BatchNormal  (None, 16, 16, 1024  4096       ['conv4_block1_3_conv[0][0]']    \n",
      " ization)                       )                                                                 \n",
      "                                                                                                  \n",
      " conv4_block1_add (Add)         (None, 16, 16, 1024  0           ['conv4_block1_0_bn[0][0]',      \n"
     ]
    },
    {
     "name": "stdout",
     "output_type": "stream",
     "text": [
      "                                )                                 'conv4_block1_3_bn[0][0]']      \n",
      "                                                                                                  \n",
      " conv4_block1_out (Activation)  (None, 16, 16, 1024  0           ['conv4_block1_add[0][0]']       \n",
      "                                )                                                                 \n",
      "                                                                                                  \n",
      " conv4_block2_1_conv (Conv2D)   (None, 16, 16, 256)  262400      ['conv4_block1_out[0][0]']       \n",
      "                                                                                                  \n",
      " conv4_block2_1_bn (BatchNormal  (None, 16, 16, 256)  1024       ['conv4_block2_1_conv[0][0]']    \n",
      " ization)                                                                                         \n",
      "                                                                                                  \n",
      " conv4_block2_1_relu (Activatio  (None, 16, 16, 256)  0          ['conv4_block2_1_bn[0][0]']      \n",
      " n)                                                                                               \n",
      "                                                                                                  \n",
      " conv4_block2_2_conv (Conv2D)   (None, 16, 16, 256)  590080      ['conv4_block2_1_relu[0][0]']    \n",
      "                                                                                                  \n",
      " conv4_block2_2_bn (BatchNormal  (None, 16, 16, 256)  1024       ['conv4_block2_2_conv[0][0]']    \n",
      " ization)                                                                                         \n",
      "                                                                                                  \n",
      " conv4_block2_2_relu (Activatio  (None, 16, 16, 256)  0          ['conv4_block2_2_bn[0][0]']      \n",
      " n)                                                                                               \n",
      "                                                                                                  \n",
      " conv4_block2_3_conv (Conv2D)   (None, 16, 16, 1024  263168      ['conv4_block2_2_relu[0][0]']    \n",
      "                                )                                                                 \n",
      "                                                                                                  \n",
      " conv4_block2_3_bn (BatchNormal  (None, 16, 16, 1024  4096       ['conv4_block2_3_conv[0][0]']    \n",
      " ization)                       )                                                                 \n",
      "                                                                                                  \n",
      " conv4_block2_add (Add)         (None, 16, 16, 1024  0           ['conv4_block1_out[0][0]',       \n",
      "                                )                                 'conv4_block2_3_bn[0][0]']      \n",
      "                                                                                                  \n",
      " conv4_block2_out (Activation)  (None, 16, 16, 1024  0           ['conv4_block2_add[0][0]']       \n",
      "                                )                                                                 \n",
      "                                                                                                  \n",
      " conv4_block3_1_conv (Conv2D)   (None, 16, 16, 256)  262400      ['conv4_block2_out[0][0]']       \n",
      "                                                                                                  \n",
      " conv4_block3_1_bn (BatchNormal  (None, 16, 16, 256)  1024       ['conv4_block3_1_conv[0][0]']    \n",
      " ization)                                                                                         \n",
      "                                                                                                  \n",
      " conv4_block3_1_relu (Activatio  (None, 16, 16, 256)  0          ['conv4_block3_1_bn[0][0]']      \n",
      " n)                                                                                               \n",
      "                                                                                                  \n",
      " conv4_block3_2_conv (Conv2D)   (None, 16, 16, 256)  590080      ['conv4_block3_1_relu[0][0]']    \n",
      "                                                                                                  \n",
      " conv4_block3_2_bn (BatchNormal  (None, 16, 16, 256)  1024       ['conv4_block3_2_conv[0][0]']    \n",
      " ization)                                                                                         \n",
      "                                                                                                  \n",
      " conv4_block3_2_relu (Activatio  (None, 16, 16, 256)  0          ['conv4_block3_2_bn[0][0]']      \n",
      " n)                                                                                               \n",
      "                                                                                                  \n",
      " conv4_block3_3_conv (Conv2D)   (None, 16, 16, 1024  263168      ['conv4_block3_2_relu[0][0]']    \n",
      "                                )                                                                 \n",
      "                                                                                                  \n",
      " conv4_block3_3_bn (BatchNormal  (None, 16, 16, 1024  4096       ['conv4_block3_3_conv[0][0]']    \n",
      " ization)                       )                                                                 \n",
      "                                                                                                  \n",
      " conv4_block3_add (Add)         (None, 16, 16, 1024  0           ['conv4_block2_out[0][0]',       \n",
      "                                )                                 'conv4_block3_3_bn[0][0]']      \n",
      "                                                                                                  \n",
      " conv4_block3_out (Activation)  (None, 16, 16, 1024  0           ['conv4_block3_add[0][0]']       \n",
      "                                )                                                                 \n",
      "                                                                                                  \n",
      " conv4_block4_1_conv (Conv2D)   (None, 16, 16, 256)  262400      ['conv4_block3_out[0][0]']       \n",
      "                                                                                                  \n",
      " conv4_block4_1_bn (BatchNormal  (None, 16, 16, 256)  1024       ['conv4_block4_1_conv[0][0]']    \n",
      " ization)                                                                                         \n",
      "                                                                                                  \n",
      " conv4_block4_1_relu (Activatio  (None, 16, 16, 256)  0          ['conv4_block4_1_bn[0][0]']      \n",
      " n)                                                                                               \n",
      "                                                                                                  \n",
      " conv4_block4_2_conv (Conv2D)   (None, 16, 16, 256)  590080      ['conv4_block4_1_relu[0][0]']    \n",
      "                                                                                                  \n",
      " conv4_block4_2_bn (BatchNormal  (None, 16, 16, 256)  1024       ['conv4_block4_2_conv[0][0]']    \n",
      " ization)                                                                                         \n",
      "                                                                                                  \n",
      " conv4_block4_2_relu (Activatio  (None, 16, 16, 256)  0          ['conv4_block4_2_bn[0][0]']      \n",
      " n)                                                                                               \n",
      "                                                                                                  \n",
      " conv4_block4_3_conv (Conv2D)   (None, 16, 16, 1024  263168      ['conv4_block4_2_relu[0][0]']    \n",
      "                                )                                                                 \n",
      "                                                                                                  \n",
      " conv4_block4_3_bn (BatchNormal  (None, 16, 16, 1024  4096       ['conv4_block4_3_conv[0][0]']    \n",
      " ization)                       )                                                                 \n",
      "                                                                                                  \n"
     ]
    },
    {
     "name": "stdout",
     "output_type": "stream",
     "text": [
      " conv4_block4_add (Add)         (None, 16, 16, 1024  0           ['conv4_block3_out[0][0]',       \n",
      "                                )                                 'conv4_block4_3_bn[0][0]']      \n",
      "                                                                                                  \n",
      " conv4_block4_out (Activation)  (None, 16, 16, 1024  0           ['conv4_block4_add[0][0]']       \n",
      "                                )                                                                 \n",
      "                                                                                                  \n",
      " conv4_block5_1_conv (Conv2D)   (None, 16, 16, 256)  262400      ['conv4_block4_out[0][0]']       \n",
      "                                                                                                  \n",
      " conv4_block5_1_bn (BatchNormal  (None, 16, 16, 256)  1024       ['conv4_block5_1_conv[0][0]']    \n",
      " ization)                                                                                         \n",
      "                                                                                                  \n",
      " conv4_block5_1_relu (Activatio  (None, 16, 16, 256)  0          ['conv4_block5_1_bn[0][0]']      \n",
      " n)                                                                                               \n",
      "                                                                                                  \n",
      " conv4_block5_2_conv (Conv2D)   (None, 16, 16, 256)  590080      ['conv4_block5_1_relu[0][0]']    \n",
      "                                                                                                  \n",
      " conv4_block5_2_bn (BatchNormal  (None, 16, 16, 256)  1024       ['conv4_block5_2_conv[0][0]']    \n",
      " ization)                                                                                         \n",
      "                                                                                                  \n",
      " conv4_block5_2_relu (Activatio  (None, 16, 16, 256)  0          ['conv4_block5_2_bn[0][0]']      \n",
      " n)                                                                                               \n",
      "                                                                                                  \n",
      " conv4_block5_3_conv (Conv2D)   (None, 16, 16, 1024  263168      ['conv4_block5_2_relu[0][0]']    \n",
      "                                )                                                                 \n",
      "                                                                                                  \n",
      " conv4_block5_3_bn (BatchNormal  (None, 16, 16, 1024  4096       ['conv4_block5_3_conv[0][0]']    \n",
      " ization)                       )                                                                 \n",
      "                                                                                                  \n",
      " conv4_block5_add (Add)         (None, 16, 16, 1024  0           ['conv4_block4_out[0][0]',       \n",
      "                                )                                 'conv4_block5_3_bn[0][0]']      \n",
      "                                                                                                  \n",
      " conv4_block5_out (Activation)  (None, 16, 16, 1024  0           ['conv4_block5_add[0][0]']       \n",
      "                                )                                                                 \n",
      "                                                                                                  \n",
      " conv4_block6_1_conv (Conv2D)   (None, 16, 16, 256)  262400      ['conv4_block5_out[0][0]']       \n",
      "                                                                                                  \n",
      " conv4_block6_1_bn (BatchNormal  (None, 16, 16, 256)  1024       ['conv4_block6_1_conv[0][0]']    \n",
      " ization)                                                                                         \n",
      "                                                                                                  \n",
      " conv4_block6_1_relu (Activatio  (None, 16, 16, 256)  0          ['conv4_block6_1_bn[0][0]']      \n",
      " n)                                                                                               \n",
      "                                                                                                  \n",
      " conv4_block6_2_conv (Conv2D)   (None, 16, 16, 256)  590080      ['conv4_block6_1_relu[0][0]']    \n",
      "                                                                                                  \n",
      " conv4_block6_2_bn (BatchNormal  (None, 16, 16, 256)  1024       ['conv4_block6_2_conv[0][0]']    \n",
      " ization)                                                                                         \n",
      "                                                                                                  \n",
      " conv4_block6_2_relu (Activatio  (None, 16, 16, 256)  0          ['conv4_block6_2_bn[0][0]']      \n",
      " n)                                                                                               \n",
      "                                                                                                  \n",
      " average_pooling2d_2 (AveragePo  (None, 1, 1, 256)   0           ['conv4_block6_2_relu[0][0]']    \n",
      " oling2D)                                                                                         \n",
      "                                                                                                  \n",
      " conv2d_59 (Conv2D)             (None, 1, 1, 256)    65792       ['average_pooling2d_2[0][0]']    \n",
      "                                                                                                  \n",
      " batch_normalization_2 (BatchNo  (None, 1, 1, 256)   1024        ['conv2d_59[0][0]']              \n",
      " rmalization)                                                                                     \n",
      "                                                                                                  \n",
      " conv2d_60 (Conv2D)             (None, 16, 16, 256)  65536       ['conv4_block6_2_relu[0][0]']    \n",
      "                                                                                                  \n",
      " conv2d_61 (Conv2D)             (None, 16, 16, 256)  589824      ['conv4_block6_2_relu[0][0]']    \n",
      "                                                                                                  \n",
      " conv2d_62 (Conv2D)             (None, 16, 16, 256)  589824      ['conv4_block6_2_relu[0][0]']    \n",
      "                                                                                                  \n",
      " conv2d_63 (Conv2D)             (None, 16, 16, 256)  589824      ['conv4_block6_2_relu[0][0]']    \n",
      "                                                                                                  \n",
      " tf.nn.relu (TFOpLambda)        (None, 1, 1, 256)    0           ['batch_normalization_2[0][0]']  \n",
      "                                                                                                  \n",
      " batch_normalization_3 (BatchNo  (None, 16, 16, 256)  1024       ['conv2d_60[0][0]']              \n",
      " rmalization)                                                                                     \n",
      "                                                                                                  \n",
      " batch_normalization_4 (BatchNo  (None, 16, 16, 256)  1024       ['conv2d_61[0][0]']              \n",
      " rmalization)                                                                                     \n",
      "                                                                                                  \n",
      " batch_normalization_5 (BatchNo  (None, 16, 16, 256)  1024       ['conv2d_62[0][0]']              \n",
      " rmalization)                                                                                     \n",
      "                                                                                                  \n",
      " batch_normalization_6 (BatchNo  (None, 16, 16, 256)  1024       ['conv2d_63[0][0]']              \n",
      " rmalization)                                                                                     \n",
      "                                                                                                  \n",
      " up_sampling2d (UpSampling2D)   (None, 16, 16, 256)  0           ['tf.nn.relu[0][0]']             \n",
      "                                                                                                  \n",
      " tf.nn.relu_1 (TFOpLambda)      (None, 16, 16, 256)  0           ['batch_normalization_3[0][0]']  \n"
     ]
    },
    {
     "name": "stdout",
     "output_type": "stream",
     "text": [
      "                                                                                                  \n",
      " tf.nn.relu_2 (TFOpLambda)      (None, 16, 16, 256)  0           ['batch_normalization_4[0][0]']  \n",
      "                                                                                                  \n",
      " tf.nn.relu_3 (TFOpLambda)      (None, 16, 16, 256)  0           ['batch_normalization_5[0][0]']  \n",
      "                                                                                                  \n",
      " tf.nn.relu_4 (TFOpLambda)      (None, 16, 16, 256)  0           ['batch_normalization_6[0][0]']  \n",
      "                                                                                                  \n",
      " concatenate_12 (Concatenate)   (None, 16, 16, 1280  0           ['up_sampling2d[0][0]',          \n",
      "                                )                                 'tf.nn.relu_1[0][0]',           \n",
      "                                                                  'tf.nn.relu_2[0][0]',           \n",
      "                                                                  'tf.nn.relu_3[0][0]',           \n",
      "                                                                  'tf.nn.relu_4[0][0]']           \n",
      "                                                                                                  \n",
      " conv2d_64 (Conv2D)             (None, 16, 16, 256)  327680      ['concatenate_12[0][0]']         \n",
      "                                                                                                  \n",
      " batch_normalization_7 (BatchNo  (None, 16, 16, 256)  1024       ['conv2d_64[0][0]']              \n",
      " rmalization)                                                                                     \n",
      "                                                                                                  \n",
      " conv2d_65 (Conv2D)             (None, 64, 64, 48)   3072        ['conv2_block3_2_relu[0][0]']    \n",
      "                                                                                                  \n",
      " tf.nn.relu_5 (TFOpLambda)      (None, 16, 16, 256)  0           ['batch_normalization_7[0][0]']  \n",
      "                                                                                                  \n",
      " batch_normalization_8 (BatchNo  (None, 64, 64, 48)  192         ['conv2d_65[0][0]']              \n",
      " rmalization)                                                                                     \n",
      "                                                                                                  \n",
      " up_sampling2d_1 (UpSampling2D)  (None, 64, 64, 256)  0          ['tf.nn.relu_5[0][0]']           \n",
      "                                                                                                  \n",
      " tf.nn.relu_6 (TFOpLambda)      (None, 64, 64, 48)   0           ['batch_normalization_8[0][0]']  \n",
      "                                                                                                  \n",
      " concatenate_13 (Concatenate)   (None, 64, 64, 304)  0           ['up_sampling2d_1[0][0]',        \n",
      "                                                                  'tf.nn.relu_6[0][0]']           \n",
      "                                                                                                  \n",
      " conv2d_66 (Conv2D)             (None, 64, 64, 256)  700416      ['concatenate_13[0][0]']         \n",
      "                                                                                                  \n",
      " batch_normalization_9 (BatchNo  (None, 64, 64, 256)  1024       ['conv2d_66[0][0]']              \n",
      " rmalization)                                                                                     \n",
      "                                                                                                  \n",
      " tf.nn.relu_7 (TFOpLambda)      (None, 64, 64, 256)  0           ['batch_normalization_9[0][0]']  \n",
      "                                                                                                  \n",
      " conv2d_67 (Conv2D)             (None, 64, 64, 256)  589824      ['tf.nn.relu_7[0][0]']           \n",
      "                                                                                                  \n",
      " batch_normalization_10 (BatchN  (None, 64, 64, 256)  1024       ['conv2d_67[0][0]']              \n",
      " ormalization)                                                                                    \n",
      "                                                                                                  \n",
      " tf.nn.relu_8 (TFOpLambda)      (None, 64, 64, 256)  0           ['batch_normalization_10[0][0]'] \n",
      "                                                                                                  \n",
      " up_sampling2d_2 (UpSampling2D)  (None, 256, 256, 25  0          ['tf.nn.relu_8[0][0]']           \n",
      "                                6)                                                                \n",
      "                                                                                                  \n",
      " conv2d_68 (Conv2D)             (None, 256, 256, 5)  1285        ['up_sampling2d_2[0][0]']        \n",
      "                                                                                                  \n",
      "==================================================================================================\n",
      "Total params: 11,853,381\n",
      "Trainable params: 11,820,645\n",
      "Non-trainable params: 32,736\n",
      "__________________________________________________________________________________________________\n"
     ]
    }
   ],
   "source": [
    "# Use a ResNet50 pretrained on ImageNet as the backbone model\n",
    "def DeeplabV3Plus(image_size, num_classes):\n",
    "    model_input = keras.Input(shape=(image_size, image_size, 3))\n",
    "    preprocessed = preprocess_input(model_input)\n",
    "    resnet50 = keras.applications.ResNet50(\n",
    "        weights=\"imagenet\", include_top=False, input_tensor=preprocessed\n",
    "    )\n",
    "\n",
    "    x = resnet50.get_layer(\"conv4_block6_2_relu\").output\n",
    "    x = DilatedSpatialPyramidPooling(x)\n",
    "\n",
    "    input_a = layers.UpSampling2D(\n",
    "        size=(image_size // 4 // x.shape[1], image_size // 4 // x.shape[2]),\n",
    "        interpolation=\"nearest\",\n",
    "    )(x)\n",
    "    input_b = resnet50.get_layer(\"conv2_block3_2_relu\").output\n",
    "    input_b = convolution_block(input_b, num_filters=48, kernel_size=1)\n",
    "\n",
    "    x = layers.Concatenate(axis=-1)([input_a, input_b])\n",
    "    x = convolution_block(x)\n",
    "    x = convolution_block(x)\n",
    "    x = layers.UpSampling2D(\n",
    "        size=(image_size // x.shape[1], image_size // x.shape[2]),\n",
    "        interpolation=\"nearest\",\n",
    "    )(x)\n",
    "    model_output = layers.Conv2D(num_classes, kernel_size=(1, 1), padding=\"same\")(x)\n",
    "    return keras.Model(inputs=model_input, outputs=model_output)\n",
    "\n",
    "\n",
    "deep_model = DeeplabV3Plus(image_size=IMAGE_SIZE, num_classes=NUM_CLASSES)\n",
    "deep_model.summary()"
   ]
  },
  {
   "cell_type": "code",
   "execution_count": 52,
   "id": "fc918025",
   "metadata": {
    "collapsed": true
   },
   "outputs": [],
   "source": [
    "loss = 'CategoricalCrossentropy'\n",
    "metrics=['accuracy', iou_score]\n",
    "deep_model.compile(\n",
    "    optimizer=keras.optimizers.Adam(learning_rate=0.0001),\n",
    "    loss=loss,\n",
    "    metrics=metrics,\n",
    ")\n"
   ]
  },
  {
   "cell_type": "code",
   "execution_count": 55,
   "id": "0a81b002",
   "metadata": {
    "collapsed": true
   },
   "outputs": [
    {
     "name": "stdout",
     "output_type": "stream",
     "text": [
      "Length of generator: 3213\n",
      "Length of generator: 12851\n",
      "Length of generator: 12851\n",
      "Length of generator: 12851\n",
      " 88/804 [==>...........................] - ETA: 51:22 - loss: nan - iou_score: nan"
     ]
    },
    {
     "ename": "KeyboardInterrupt",
     "evalue": "",
     "output_type": "error",
     "traceback": [
      "\u001b[0;31m---------------------------------------------------------------------------\u001b[0m",
      "\u001b[0;31mKeyboardInterrupt\u001b[0m                         Traceback (most recent call last)",
      "File \u001b[0;32m<timed exec>:5\u001b[0m\n",
      "File \u001b[0;32m~/.pyenv/versions/3.10.6/envs/lewagon/lib/python3.10/site-packages/keras/utils/traceback_utils.py:65\u001b[0m, in \u001b[0;36mfilter_traceback.<locals>.error_handler\u001b[0;34m(*args, **kwargs)\u001b[0m\n\u001b[1;32m     63\u001b[0m filtered_tb \u001b[38;5;241m=\u001b[39m \u001b[38;5;28;01mNone\u001b[39;00m\n\u001b[1;32m     64\u001b[0m \u001b[38;5;28;01mtry\u001b[39;00m:\n\u001b[0;32m---> 65\u001b[0m     \u001b[38;5;28;01mreturn\u001b[39;00m \u001b[43mfn\u001b[49m\u001b[43m(\u001b[49m\u001b[38;5;241;43m*\u001b[39;49m\u001b[43margs\u001b[49m\u001b[43m,\u001b[49m\u001b[43m \u001b[49m\u001b[38;5;241;43m*\u001b[39;49m\u001b[38;5;241;43m*\u001b[39;49m\u001b[43mkwargs\u001b[49m\u001b[43m)\u001b[49m\n\u001b[1;32m     66\u001b[0m \u001b[38;5;28;01mexcept\u001b[39;00m \u001b[38;5;167;01mException\u001b[39;00m \u001b[38;5;28;01mas\u001b[39;00m e:\n\u001b[1;32m     67\u001b[0m     filtered_tb \u001b[38;5;241m=\u001b[39m _process_traceback_frames(e\u001b[38;5;241m.\u001b[39m__traceback__)\n",
      "File \u001b[0;32m~/.pyenv/versions/3.10.6/envs/lewagon/lib/python3.10/site-packages/keras/engine/training.py:1564\u001b[0m, in \u001b[0;36mModel.fit\u001b[0;34m(self, x, y, batch_size, epochs, verbose, callbacks, validation_split, validation_data, shuffle, class_weight, sample_weight, initial_epoch, steps_per_epoch, validation_steps, validation_batch_size, validation_freq, max_queue_size, workers, use_multiprocessing)\u001b[0m\n\u001b[1;32m   1556\u001b[0m \u001b[38;5;28;01mwith\u001b[39;00m tf\u001b[38;5;241m.\u001b[39mprofiler\u001b[38;5;241m.\u001b[39mexperimental\u001b[38;5;241m.\u001b[39mTrace(\n\u001b[1;32m   1557\u001b[0m     \u001b[38;5;124m\"\u001b[39m\u001b[38;5;124mtrain\u001b[39m\u001b[38;5;124m\"\u001b[39m,\n\u001b[1;32m   1558\u001b[0m     epoch_num\u001b[38;5;241m=\u001b[39mepoch,\n\u001b[0;32m   (...)\u001b[0m\n\u001b[1;32m   1561\u001b[0m     _r\u001b[38;5;241m=\u001b[39m\u001b[38;5;241m1\u001b[39m,\n\u001b[1;32m   1562\u001b[0m ):\n\u001b[1;32m   1563\u001b[0m     callbacks\u001b[38;5;241m.\u001b[39mon_train_batch_begin(step)\n\u001b[0;32m-> 1564\u001b[0m     tmp_logs \u001b[38;5;241m=\u001b[39m \u001b[38;5;28;43mself\u001b[39;49m\u001b[38;5;241;43m.\u001b[39;49m\u001b[43mtrain_function\u001b[49m\u001b[43m(\u001b[49m\u001b[43miterator\u001b[49m\u001b[43m)\u001b[49m\n\u001b[1;32m   1565\u001b[0m     \u001b[38;5;28;01mif\u001b[39;00m data_handler\u001b[38;5;241m.\u001b[39mshould_sync:\n\u001b[1;32m   1566\u001b[0m         context\u001b[38;5;241m.\u001b[39masync_wait()\n",
      "File \u001b[0;32m~/.pyenv/versions/3.10.6/envs/lewagon/lib/python3.10/site-packages/tensorflow/python/util/traceback_utils.py:150\u001b[0m, in \u001b[0;36mfilter_traceback.<locals>.error_handler\u001b[0;34m(*args, **kwargs)\u001b[0m\n\u001b[1;32m    148\u001b[0m filtered_tb \u001b[38;5;241m=\u001b[39m \u001b[38;5;28;01mNone\u001b[39;00m\n\u001b[1;32m    149\u001b[0m \u001b[38;5;28;01mtry\u001b[39;00m:\n\u001b[0;32m--> 150\u001b[0m   \u001b[38;5;28;01mreturn\u001b[39;00m \u001b[43mfn\u001b[49m\u001b[43m(\u001b[49m\u001b[38;5;241;43m*\u001b[39;49m\u001b[43margs\u001b[49m\u001b[43m,\u001b[49m\u001b[43m \u001b[49m\u001b[38;5;241;43m*\u001b[39;49m\u001b[38;5;241;43m*\u001b[39;49m\u001b[43mkwargs\u001b[49m\u001b[43m)\u001b[49m\n\u001b[1;32m    151\u001b[0m \u001b[38;5;28;01mexcept\u001b[39;00m \u001b[38;5;167;01mException\u001b[39;00m \u001b[38;5;28;01mas\u001b[39;00m e:\n\u001b[1;32m    152\u001b[0m   filtered_tb \u001b[38;5;241m=\u001b[39m _process_traceback_frames(e\u001b[38;5;241m.\u001b[39m__traceback__)\n",
      "File \u001b[0;32m~/.pyenv/versions/3.10.6/envs/lewagon/lib/python3.10/site-packages/tensorflow/python/eager/def_function.py:915\u001b[0m, in \u001b[0;36mFunction.__call__\u001b[0;34m(self, *args, **kwds)\u001b[0m\n\u001b[1;32m    912\u001b[0m compiler \u001b[38;5;241m=\u001b[39m \u001b[38;5;124m\"\u001b[39m\u001b[38;5;124mxla\u001b[39m\u001b[38;5;124m\"\u001b[39m \u001b[38;5;28;01mif\u001b[39;00m \u001b[38;5;28mself\u001b[39m\u001b[38;5;241m.\u001b[39m_jit_compile \u001b[38;5;28;01melse\u001b[39;00m \u001b[38;5;124m\"\u001b[39m\u001b[38;5;124mnonXla\u001b[39m\u001b[38;5;124m\"\u001b[39m\n\u001b[1;32m    914\u001b[0m \u001b[38;5;28;01mwith\u001b[39;00m OptionalXlaContext(\u001b[38;5;28mself\u001b[39m\u001b[38;5;241m.\u001b[39m_jit_compile):\n\u001b[0;32m--> 915\u001b[0m   result \u001b[38;5;241m=\u001b[39m \u001b[38;5;28;43mself\u001b[39;49m\u001b[38;5;241;43m.\u001b[39;49m\u001b[43m_call\u001b[49m\u001b[43m(\u001b[49m\u001b[38;5;241;43m*\u001b[39;49m\u001b[43margs\u001b[49m\u001b[43m,\u001b[49m\u001b[43m \u001b[49m\u001b[38;5;241;43m*\u001b[39;49m\u001b[38;5;241;43m*\u001b[39;49m\u001b[43mkwds\u001b[49m\u001b[43m)\u001b[49m\n\u001b[1;32m    917\u001b[0m new_tracing_count \u001b[38;5;241m=\u001b[39m \u001b[38;5;28mself\u001b[39m\u001b[38;5;241m.\u001b[39mexperimental_get_tracing_count()\n\u001b[1;32m    918\u001b[0m without_tracing \u001b[38;5;241m=\u001b[39m (tracing_count \u001b[38;5;241m==\u001b[39m new_tracing_count)\n",
      "File \u001b[0;32m~/.pyenv/versions/3.10.6/envs/lewagon/lib/python3.10/site-packages/tensorflow/python/eager/def_function.py:947\u001b[0m, in \u001b[0;36mFunction._call\u001b[0;34m(self, *args, **kwds)\u001b[0m\n\u001b[1;32m    944\u001b[0m   \u001b[38;5;28mself\u001b[39m\u001b[38;5;241m.\u001b[39m_lock\u001b[38;5;241m.\u001b[39mrelease()\n\u001b[1;32m    945\u001b[0m   \u001b[38;5;66;03m# In this case we have created variables on the first call, so we run the\u001b[39;00m\n\u001b[1;32m    946\u001b[0m   \u001b[38;5;66;03m# defunned version which is guaranteed to never create variables.\u001b[39;00m\n\u001b[0;32m--> 947\u001b[0m   \u001b[38;5;28;01mreturn\u001b[39;00m \u001b[38;5;28;43mself\u001b[39;49m\u001b[38;5;241;43m.\u001b[39;49m\u001b[43m_stateless_fn\u001b[49m\u001b[43m(\u001b[49m\u001b[38;5;241;43m*\u001b[39;49m\u001b[43margs\u001b[49m\u001b[43m,\u001b[49m\u001b[43m \u001b[49m\u001b[38;5;241;43m*\u001b[39;49m\u001b[38;5;241;43m*\u001b[39;49m\u001b[43mkwds\u001b[49m\u001b[43m)\u001b[49m  \u001b[38;5;66;03m# pylint: disable=not-callable\u001b[39;00m\n\u001b[1;32m    948\u001b[0m \u001b[38;5;28;01melif\u001b[39;00m \u001b[38;5;28mself\u001b[39m\u001b[38;5;241m.\u001b[39m_stateful_fn \u001b[38;5;129;01mis\u001b[39;00m \u001b[38;5;129;01mnot\u001b[39;00m \u001b[38;5;28;01mNone\u001b[39;00m:\n\u001b[1;32m    949\u001b[0m   \u001b[38;5;66;03m# Release the lock early so that multiple threads can perform the call\u001b[39;00m\n\u001b[1;32m    950\u001b[0m   \u001b[38;5;66;03m# in parallel.\u001b[39;00m\n\u001b[1;32m    951\u001b[0m   \u001b[38;5;28mself\u001b[39m\u001b[38;5;241m.\u001b[39m_lock\u001b[38;5;241m.\u001b[39mrelease()\n",
      "File \u001b[0;32m~/.pyenv/versions/3.10.6/envs/lewagon/lib/python3.10/site-packages/tensorflow/python/eager/function.py:2496\u001b[0m, in \u001b[0;36mFunction.__call__\u001b[0;34m(self, *args, **kwargs)\u001b[0m\n\u001b[1;32m   2493\u001b[0m \u001b[38;5;28;01mwith\u001b[39;00m \u001b[38;5;28mself\u001b[39m\u001b[38;5;241m.\u001b[39m_lock:\n\u001b[1;32m   2494\u001b[0m   (graph_function,\n\u001b[1;32m   2495\u001b[0m    filtered_flat_args) \u001b[38;5;241m=\u001b[39m \u001b[38;5;28mself\u001b[39m\u001b[38;5;241m.\u001b[39m_maybe_define_function(args, kwargs)\n\u001b[0;32m-> 2496\u001b[0m \u001b[38;5;28;01mreturn\u001b[39;00m \u001b[43mgraph_function\u001b[49m\u001b[38;5;241;43m.\u001b[39;49m\u001b[43m_call_flat\u001b[49m\u001b[43m(\u001b[49m\n\u001b[1;32m   2497\u001b[0m \u001b[43m    \u001b[49m\u001b[43mfiltered_flat_args\u001b[49m\u001b[43m,\u001b[49m\u001b[43m \u001b[49m\u001b[43mcaptured_inputs\u001b[49m\u001b[38;5;241;43m=\u001b[39;49m\u001b[43mgraph_function\u001b[49m\u001b[38;5;241;43m.\u001b[39;49m\u001b[43mcaptured_inputs\u001b[49m\u001b[43m)\u001b[49m\n",
      "File \u001b[0;32m~/.pyenv/versions/3.10.6/envs/lewagon/lib/python3.10/site-packages/tensorflow/python/eager/function.py:1862\u001b[0m, in \u001b[0;36mConcreteFunction._call_flat\u001b[0;34m(self, args, captured_inputs, cancellation_manager)\u001b[0m\n\u001b[1;32m   1858\u001b[0m possible_gradient_type \u001b[38;5;241m=\u001b[39m gradients_util\u001b[38;5;241m.\u001b[39mPossibleTapeGradientTypes(args)\n\u001b[1;32m   1859\u001b[0m \u001b[38;5;28;01mif\u001b[39;00m (possible_gradient_type \u001b[38;5;241m==\u001b[39m gradients_util\u001b[38;5;241m.\u001b[39mPOSSIBLE_GRADIENT_TYPES_NONE\n\u001b[1;32m   1860\u001b[0m     \u001b[38;5;129;01mand\u001b[39;00m executing_eagerly):\n\u001b[1;32m   1861\u001b[0m   \u001b[38;5;66;03m# No tape is watching; skip to running the function.\u001b[39;00m\n\u001b[0;32m-> 1862\u001b[0m   \u001b[38;5;28;01mreturn\u001b[39;00m \u001b[38;5;28mself\u001b[39m\u001b[38;5;241m.\u001b[39m_build_call_outputs(\u001b[38;5;28;43mself\u001b[39;49m\u001b[38;5;241;43m.\u001b[39;49m\u001b[43m_inference_function\u001b[49m\u001b[38;5;241;43m.\u001b[39;49m\u001b[43mcall\u001b[49m\u001b[43m(\u001b[49m\n\u001b[1;32m   1863\u001b[0m \u001b[43m      \u001b[49m\u001b[43mctx\u001b[49m\u001b[43m,\u001b[49m\u001b[43m \u001b[49m\u001b[43margs\u001b[49m\u001b[43m,\u001b[49m\u001b[43m \u001b[49m\u001b[43mcancellation_manager\u001b[49m\u001b[38;5;241;43m=\u001b[39;49m\u001b[43mcancellation_manager\u001b[49m\u001b[43m)\u001b[49m)\n\u001b[1;32m   1864\u001b[0m forward_backward \u001b[38;5;241m=\u001b[39m \u001b[38;5;28mself\u001b[39m\u001b[38;5;241m.\u001b[39m_select_forward_and_backward_functions(\n\u001b[1;32m   1865\u001b[0m     args,\n\u001b[1;32m   1866\u001b[0m     possible_gradient_type,\n\u001b[1;32m   1867\u001b[0m     executing_eagerly)\n\u001b[1;32m   1868\u001b[0m forward_function, args_with_tangents \u001b[38;5;241m=\u001b[39m forward_backward\u001b[38;5;241m.\u001b[39mforward()\n",
      "File \u001b[0;32m~/.pyenv/versions/3.10.6/envs/lewagon/lib/python3.10/site-packages/tensorflow/python/eager/function.py:499\u001b[0m, in \u001b[0;36m_EagerDefinedFunction.call\u001b[0;34m(self, ctx, args, cancellation_manager)\u001b[0m\n\u001b[1;32m    497\u001b[0m \u001b[38;5;28;01mwith\u001b[39;00m _InterpolateFunctionError(\u001b[38;5;28mself\u001b[39m):\n\u001b[1;32m    498\u001b[0m   \u001b[38;5;28;01mif\u001b[39;00m cancellation_manager \u001b[38;5;129;01mis\u001b[39;00m \u001b[38;5;28;01mNone\u001b[39;00m:\n\u001b[0;32m--> 499\u001b[0m     outputs \u001b[38;5;241m=\u001b[39m \u001b[43mexecute\u001b[49m\u001b[38;5;241;43m.\u001b[39;49m\u001b[43mexecute\u001b[49m\u001b[43m(\u001b[49m\n\u001b[1;32m    500\u001b[0m \u001b[43m        \u001b[49m\u001b[38;5;28;43mstr\u001b[39;49m\u001b[43m(\u001b[49m\u001b[38;5;28;43mself\u001b[39;49m\u001b[38;5;241;43m.\u001b[39;49m\u001b[43msignature\u001b[49m\u001b[38;5;241;43m.\u001b[39;49m\u001b[43mname\u001b[49m\u001b[43m)\u001b[49m\u001b[43m,\u001b[49m\n\u001b[1;32m    501\u001b[0m \u001b[43m        \u001b[49m\u001b[43mnum_outputs\u001b[49m\u001b[38;5;241;43m=\u001b[39;49m\u001b[38;5;28;43mself\u001b[39;49m\u001b[38;5;241;43m.\u001b[39;49m\u001b[43m_num_outputs\u001b[49m\u001b[43m,\u001b[49m\n\u001b[1;32m    502\u001b[0m \u001b[43m        \u001b[49m\u001b[43minputs\u001b[49m\u001b[38;5;241;43m=\u001b[39;49m\u001b[43margs\u001b[49m\u001b[43m,\u001b[49m\n\u001b[1;32m    503\u001b[0m \u001b[43m        \u001b[49m\u001b[43mattrs\u001b[49m\u001b[38;5;241;43m=\u001b[39;49m\u001b[43mattrs\u001b[49m\u001b[43m,\u001b[49m\n\u001b[1;32m    504\u001b[0m \u001b[43m        \u001b[49m\u001b[43mctx\u001b[49m\u001b[38;5;241;43m=\u001b[39;49m\u001b[43mctx\u001b[49m\u001b[43m)\u001b[49m\n\u001b[1;32m    505\u001b[0m   \u001b[38;5;28;01melse\u001b[39;00m:\n\u001b[1;32m    506\u001b[0m     outputs \u001b[38;5;241m=\u001b[39m execute\u001b[38;5;241m.\u001b[39mexecute_with_cancellation(\n\u001b[1;32m    507\u001b[0m         \u001b[38;5;28mstr\u001b[39m(\u001b[38;5;28mself\u001b[39m\u001b[38;5;241m.\u001b[39msignature\u001b[38;5;241m.\u001b[39mname),\n\u001b[1;32m    508\u001b[0m         num_outputs\u001b[38;5;241m=\u001b[39m\u001b[38;5;28mself\u001b[39m\u001b[38;5;241m.\u001b[39m_num_outputs,\n\u001b[0;32m   (...)\u001b[0m\n\u001b[1;32m    511\u001b[0m         ctx\u001b[38;5;241m=\u001b[39mctx,\n\u001b[1;32m    512\u001b[0m         cancellation_manager\u001b[38;5;241m=\u001b[39mcancellation_manager)\n",
      "File \u001b[0;32m~/.pyenv/versions/3.10.6/envs/lewagon/lib/python3.10/site-packages/tensorflow/python/eager/execute.py:54\u001b[0m, in \u001b[0;36mquick_execute\u001b[0;34m(op_name, num_outputs, inputs, attrs, ctx, name)\u001b[0m\n\u001b[1;32m     52\u001b[0m \u001b[38;5;28;01mtry\u001b[39;00m:\n\u001b[1;32m     53\u001b[0m   ctx\u001b[38;5;241m.\u001b[39mensure_initialized()\n\u001b[0;32m---> 54\u001b[0m   tensors \u001b[38;5;241m=\u001b[39m \u001b[43mpywrap_tfe\u001b[49m\u001b[38;5;241;43m.\u001b[39;49m\u001b[43mTFE_Py_Execute\u001b[49m\u001b[43m(\u001b[49m\u001b[43mctx\u001b[49m\u001b[38;5;241;43m.\u001b[39;49m\u001b[43m_handle\u001b[49m\u001b[43m,\u001b[49m\u001b[43m \u001b[49m\u001b[43mdevice_name\u001b[49m\u001b[43m,\u001b[49m\u001b[43m \u001b[49m\u001b[43mop_name\u001b[49m\u001b[43m,\u001b[49m\n\u001b[1;32m     55\u001b[0m \u001b[43m                                      \u001b[49m\u001b[43minputs\u001b[49m\u001b[43m,\u001b[49m\u001b[43m \u001b[49m\u001b[43mattrs\u001b[49m\u001b[43m,\u001b[49m\u001b[43m \u001b[49m\u001b[43mnum_outputs\u001b[49m\u001b[43m)\u001b[49m\n\u001b[1;32m     56\u001b[0m \u001b[38;5;28;01mexcept\u001b[39;00m core\u001b[38;5;241m.\u001b[39m_NotOkStatusException \u001b[38;5;28;01mas\u001b[39;00m e:\n\u001b[1;32m     57\u001b[0m   \u001b[38;5;28;01mif\u001b[39;00m name \u001b[38;5;129;01mis\u001b[39;00m \u001b[38;5;129;01mnot\u001b[39;00m \u001b[38;5;28;01mNone\u001b[39;00m:\n",
      "\u001b[0;31mKeyboardInterrupt\u001b[0m: "
     ]
    }
   ],
   "source": [
    "MODEL = \"DeepLab_Res50_ImageNet_img_256pix\"\n",
    "\n",
    "modelCheckpoint = callbacks.ModelCheckpoint(\"{}.h5\".format(MODEL),\n",
    "                                            monitor=\"val_iou_score\",\n",
    "                                            save_best_only = False)\n",
    "\n",
    "LR_reducer = callbacks.ReduceLROnPlateau(patience = 3,\n",
    "                                         monitor=\"val_iou_score\",\n",
    "                                         factor = 0.1,\n",
    "                                         min_lr = 0\n",
    "                                        )\n",
    "\n",
    "early_stopper = callbacks.EarlyStopping(patience = 5,\n",
    "                                        monitor=\"val_iou_score\",\n",
    "                                        restore_best_weights=True)\n",
    "\n",
    "\n",
    "\n",
    "deep_history = deep_model.fit(traingen,\n",
    "          validation_data=valgen,\n",
    "          epochs=100,\n",
    "          callbacks = [modelCheckpoint, LR_reducer, early_stopper],\n",
    "          verbose=1)"
   ]
  },
  {
   "cell_type": "code",
   "execution_count": null,
   "id": "350e24c7",
   "metadata": {
    "collapsed": true
   },
   "outputs": [],
   "source": [
    "\n",
    "plt.plot(history.history[\"loss\"])\n",
    "plt.title(\"Training Loss\")\n",
    "plt.ylabel(\"loss\")\n",
    "plt.xlabel(\"epoch\")\n",
    "plt.show()\n",
    "\n",
    "plt.plot(history.history[\"accuracy\"])\n",
    "plt.title(\"Training Accuracy\")\n",
    "plt.ylabel(\"accuracy\")\n",
    "plt.xlabel(\"epoch\")\n",
    "plt.show()\n",
    "\n",
    "plt.plot(history.history[\"val_loss\"])\n",
    "plt.title(\"Validation Loss\")\n",
    "plt.ylabel(\"val_loss\")\n",
    "plt.xlabel(\"epoch\")\n",
    "plt.show()\n",
    "\n",
    "plt.plot(history.history[\"val_accuracy\"])\n",
    "plt.title(\"Validation Accuracy\")\n",
    "plt.ylabel(\"val_accuracy\")\n",
    "plt.xlabel(\"epoch\")\n",
    "plt.show()"
   ]
  },
  {
   "cell_type": "code",
   "execution_count": null,
   "id": "8ddc483d",
   "metadata": {
    "collapsed": true
   },
   "outputs": [],
   "source": []
  },
  {
   "cell_type": "markdown",
   "id": "362535d9",
   "metadata": {},
   "source": [
    "### Creating Train and val data generator"
   ]
  },
  {
   "cell_type": "code",
   "execution_count": 53,
   "id": "2976c463",
   "metadata": {
    "collapsed": true
   },
   "outputs": [],
   "source": [
    "# Split train and validation datasets\n",
    "#X_train, X_test, y_train, y_test = train_test_split(#X,#y, output_targets, test_size = 0.2, random_state = 42)"
   ]
  },
  {
   "cell_type": "code",
   "execution_count": 54,
   "id": "79185cd7",
   "metadata": {
    "collapsed": true
   },
   "outputs": [],
   "source": [
    "#len(lab_names)"
   ]
  },
  {
   "cell_type": "code",
   "execution_count": 55,
   "id": "83f66456",
   "metadata": {
    "collapsed": true
   },
   "outputs": [],
   "source": [
    "#len(img_names)"
   ]
  },
  {
   "cell_type": "code",
   "execution_count": 18,
   "id": "db145832",
   "metadata": {},
   "outputs": [],
   "source": [
    "# Some inputs\n",
    "#image_size = (256,256,3)\n",
    "batch_size = 16\n",
    "num_classes = 5\n",
    "input_shape = (256,256,3)\n",
    "split_percent = 0.8"
   ]
  },
  {
   "cell_type": "code",
   "execution_count": 9,
   "id": "04670f6c",
   "metadata": {
    "collapsed": true
   },
   "outputs": [],
   "source": [
    "# image and label directories paths\n",
    "#dataset_path = \"/home/gargantua/code/TigerManon/08-Palette/ai4mars-dataset-merged-0.1/msl\"\n",
    "image_folder = \"/home/gargantua/code/TigerManon/08-Palette/ai4mars-dataset-merged-0.1/msl/images/edr\"\n",
    "label_folder = \"/home/gargantua/code/TigerManon/08-Palette/ai4mars-dataset-merged-0.1/msl/labels/train\""
   ]
  },
  {
   "cell_type": "code",
   "execution_count": 21,
   "id": "9165f0b7",
   "metadata": {},
   "outputs": [],
   "source": [
    "# Train dataset generator and validation dataset generator\n",
    "traingen = UnetDataGenerator(image_folder,\n",
    "                             label_folder,\n",
    "                             input_shape,                        \n",
    "                             batch_size,\n",
    "                             num_classes,\n",
    "                             \"train\",\n",
    "                             split_percent)\n",
    "\n",
    "valgen = UnetDataGenerator(image_folder,\n",
    "                           label_folder,\n",
    "                           input_shape,                        \n",
    "                           batch_size,\n",
    "                           num_classes,\n",
    "                           \"val\",\n",
    "                           split_percent)\n"
   ]
  },
  {
   "cell_type": "markdown",
   "id": "f3391727",
   "metadata": {},
   "source": [
    "### Base Model Training"
   ]
  },
  {
   "cell_type": "code",
   "execution_count": 32,
   "id": "2d70c3a1",
   "metadata": {
    "scrolled": false
   },
   "outputs": [
    {
     "name": "stdout",
     "output_type": "stream",
     "text": [
      "Length of generator: 0\n",
      "Length of generator: 0\n",
      "Length of generator: 0\n"
     ]
    },
    {
     "ename": "ValueError",
     "evalue": "Unexpected result of `train_function` (Empty logs). Please use `Model.compile(..., run_eagerly=True)`, or `tf.config.run_functions_eagerly(True)` for more information of where went wrong, or file a issue/bug to `tf.keras`.",
     "output_type": "error",
     "traceback": [
      "\u001b[0;31m---------------------------------------------------------------------------\u001b[0m",
      "\u001b[0;31mValueError\u001b[0m                                Traceback (most recent call last)",
      "File \u001b[0;32m<timed exec>:5\u001b[0m\n",
      "File \u001b[0;32m~/.pyenv/versions/3.10.6/envs/lewagon/lib/python3.10/site-packages/keras/utils/traceback_utils.py:70\u001b[0m, in \u001b[0;36mfilter_traceback.<locals>.error_handler\u001b[0;34m(*args, **kwargs)\u001b[0m\n\u001b[1;32m     67\u001b[0m     filtered_tb \u001b[38;5;241m=\u001b[39m _process_traceback_frames(e\u001b[38;5;241m.\u001b[39m__traceback__)\n\u001b[1;32m     68\u001b[0m     \u001b[38;5;66;03m# To get the full stack trace, call:\u001b[39;00m\n\u001b[1;32m     69\u001b[0m     \u001b[38;5;66;03m# `tf.debugging.disable_traceback_filtering()`\u001b[39;00m\n\u001b[0;32m---> 70\u001b[0m     \u001b[38;5;28;01mraise\u001b[39;00m e\u001b[38;5;241m.\u001b[39mwith_traceback(filtered_tb) \u001b[38;5;28;01mfrom\u001b[39;00m \u001b[38;5;28mNone\u001b[39m\n\u001b[1;32m     71\u001b[0m \u001b[38;5;28;01mfinally\u001b[39;00m:\n\u001b[1;32m     72\u001b[0m     \u001b[38;5;28;01mdel\u001b[39;00m filtered_tb\n",
      "File \u001b[0;32m~/.pyenv/versions/3.10.6/envs/lewagon/lib/python3.10/site-packages/keras/engine/training.py:1576\u001b[0m, in \u001b[0;36mModel.fit\u001b[0;34m(self, x, y, batch_size, epochs, verbose, callbacks, validation_split, validation_data, shuffle, class_weight, sample_weight, initial_epoch, steps_per_epoch, validation_steps, validation_batch_size, validation_freq, max_queue_size, workers, use_multiprocessing)\u001b[0m\n\u001b[1;32m   1574\u001b[0m logs \u001b[38;5;241m=\u001b[39m tf_utils\u001b[38;5;241m.\u001b[39msync_to_numpy_or_python_type(logs)\n\u001b[1;32m   1575\u001b[0m \u001b[38;5;28;01mif\u001b[39;00m logs \u001b[38;5;129;01mis\u001b[39;00m \u001b[38;5;28;01mNone\u001b[39;00m:\n\u001b[0;32m-> 1576\u001b[0m     \u001b[38;5;28;01mraise\u001b[39;00m \u001b[38;5;167;01mValueError\u001b[39;00m(\n\u001b[1;32m   1577\u001b[0m         \u001b[38;5;124m\"\u001b[39m\u001b[38;5;124mUnexpected result of `train_function` \u001b[39m\u001b[38;5;124m\"\u001b[39m\n\u001b[1;32m   1578\u001b[0m         \u001b[38;5;124m\"\u001b[39m\u001b[38;5;124m(Empty logs). Please use \u001b[39m\u001b[38;5;124m\"\u001b[39m\n\u001b[1;32m   1579\u001b[0m         \u001b[38;5;124m\"\u001b[39m\u001b[38;5;124m`Model.compile(..., run_eagerly=True)`, or \u001b[39m\u001b[38;5;124m\"\u001b[39m\n\u001b[1;32m   1580\u001b[0m         \u001b[38;5;124m\"\u001b[39m\u001b[38;5;124m`tf.config.run_functions_eagerly(True)` for more \u001b[39m\u001b[38;5;124m\"\u001b[39m\n\u001b[1;32m   1581\u001b[0m         \u001b[38;5;124m\"\u001b[39m\u001b[38;5;124minformation of where went wrong, or file a \u001b[39m\u001b[38;5;124m\"\u001b[39m\n\u001b[1;32m   1582\u001b[0m         \u001b[38;5;124m\"\u001b[39m\u001b[38;5;124missue/bug to `tf.keras`.\u001b[39m\u001b[38;5;124m\"\u001b[39m\n\u001b[1;32m   1583\u001b[0m     )\n\u001b[1;32m   1584\u001b[0m epoch_logs \u001b[38;5;241m=\u001b[39m copy\u001b[38;5;241m.\u001b[39mcopy(logs)\n\u001b[1;32m   1586\u001b[0m \u001b[38;5;66;03m# Run validation.\u001b[39;00m\n",
      "\u001b[0;31mValueError\u001b[0m: Unexpected result of `train_function` (Empty logs). Please use `Model.compile(..., run_eagerly=True)`, or `tf.config.run_functions_eagerly(True)` for more information of where went wrong, or file a issue/bug to `tf.keras`."
     ]
    }
   ],
   "source": [
    "%%time\n",
    "es = callbacks.EarlyStopping(patience=2,restore_best_weights=True)\n",
    "#modelCheckpoint = callbacks.ModelCheckpoint(\"{}.h5\".format('First_model'), monitor=\"val_loss\", verbose=0, save_best_only=False)\n",
    "\n",
    "\n",
    "history = model.fit(traingen,\n",
    "          validation_data=valgen,\n",
    "          epochs=1,\n",
    "          callbacks=[es],\n",
    "          verbose=1)  "
   ]
  },
  {
   "cell_type": "code",
   "execution_count": 66,
   "id": "7eb721b6",
   "metadata": {
    "collapsed": true
   },
   "outputs": [
    {
     "data": {
      "text/plain": [
       "{'loss': [1.1562952995300293],\n",
       " 'iou_score': [0.2526222765445709],\n",
       " 'val_loss': [0.9600193500518799],\n",
       " 'val_iou_score': [0.3342071771621704]}"
      ]
     },
     "execution_count": 66,
     "metadata": {},
     "output_type": "execute_result"
    }
   ],
   "source": [
    "history.history"
   ]
  },
  {
   "cell_type": "code",
   "execution_count": 65,
   "id": "e7932b3b",
   "metadata": {
    "collapsed": true
   },
   "outputs": [
    {
     "data": {
      "image/png": "[encoded data removed]",
      "text/plain": [
       "<Figure size 1200x400 with 2 Axes>"
      ]
     },
     "metadata": {},
     "output_type": "display_data"
    }
   ],
   "source": [
    "def plot_history(history, title='', axs=None, exp_name=\"\"):\n",
    "    if axs is not None:\n",
    "        ax1, ax2 = axs\n",
    "    else:\n",
    "        f, (ax1, ax2) = plt.subplots(1, 2, figsize=(12, 4))\n",
    "\n",
    "    if len(exp_name) > 0 and exp_name[0] != '_':\n",
    "        exp_name = '_' + exp_name\n",
    "    ax1.plot(history.history['loss'], label = 'train' + exp_name)\n",
    "    ax1.plot(history.history['val_loss'], label = 'val' + exp_name)\n",
    "    ax1.set_ylim(0., 2.2)\n",
    "    ax1.set_title('loss')\n",
    "    ax1.legend()\n",
    "\n",
    "    ax2.plot(history.history['iou_score'], label='train iou'  + exp_name)\n",
    "    ax2.plot(history.history['val_iou_score'], label='val iou'  + exp_name)\n",
    "    ax2.set_ylim(0, 0.5)\n",
    "    ax2.set_title('iou')\n",
    "    ax2.legend()\n",
    "    plt.show()\n",
    "    \n",
    "plot_history(history)"
   ]
  },
  {
   "cell_type": "markdown",
   "id": "f29e5141",
   "metadata": {},
   "source": [
    "### Pre-trained Model Training"
   ]
  },
  {
   "cell_type": "code",
   "execution_count": 13,
   "id": "e13e9294",
   "metadata": {
    "collapsed": true
   },
   "outputs": [
    {
     "name": "stdout",
     "output_type": "stream",
     "text": [
      "Length of generator: 3213\n",
      "Length of generator: 12851\n",
      "Length of generator: 12851\n",
      "Length of generator: 12851\n",
      "804/804 [==============================] - ETA: 0s - loss: 0.7836 - accuracy: 0.7718 - iou_score: 0.4537Length of generator: 3213\n",
      "Length of generator: 3213\n",
      "Length of generator: 3213\n",
      "Length of generator: 3213\n",
      "804/804 [==============================] - 3224s 4s/step - loss: 0.7836 - accuracy: 0.7718 - iou_score: 0.4537 - val_loss: 1.1356 - val_accuracy: 0.5943 - val_iou_score: 0.3182\n",
      "CPU times: user 4h 25min 40s, sys: 2min 35s, total: 4h 28min 16s\n",
      "Wall time: 53min 44s\n"
     ]
    }
   ],
   "source": [
    "%%time\n",
    "es = callbacks.EarlyStopping(patience=2,restore_best_weights=True)\n",
    "#modelCheckpoint = callbacks.ModelCheckpoint(\"{}.h5\".format('First_model'), monitor=\"val_loss\", verbose=0, save_best_only=False)\n",
    "\n",
    "history_res_backbone=model_resnet_backbone.fit(traingen,\n",
    "          validation_data=valgen,\n",
    "          epochs=1,\n",
    "          callbacks=[es],\n",
    "          verbose=1)"
   ]
  },
  {
   "cell_type": "code",
   "execution_count": 14,
   "id": "3468461b",
   "metadata": {
    "collapsed": true
   },
   "outputs": [
    {
     "data": {
      "text/plain": [
       "{'loss': [0.7836280465126038],\n",
       " 'accuracy': [0.7717849016189575],\n",
       " 'iou_score': [0.4537050127983093],\n",
       " 'val_loss': [1.1355903148651123],\n",
       " 'val_accuracy': [0.5942847728729248],\n",
       " 'val_iou_score': [0.31823378801345825]}"
      ]
     },
     "execution_count": 14,
     "metadata": {},
     "output_type": "execute_result"
    }
   ],
   "source": [
    "history_res_backbone.history"
   ]
  },
  {
   "cell_type": "code",
   "execution_count": 18,
   "id": "7bf7f449",
   "metadata": {
    "collapsed": true
   },
   "outputs": [
    {
     "data": {
      "image/png": "[encoded data removed]",
      "text/plain": [
       "<Figure size 1200x400 with 2 Axes>"
      ]
     },
     "metadata": {},
     "output_type": "display_data"
    }
   ],
   "source": [
    "def plot_history(history_res_backbone, title='', axs=None, exp_name=\"\"):\n",
    "    if axs is not None:\n",
    "        ax1, ax2 = axs\n",
    "    else:\n",
    "        f, (ax1, ax2) = plt.subplots(1, 2, figsize=(12, 4))\n",
    "\n",
    "    if len(exp_name) > 0 and exp_name[0] != '_':\n",
    "        exp_name = '_' + exp_name\n",
    "    ax1.plot(history_res_backbone.history['loss'], label = 'train' + exp_name)\n",
    "    ax1.plot(history_res_backbone.history['val_loss'], label = 'val' + exp_name)\n",
    "    ax1.set_ylim(0., 2.2)\n",
    "    ax1.set_title('loss')\n",
    "    ax1.legend()\n",
    "\n",
    "    ax2.plot(history_res_backbone.history['iou_score'], label='train iou'  + exp_name)\n",
    "    ax2.plot(history_res_backbone.history['val_iou_score'], label='val iou'  + exp_name)\n",
    "    ax2.set_ylim(0, 0.5)\n",
    "    ax2.set_title('iou')\n",
    "    ax2.legend()\n",
    "    plt.show()\n",
    "    \n",
    "plot_history(history_res_backbone)"
   ]
  },
  {
   "cell_type": "code",
   "execution_count": 19,
   "id": "afa8b2c7",
   "metadata": {
    "collapsed": true
   },
   "outputs": [
    {
     "data": {
      "image/png": "[encoded data removed]",
      "text/plain": [
       "<Figure size 1200x400 with 2 Axes>"
      ]
     },
     "metadata": {},
     "output_type": "display_data"
    }
   ],
   "source": [
    "plot_history(history_res_backbone)"
   ]
  },
  {
   "cell_type": "markdown",
   "id": "23b73b8b",
   "metadata": {},
   "source": [
    "## Prediction"
   ]
  },
  {
   "cell_type": "code",
   "execution_count": null,
   "id": "1ae76b9c",
   "metadata": {
    "collapsed": true
   },
   "outputs": [],
   "source": [
    " \n",
    "# Load the image \n",
    "img = Image.open('cat.png') \n",
    "# Preprocess the image \n",
    "img = img.resize((256, 256)) \n",
    "img_array = image.img_to_array(img) \n",
    "img_array = np.expand_dims(img_array[:,:,:3], axis=0) \n",
    "img_array = img_array / 255.\n",
    "  \n",
    "# Load the model \n",
    "model = unet_model(input_shape=(256, 256, 3), num_classes=5) \n",
    "  \n",
    "# Make predictions \n",
    "predictions = model.predict(img_array) \n",
    "  \n",
    "# Convert predictions to a numpy array and resize to original image size \n",
    "predictions = np.squeeze(predictions, axis=0) \n",
    "predictions = np.argmax(predictions, axis=-1) \n",
    "predictions = Image.fromarray(np.uint8(predictions*255)) \n",
    "predictions = predictions.resize((img.width, img.height)) \n",
    "  \n",
    "# Save the predicted image \n",
    "predictions.save('predicted_image.jpg') \n",
    "predictions"
   ]
  },
  {
   "cell_type": "code",
   "execution_count": null,
   "id": "221dd123",
   "metadata": {
    "collapsed": true
   },
   "outputs": [],
   "source": [
    "def iou_score(gt, pr, class_weights=1., class_indexes=None, smooth=SMOOTH, per_image=False, threshold=None, **kwargs):\n",
    "    r\"\"\" The `Jaccard index`_, also known as Intersection over Union and the Jaccard similarity coefficient\n",
    "    (originally coined coefficient de communauté by Paul Jaccard), is a statistic used for comparing the\n",
    "    similarity and diversity of sample sets. The Jaccard coefficient measures similarity between finite sample sets,\n",
    "    and is defined as the size of the intersection divided by the size of the union of the sample sets:\n",
    "\n",
    "    .. math:: J(A, B) = \\frac{A \\cap B}{A \\cup B}\n",
    "\n",
    "    Args:\n",
    "        gt: ground truth 4D keras tensor (B, H, W, C) or (B, C, H, W)\n",
    "        pr: prediction 4D keras tensor (B, H, W, C) or (B, C, H, W)\n",
    "        class_weights: 1. or list of class weights, len(weights) = C\n",
    "        class_indexes: Optional integer or list of integers, classes to consider, if ``None`` all classes are used.\n",
    "        smooth: value to avoid division by zero\n",
    "        per_image: if ``True``, metric is calculated as mean over images in batch (B),\n",
    "            else over whole batch\n",
    "        threshold: value to round predictions (use ``>`` comparison), if ``None`` prediction will not be round\n",
    "\n",
    "    Returns:\n",
    "        IoU/Jaccard score in range [0, 1]\n",
    "\n",
    "    .. _`Jaccard index`: https://en.wikipedia.org/wiki/Jaccard_index\n",
    "\n",
    "    \"\"\"\n",
    "\n",
    "    backend = kwargs['backend']\n",
    "\n",
    "    gt, pr = gather_channels(gt, pr, indexes=class_indexes, **kwargs)\n",
    "    pr = round_if_needed(pr, threshold, **kwargs)\n",
    "    axes = get_reduce_axes(per_image, **kwargs)\n",
    "\n",
    "    # score calculation\n",
    "    intersection = backend.sum(gt * pr, axis=axes)\n",
    "    union = backend.sum(gt + pr, axis=axes) - intersection\n",
    "\n",
    "    score = (intersection + smooth) / (union + smooth)\n",
    "    score = average(score, per_image, class_weights, **kwargs)\n",
    "\n",
    "    return score\n"
   ]
  },
  {
   "cell_type": "code",
   "execution_count": null,
   "id": "05b00792",
   "metadata": {
    "collapsed": true
   },
   "outputs": [],
   "source": [
    "import numpy as np\n",
    "\n",
    "def iou_score(pred_mask, true_mask):\n",
    "    \"\"\"\n",
    "    \n",
    "    :param pred_mask:  (height, width, num_classes)\n",
    "    :param true_mask:  (height, width, num_classes)\n",
    "    :return: IOU of each class\n",
    "    \"\"\"\n",
    "    ious = []\n",
    "    for c in range(pred_mask.shape[-1]): \n",
    "\n",
    "        pred_c = pred_mask[..., c]\n",
    "        true_c = true_mask[..., c]\n",
    "\n",
    "        intersection = np.logical_and(pred_c, true_c)\n",
    "        union = np.logical_or(pred_c, true_c)\n",
    "\n",
    "        # 计算 IOU\n",
    "        if np.sum(union) == 0:\n",
    "            iou = 0\n",
    "        else:\n",
    "            iou = np.sum(intersection) / np.sum(union)\n",
    "\n",
    "        ious.append(iou)\n",
    "    \n",
    "    return ious\n"
   ]
  },
  {
   "cell_type": "code",
   "execution_count": null,
   "id": "d24c33e5",
   "metadata": {
    "collapsed": true
   },
   "outputs": [],
   "source": [
    "\n",
    "iou_scores = iou_score(pred_mask, true_mask)\n",
    "\n",
    "for i, iou in enumerate(iou_scores):\n",
    "    print(f\"Class {i} IOU Score: {iou}\")\n"
   ]
  },
  {
   "cell_type": "code",
   "execution_count": null,
   "id": "0c9d2554",
   "metadata": {
    "collapsed": true
   },
   "outputs": [],
   "source": [
    "import numpy as np\n",
    "\n",
    "def mean_iou_score(pred_mask, true_mask):\n",
    "    \"\"\"\n",
    "   :param pred_mask:  (height, width, num_classes)\n",
    "    :param true_mask:  (height, width, num_classes)\n",
    "    :return: IOU of all classes\n",
    "    \"\"\"\n",
    "    total_intersection = 0\n",
    "    total_union = 0\n",
    "    \n",
    "    for c in range(pred_mask.shape[-1]):  \n",
    "        \n",
    "        pred_c = pred_mask[..., c]\n",
    "        true_c = true_mask[..., c]\n",
    "\n",
    "        intersection = np.logical_and(pred_c, true_c)\n",
    "        union = np.logical_or(pred_c, true_c)\n",
    "\n",
    "        total_intersection += np.sum(intersection)\n",
    "        total_union += np.sum(union)\n",
    "\n",
    "    if total_union == 0:\n",
    "\n",
    "        mean_iou = 0\n",
    "    else:\n",
    "        mean_iou = total_intersection / total_union\n",
    "    \n",
    "    return mean_iou\n"
   ]
  },
  {
   "cell_type": "code",
   "execution_count": null,
   "id": "926b8c9c",
   "metadata": {},
   "outputs": [],
   "source": [
    "import numpy as np\n",
    "\n",
    "def one_hot_encode(mask, num_classes):\n",
    "    \"\"\"\n",
    "    将单通道的类别掩码转换为多通道的二进制形式。\n",
    "    \n",
    "    :param mask: 单通道掩码，每个像素值代表类别编号\n",
    "    :param num_classes: 类别总数\n",
    "    :return: 多通道的二进制掩码\n",
    "    \"\"\"\n",
    "    return np.eye(num_classes)[mask]\n",
    "\n",
    "def mean_iou_score(pred_mask, true_mask, num_classes):\n",
    "    \"\"\"\n",
    "    计算预测掩码和真实掩码之间的平均 IOU 分数。\n",
    "    \n",
    "    :param pred_mask: 预测掩码，单通道，每个像素值代表类别编号\n",
    "    :param true_mask: 真实掩码，单通道，每个像素值代表类别编号\n",
    "    :param num_classes: 类别总数\n",
    "    :return: 所有类别的平均 IOU 分数\n",
    "    \"\"\"\n",
    "    # 将单通道掩码转换为多通道二进制形式\n",
    "    pred_mask_one_hot = one_hot_encode(pred_mask, num_classes)\n",
    "    true_mask_one_hot = one_hot_encode(true_mask, num_classes)\n",
    "\n",
    "    total_intersection = 0\n",
    "    total_union = 0\n",
    "\n",
    "    for c in range(num_classes):  # 遍历每个类别\n",
    "        pred_c = pred_mask_one_hot[..., c]\n",
    "        true_c = true_mask_one_hot[..., c]\n",
    "\n",
    "        intersection = np.logical_and(pred_c, true_c)\n",
    "        union = np.logical_or(pred_c, true_c)\n",
    "\n",
    "        total_intersection += np.sum(intersection)\n",
    "        total_union += np.sum(union)\n",
    "\n",
    "    if total_union == 0:\n",
    "        mean_iou = 0\n",
    "    else:\n",
    "        mean_iou = total_intersection / total_union\n",
    "    \n",
    "    return mean_iou\n"
   ]
  },
  {
   "cell_type": "code",
   "execution_count": null,
   "id": "0c71a56e",
   "metadata": {},
   "outputs": [],
   "source": []
  },
  {
   "cell_type": "code",
   "execution_count": null,
   "id": "dc60bd43",
   "metadata": {},
   "outputs": [],
   "source": []
  }
 ],
 "metadata": {
  "kernelspec": {
   "display_name": "Python 3 (ipykernel)",
   "language": "python",
   "name": "python3"
  },
  "language_info": {
   "codemirror_mode": {
    "name": "ipython",
    "version": 3
   },
   "file_extension": ".py",
   "mimetype": "text/x-python",
   "name": "python",
   "nbconvert_exporter": "python",
   "pygments_lexer": "ipython3",
   "version": "3.10.6"
  },
  "toc": {
   "base_numbering": 1,
   "nav_menu": {},
   "number_sections": true,
   "sideBar": true,
   "skip_h1_title": false,
   "title_cell": "Table of Contents",
   "title_sidebar": "Contents",
   "toc_cell": false,
   "toc_position": {},
   "toc_section_display": true,
   "toc_window_display": false
  }
 },
 "nbformat": 4,
 "nbformat_minor": 5
}
