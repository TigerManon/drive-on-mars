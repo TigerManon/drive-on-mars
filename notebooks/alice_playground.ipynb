{
 "cells": [
  {
   "cell_type": "code",
   "execution_count": 1,
   "id": "18d815d2",
   "metadata": {},
   "outputs": [],
   "source": [
    "%load_ext autoreload\n",
    "%autoreload 2"
   ]
  },
  {
   "cell_type": "code",
   "execution_count": 2,
   "id": "8f78d86d",
   "metadata": {},
   "outputs": [],
   "source": [
    "from drive_on_mars.params import *\n",
    "\n",
    "from drive_on_mars.model.data import create_df, load_images\n"
   ]
  },
  {
   "cell_type": "code",
   "execution_count": 3,
   "id": "9546c0f6",
   "metadata": {},
   "outputs": [
    {
     "name": "stdout",
     "output_type": "stream",
     "text": [
      "No range mask found for NLB_432655207EDR_F0160148NCAM00394M1\n",
      "CPU times: user 86.9 ms, sys: 511 ms, total: 598 ms\n",
      "Wall time: 1.28 s\n"
     ]
    }
   ],
   "source": [
    "%%time\n",
    "df = create_df(MASK_PATH_TRAIN)"
   ]
  },
  {
   "cell_type": "code",
   "execution_count": 5,
   "id": "8e2b8907",
   "metadata": {},
   "outputs": [
    {
     "name": "stdout",
     "output_type": "stream",
     "text": [
      "No range mask found for NLB_432655207EDR_F0160148NCAM00394M1\n",
      "✅ loaded raw images and labels\n",
      "✅ decomposed labels into binary masks\n",
      "(100, 1024, 1024) (100, 1024, 1024, 5)\n",
      "CPU times: user 2.99 s, sys: 4.55 s, total: 7.54 s\n",
      "Wall time: 9.49 s\n"
     ]
    }
   ],
   "source": [
    "%%time\n",
    "\n",
    "small_dataset = 100\n",
    "\n",
    "df_train = create_df(MASK_PATH_TRAIN)\n",
    "df_train = df_train.iloc[:small_dataset]\n",
    "\n",
    "X_train, y_train = load_images(df_train)\n",
    "print(X_train.shape, y_train.shape)"
   ]
  },
  {
   "cell_type": "code",
   "execution_count": null,
   "id": "e984d955",
   "metadata": {},
   "outputs": [],
   "source": []
  },
  {
   "cell_type": "code",
   "execution_count": 5,
   "id": "a55fbb82",
   "metadata": {},
   "outputs": [
    {
     "name": "stdout",
     "output_type": "stream",
     "text": [
      "Found 0 images belonging to 0 classes.\n"
     ]
    }
   ],
   "source": [
    "from tensorflow.keras.preprocessing.image import ImageDataGenerator\n",
    "\n",
    "\n",
    "data_dir = IMAGE_PATH\n",
    "batch_size = 32\n",
    "\n",
    "# Create an ImageDataGenerator for data augmentation\n",
    "image_generator = ImageDataGenerator(\n",
    "    rescale=1./255,\n",
    "    # Add other augmentation parameters as needed\n",
    ")\n",
    "\n",
    "# Create an ImageDataGenerator for labels (if needed)\n",
    "label_generator = ImageDataGenerator()\n",
    "\n",
    "# Create the data generator for images\n",
    "image_data_gen = image_generator.flow_from_directory(\n",
    "    data_dir,\n",
    "    target_size=(224, 224),  # Adjust the target size as needed\n",
    "    batch_size=batch_size,\n",
    "    class_mode=None,  # This means no class labels (we are using custom labels)\n",
    "    shuffle=True,\n",
    "    seed=42\n",
    ")\n"
   ]
  },
  {
   "cell_type": "code",
   "execution_count": 6,
   "id": "73b13f14",
   "metadata": {},
   "outputs": [
    {
     "data": {
      "text/plain": [
       "'/Users/aliceallafort/code/TigerManon/drive-on-mars/raw_data/ai4mars-dataset-merged-0.1/msl/images/edr'"
      ]
     },
     "execution_count": 6,
     "metadata": {},
     "output_type": "execute_result"
    }
   ],
   "source": [
    "IMAGE_PATH"
   ]
  },
  {
   "cell_type": "code",
   "execution_count": null,
   "id": "8c52330f",
   "metadata": {},
   "outputs": [],
   "source": []
  }
 ],
 "metadata": {
  "kernelspec": {
   "display_name": "Python 3 (ipykernel)",
   "language": "python",
   "name": "python3"
  },
  "language_info": {
   "codemirror_mode": {
    "name": "ipython",
    "version": 3
   },
   "file_extension": ".py",
   "mimetype": "text/x-python",
   "name": "python",
   "nbconvert_exporter": "python",
   "pygments_lexer": "ipython3",
   "version": "3.10.6"
  },
  "toc": {
   "base_numbering": 1,
   "nav_menu": {},
   "number_sections": true,
   "sideBar": true,
   "skip_h1_title": false,
   "title_cell": "Table of Contents",
   "title_sidebar": "Contents",
   "toc_cell": false,
   "toc_position": {},
   "toc_section_display": true,
   "toc_window_display": false
  }
 },
 "nbformat": 4,
 "nbformat_minor": 5
}
