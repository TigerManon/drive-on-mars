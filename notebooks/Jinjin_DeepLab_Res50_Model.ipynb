{
 "cells": [
  {
   "cell_type": "markdown",
   "id": "0Tw1Co8AJn8g",
   "metadata": {
    "id": "0Tw1Co8AJn8g"
   },
   "source": [
    "# Loading code and data"
   ]
  },
  {
   "cell_type": "markdown",
   "id": "zf7OJapVZoYf",
   "metadata": {
    "id": "zf7OJapVZoYf"
   },
   "source": [
    "## When loading notebook for the first time:"
   ]
  },
  {
   "cell_type": "code",
   "execution_count": null,
   "id": "Mg-t0ddTD9Ei",
   "metadata": {
    "colab": {
     "base_uri": "https://localhost:8080/"
    },
    "executionInfo": {
     "elapsed": 48533,
     "status": "ok",
     "timestamp": 1702318759080,
     "user": {
      "displayName": "Martien Pilots",
      "userId": "08389853870944120926"
     },
     "user_tz": -60
    },
    "id": "Mg-t0ddTD9Ei",
    "outputId": "d2ee0cb8-f50b-4762-ed4b-c1ec714d29cd"
   },
   "outputs": [],
   "source": [
    "from google.colab import drive\n",
    "drive.mount(\"/content/drive\", force_remount=True)"
   ]
  },
  {
   "cell_type": "code",
   "execution_count": null,
   "id": "9mhBcLrMBaOq",
   "metadata": {
    "executionInfo": {
     "elapsed": 3,
     "status": "ok",
     "timestamp": 1702318759080,
     "user": {
      "displayName": "Martien Pilots",
      "userId": "08389853870944120926"
     },
     "user_tz": -60
    },
    "id": "9mhBcLrMBaOq"
   },
   "outputs": [],
   "source": [
    "!mkdir /root/.kaggle"
   ]
  },
  {
   "cell_type": "code",
   "execution_count": null,
   "id": "vJBjVq7lHYjo",
   "metadata": {
    "executionInfo": {
     "elapsed": 548,
     "status": "ok",
     "timestamp": 1702318826773,
     "user": {
      "displayName": "Martien Pilots",
      "userId": "08389853870944120926"
     },
     "user_tz": -60
    },
    "id": "vJBjVq7lHYjo"
   },
   "outputs": [],
   "source": [
    "########################################\n",
    "########## Add kaggle API key ##########\n",
    "########################################\n",
    "\n",
    "!echo '{\"username\":\"\",\"key\":\"\"}' > ~/.kaggle/kaggle.json"
   ]
  },
  {
   "cell_type": "code",
   "execution_count": null,
   "id": "IEnUWbWxIBuA",
   "metadata": {
    "executionInfo": {
     "elapsed": 7,
     "status": "ok",
     "timestamp": 1702318829449,
     "user": {
      "displayName": "Martien Pilots",
      "userId": "08389853870944120926"
     },
     "user_tz": -60
    },
    "id": "IEnUWbWxIBuA"
   },
   "outputs": [],
   "source": [
    "!chmod 600 /root/.kaggle/kaggle.json"
   ]
  },
  {
   "cell_type": "code",
   "execution_count": null,
   "id": "IySzbFPFHZY9",
   "metadata": {
    "colab": {
     "base_uri": "https://localhost:8080/"
    },
    "executionInfo": {
     "elapsed": 4545,
     "status": "ok",
     "timestamp": 1702318771213,
     "user": {
      "displayName": "Martien Pilots",
      "userId": "08389853870944120926"
     },
     "user_tz": -60
    },
    "id": "IySzbFPFHZY9",
    "outputId": "827b6933-51c2-4c3e-828d-30fb0dbd873c"
   },
   "outputs": [],
   "source": [
    "!git clone https://github.com/TigerManon/drive-on-mars.git"
   ]
  },
  {
   "cell_type": "code",
   "execution_count": null,
   "id": "imC60Kq5Ho_E",
   "metadata": {
    "colab": {
     "base_uri": "https://localhost:8080/"
    },
    "executionInfo": {
     "elapsed": 541,
     "status": "ok",
     "timestamp": 1702318774279,
     "user": {
      "displayName": "Martien Pilots",
      "userId": "08389853870944120926"
     },
     "user_tz": -60
    },
    "id": "imC60Kq5Ho_E",
    "outputId": "9e640a5e-d7a8-42be-808b-7763aa50d083"
   },
   "outputs": [],
   "source": [
    "%cd drive-on-mars/\n",
    "%mkdir raw_data\n",
    "%cd raw_data"
   ]
  },
  {
   "cell_type": "code",
   "execution_count": null,
   "id": "rqG8nTFDH7KH",
   "metadata": {
    "colab": {
     "base_uri": "https://localhost:8080/"
    },
    "executionInfo": {
     "elapsed": 300663,
     "status": "ok",
     "timestamp": 1702319142049,
     "user": {
      "displayName": "Martien Pilots",
      "userId": "08389853870944120926"
     },
     "user_tz": -60
    },
    "id": "rqG8nTFDH7KH",
    "outputId": "8a48c5d7-3890-4c38-ece8-28d37345b47b"
   },
   "outputs": [],
   "source": [
    "!kaggle datasets download yash92328/ai4mars-terrainaware-autonomous-driving-on-mars"
   ]
  },
  {
   "cell_type": "code",
   "execution_count": null,
   "id": "AUQYfYqrI8bi",
   "metadata": {
    "executionInfo": {
     "elapsed": 52170,
     "status": "ok",
     "timestamp": 1702319201530,
     "user": {
      "displayName": "Martien Pilots",
      "userId": "08389853870944120926"
     },
     "user_tz": -60
    },
    "id": "AUQYfYqrI8bi"
   },
   "outputs": [],
   "source": [
    "!unzip -q ai4mars-terrainaware-autonomous-driving-on-mars.zip"
   ]
  },
  {
   "cell_type": "code",
   "execution_count": null,
   "id": "8kpvjc4oKjQn",
   "metadata": {
    "executionInfo": {
     "elapsed": 959,
     "status": "ok",
     "timestamp": 1702319209203,
     "user": {
      "displayName": "Martien Pilots",
      "userId": "08389853870944120926"
     },
     "user_tz": -60
    },
    "id": "8kpvjc4oKjQn"
   },
   "outputs": [],
   "source": [
    "!rm ai4mars-terrainaware-autonomous-driving-on-mars.zip"
   ]
  },
  {
   "cell_type": "code",
   "execution_count": null,
   "id": "0tgOdFRLK7Ni",
   "metadata": {
    "colab": {
     "base_uri": "https://localhost:8080/"
    },
    "executionInfo": {
     "elapsed": 425,
     "status": "ok",
     "timestamp": 1702319214301,
     "user": {
      "displayName": "Martien Pilots",
      "userId": "08389853870944120926"
     },
     "user_tz": -60
    },
    "id": "0tgOdFRLK7Ni",
    "outputId": "a75c0820-0ad5-4ae0-bd43-349fc8b1c172"
   },
   "outputs": [],
   "source": [
    "%cd ../"
   ]
  },
  {
   "cell_type": "code",
   "execution_count": null,
   "id": "afdGILbFVn3x",
   "metadata": {
    "colab": {
     "base_uri": "https://localhost:8080/"
    },
    "executionInfo": {
     "elapsed": 411,
     "status": "ok",
     "timestamp": 1702319216773,
     "user": {
      "displayName": "Martien Pilots",
      "userId": "08389853870944120926"
     },
     "user_tz": -60
    },
    "id": "afdGILbFVn3x",
    "outputId": "d2d9ddb5-d572-4595-f47b-a53557d13de6"
   },
   "outputs": [],
   "source": [
    "%ls"
   ]
  },
  {
   "cell_type": "markdown",
   "id": "mhQ0992mZs2b",
   "metadata": {
    "id": "mhQ0992mZs2b"
   },
   "source": [
    "## When reloading the notebook"
   ]
  },
  {
   "cell_type": "code",
   "execution_count": null,
   "id": "X7HDreGiblbv",
   "metadata": {
    "id": "X7HDreGiblbv"
   },
   "outputs": [],
   "source": [
    "%ls"
   ]
  },
  {
   "cell_type": "code",
   "execution_count": null,
   "id": "5mFI0TVpVorV",
   "metadata": {
    "colab": {
     "base_uri": "https://localhost:8080/",
     "height": 35
    },
    "executionInfo": {
     "elapsed": 831,
     "status": "ok",
     "timestamp": 1702049877490,
     "user": {
      "displayName": "Martien Pilots",
      "userId": "08389853870944120926"
     },
     "user_tz": -60
    },
    "id": "5mFI0TVpVorV",
    "outputId": "dc161bc8-fdd5-4bf7-8bb6-fccc410c9a68"
   },
   "outputs": [],
   "source": [
    "%pwd"
   ]
  },
  {
   "cell_type": "code",
   "execution_count": null,
   "id": "NBQHw-HXKu1F",
   "metadata": {
    "colab": {
     "base_uri": "https://localhost:8080/"
    },
    "executionInfo": {
     "elapsed": 8,
     "status": "ok",
     "timestamp": 1702049879743,
     "user": {
      "displayName": "Martien Pilots",
      "userId": "08389853870944120926"
     },
     "user_tz": -60
    },
    "id": "NBQHw-HXKu1F",
    "outputId": "4b0930cd-50fc-4773-a8d2-395a0a94666b"
   },
   "outputs": [],
   "source": [
    "%cd drive-on-mars/"
   ]
  },
  {
   "cell_type": "code",
   "execution_count": null,
   "id": "3--DYx45KvD4",
   "metadata": {
    "colab": {
     "base_uri": "https://localhost:8080/"
    },
    "executionInfo": {
     "elapsed": 328,
     "status": "ok",
     "timestamp": 1702053743295,
     "user": {
      "displayName": "Martien Pilots",
      "userId": "08389853870944120926"
     },
     "user_tz": -60
    },
    "id": "3--DYx45KvD4",
    "outputId": "efb9dd45-53d5-436c-a23f-2409b2475718"
   },
   "outputs": [],
   "source": []
  },
  {
   "cell_type": "markdown",
   "id": "30bac1b6",
   "metadata": {
    "id": "30bac1b6"
   },
   "source": [
    "\n"
   ]
  },
  {
   "cell_type": "markdown",
   "id": "9a8240c6",
   "metadata": {
    "id": "9a8240c6"
   },
   "source": [
    "# Loading Libraries\n"
   ]
  },
  {
   "cell_type": "code",
   "execution_count": null,
   "id": "b5a7176a",
   "metadata": {
    "colab": {
     "base_uri": "https://localhost:8080/"
    },
    "executionInfo": {
     "elapsed": 6797,
     "status": "ok",
     "timestamp": 1702319236298,
     "user": {
      "displayName": "Martien Pilots",
      "userId": "08389853870944120926"
     },
     "user_tz": -60
    },
    "id": "b5a7176a",
    "outputId": "229f6b24-2155-4229-f85a-1328cc74b698"
   },
   "outputs": [],
   "source": [
    "#!pip install git+https://github.com/qubvel/segmentation_models\n",
    "!pip install segmentation_models"
   ]
  },
  {
   "cell_type": "code",
   "execution_count": null,
   "id": "ee8694e0",
   "metadata": {
    "executionInfo": {
     "elapsed": 4531,
     "status": "ok",
     "timestamp": 1702319265538,
     "user": {
      "displayName": "Martien Pilots",
      "userId": "08389853870944120926"
     },
     "user_tz": -60
    },
    "id": "ee8694e0"
   },
   "outputs": [],
   "source": [
    "# Data Visualisation\n",
    "import numpy as np # linear algebra\n",
    "import pandas as pd # data processing, CSV file I/O (e.g. pd.read_csv)\n",
    "import math\n",
    "import os\n",
    "import matplotlib.pyplot as plt\n",
    "from PIL import Image\n",
    "import cv2\n",
    "from tqdm import tqdm\n",
    "\n",
    "\n",
    "from tensorflow.keras import callbacks\n",
    "from sklearn.model_selection import train_test_split\n"
   ]
  },
  {
   "cell_type": "code",
   "execution_count": null,
   "id": "3MODcth_MA6n",
   "metadata": {
    "colab": {
     "base_uri": "https://localhost:8080/"
    },
    "executionInfo": {
     "elapsed": 428,
     "status": "ok",
     "timestamp": 1702319269948,
     "user": {
      "displayName": "Martien Pilots",
      "userId": "08389853870944120926"
     },
     "user_tz": -60
    },
    "id": "3MODcth_MA6n",
    "outputId": "254014fc-4b7e-4f46-e2b3-f7d55a6590c0"
   },
   "outputs": [],
   "source": [
    "# Segmentation Models\n",
    "\n",
    "############# Alice #################\n",
    "# Had to add this to make sm work in colab\n",
    "import os\n",
    "os.environ[\"SM_FRAMEWORK\"] = \"tf.keras\"\n",
    "from tensorflow import keras\n",
    "import segmentation_models as sm\n",
    "#####################################\n",
    "\n",
    "import segmentation_models as sm\n",
    "from segmentation_models import Unet\n",
    "from segmentation_models import get_preprocessing\n",
    "from segmentation_models.losses import bce_jaccard_loss\n",
    "from segmentation_models.metrics import iou_score\n",
    "\n",
    "from tensorflow.keras.models import Model\n",
    "from tensorflow.keras.layers import Input, Conv2D, MaxPooling2D, UpSampling2D, concatenate, Conv2DTranspose, BatchNormalization, Dropout, Lambda\n",
    "from tensorflow.keras import backend as K\n",
    "from tensorflow.keras import layers\n",
    "from tensorflow.keras.applications.resnet50 import preprocess_input\n",
    "import tensorflow as tf\n"
   ]
  },
  {
   "cell_type": "code",
   "execution_count": null,
   "id": "oKNNi81Jt7R0",
   "metadata": {
    "id": "oKNNi81Jt7R0"
   },
   "outputs": [],
   "source": []
  },
  {
   "cell_type": "markdown",
   "id": "oCOOiasPt72W",
   "metadata": {
    "id": "oCOOiasPt72W"
   },
   "source": [
    "# DeepLabV3_ResNet50 Model Tuning\n"
   ]
  },
  {
   "cell_type": "markdown",
   "id": "m5EONsQ0M4-m",
   "metadata": {
    "id": "m5EONsQ0M4-m"
   },
   "source": [
    "## Data Generator for DeepLab_Res50_Model"
   ]
  },
  {
   "cell_type": "code",
   "execution_count": null,
   "id": "xo8xisn2fkNU",
   "metadata": {
    "id": "xo8xisn2fkNU"
   },
   "outputs": [],
   "source": [
    "# 0 - soil\n",
    "# 1 - bedrock\n",
    "# 2 - sand\n",
    "# 3 - big rock\n",
    "# 255 -> 4 - NULL (no label)"
   ]
  },
  {
   "cell_type": "code",
   "execution_count": null,
   "id": "ff590c9a",
   "metadata": {
    "executionInfo": {
     "elapsed": 4,
     "status": "ok",
     "timestamp": 1702319288403,
     "user": {
      "displayName": "Martien Pilots",
      "userId": "08389853870944120926"
     },
     "user_tz": -60
    },
    "id": "ff590c9a"
   },
   "outputs": [],
   "source": [
    "# Define a customized data generator\n",
    "class UnetDataGenerator(keras.utils.Sequence):\n",
    "    def __init__(self, image_folder, label_folder, input_shape, batch_size, num_classes, subfolder, split_percent, use_mask = False):\n",
    "        self.image_folder       = image_folder\n",
    "        self.label_folder       = label_folder\n",
    "        self.input_shape        = input_shape\n",
    "        self.batch_size         = batch_size\n",
    "        self.num_classes        = num_classes\n",
    "        self.subfolder          = subfolder\n",
    "        self.split_percent      = split_percent\n",
    "        self.path_df            = self.make_df()\n",
    "        self.split_df()\n",
    "        self.use_mask           = use_mask\n",
    "\n",
    "    def __len__(self):\n",
    "        print(\"Length of generator:\", len(self.path_df))\n",
    "        return math.ceil(len(self.path_df) / float(self.batch_size))    \n",
    "    \n",
    "    def make_df(self):      \n",
    "        img_list = [f for f in os.listdir(self.image_folder) if f.endswith('.JPG')]\n",
    "        lab_list = [f for f in os.listdir(self.label_folder) if f.endswith('.png')]\n",
    "\n",
    "        \n",
    "        path_df = pd.DataFrame(columns=[\"image_path\", \"label_path\", \"rover_mask_path\", \"range_mask_path\"])\n",
    "\n",
    "        for label_name in lab_list:\n",
    "            if self.subfolder in (\"train\", \"val\"):\n",
    "                image_name = label_name.replace('.png', '.JPG')\n",
    "                rover_mask_name = label_name.replace('EDR', 'MXY')  \n",
    "                range_mask_name = label_name.replace('EDR', 'RNG')  \n",
    "                \n",
    "            elif self.subfolder == 'test':\n",
    "                image_name = label_name.replace('_merged.png', '.JPG')\n",
    "                rover_mask_name = label_name.replace('_merged.png', '.png').replace('EDR', 'MXY')   \n",
    "                range_mask_name = label_name.replace('_merged.png', '.png').replace('EDR', 'RNG')  \n",
    "            \n",
    "            parent_folder = os.path.dirname(self.image_folder)\n",
    "            rover_mask_path = os.path.join(parent_folder,'mxy', rover_mask_name)\n",
    "            range_mask_path = os.path.join(parent_folder,'rng-30m', range_mask_name)\n",
    "\n",
    "            if image_name in img_list and os.path.exists(rover_mask_path) and os.path.exists(range_mask_path):\n",
    "                new_row = pd.DataFrame([{\n",
    "                \"image_path\": os.path.join(self.image_folder, image_name),\n",
    "                \"label_path\": os.path.join(self.label_folder, label_name),\n",
    "                \"rover_mask_path\": rover_mask_path,\n",
    "                \"range_mask_path\": range_mask_path\n",
    "                }])\n",
    "                path_df = pd.concat([path_df, new_row], ignore_index=True)\n",
    "        \n",
    "        return path_df\n",
    "\n",
    "  \n",
    "    \n",
    "    def split_df(self):\n",
    "        if self.subfolder in [\"train\",\"test\"]:\n",
    "            self.path_df = self.path_df.iloc[:int(len(self.path_df) * self.split_percent)]\n",
    "        elif self.subfolder == \"val\":\n",
    "            self.path_df = self.path_df.iloc[int(len(self.path_df) * self.split_percent):]\n",
    "    \n",
    "    \n",
    "    def __getitem__(self, index):\n",
    "        input_images  = []\n",
    "        output_targets = []\n",
    "\n",
    "        #-------------------------------#\n",
    "        #   Calculate start indice and end indice of the batch\n",
    "        #-------------------------------#  \n",
    "        start = index * self.batch_size\n",
    "        end = min((index + 1) * self.batch_size, len(self.path_df)) # Make sure that we can load all the data of the last batch\n",
    "\n",
    "        for i in range(start, end):  \n",
    "            \n",
    "            #-------------------------------#\n",
    "            #   Get image,label,rover mask and range mask path of each batch from path_df\n",
    "            #-------------------------------#                     \n",
    "            jpg = self.path_df.iloc[i][\"image_path\"]\n",
    "            png = self.path_df.iloc[i][\"label_path\"]\n",
    "            rover = self.path_df.iloc[i][\"rover_mask_path\"]\n",
    "            rng = self.path_df.iloc[i][\"range_mask_path\"]\n",
    "            \n",
    "            #-------------------------------#\n",
    "            #   Load both range and rover masks combined\n",
    "            #-------------------------------#           \n",
    "            rover_array = cv2.imread(rover)\n",
    "            rng_array = cv2.imread(rng)\n",
    "            # reversing mask to only keep the image out of the mask\n",
    "            mask_combined = (1-rover_array) * (1-rng_array)\n",
    "      \n",
    "            #-------------------------------#\n",
    "            #   Transform images and labels to numpy array, resize them\n",
    "            #   Set the background label to 4\n",
    "            #-------------------------------#\n",
    "\n",
    "            jpg = cv2.imread(jpg)\n",
    "            if self.use_mask:\n",
    "                jpg = jpg * mask_combined            \n",
    "            \n",
    "            png = cv2.imread(png,0)\n",
    "                \n",
    "            jpg = cv2.resize(jpg, dsize = (int(self.input_shape[0]), int(self.input_shape[1])))\n",
    "            png = cv2.resize(png, dsize = (int(self.input_shape[0]), int(self.input_shape[1])), \n",
    "                                      interpolation = cv2.INTER_NEAREST)\n",
    "\n",
    "            png[png == 255] = 4\n",
    "\n",
    "            #-------------------------------------------------------#\n",
    "            #   One hot encode the labels\n",
    "            #-------------------------------------------------------#\n",
    "                \n",
    "            seg_labels = np.eye(self.num_classes)[png.reshape([-1])]                \n",
    "            seg_labels = seg_labels.reshape((int(self.input_shape[0]), int(self.input_shape[1]), self.num_classes))\n",
    "\n",
    "            input_images.append(jpg)\n",
    "            output_targets.append(seg_labels)\n",
    "\n",
    "        input_images = np.asarray(input_images)\n",
    "        output_targets = np.array(output_targets)\n",
    "\n",
    "        \n",
    "        return input_images, output_targets\n"
   ]
  },
  {
   "cell_type": "code",
   "execution_count": null,
   "id": "0915797e",
   "metadata": {},
   "outputs": [],
   "source": [
    "# image and label directories paths in COLAB\n",
    "\n",
    "# image_folder = \"raw_data/ai4mars-dataset-merged-0.1/msl/images/edr\"\n",
    "# label_folder = \"raw_data/ai4mars-dataset-merged-0.1/msl/labels/train\""
   ]
  },
  {
   "cell_type": "code",
   "execution_count": null,
   "id": "oTLCwLbhMAab",
   "metadata": {
    "executionInfo": {
     "elapsed": 4,
     "status": "ok",
     "timestamp": 1702319299966,
     "user": {
      "displayName": "Martien Pilots",
      "userId": "08389853870944120926"
     },
     "user_tz": -60
    },
    "id": "oTLCwLbhMAab"
   },
   "outputs": [],
   "source": [
    "# image and label directories paths in LOCAL\n",
    "image_folder = \"/home/gargantua/code/TigerManon/08-Palette/ai4mars-dataset-merged-0.1/msl/images/edr\"\n",
    "label_folder = \"/home/gargantua/code/TigerManon/08-Palette/ai4mars-dataset-merged-0.1/msl/labels/train\""
   ]
  },
  {
   "cell_type": "code",
   "execution_count": null,
   "id": "9V9o6bwJL_uq",
   "metadata": {
    "executionInfo": {
     "elapsed": 6,
     "status": "ok",
     "timestamp": 1702319303366,
     "user": {
      "displayName": "Martien Pilots",
      "userId": "08389853870944120926"
     },
     "user_tz": -60
    },
    "id": "9V9o6bwJL_uq"
   },
   "outputs": [],
   "source": [
    "# Some inputs\n",
    "batch_size = 16\n",
    "num_classes = 5\n",
    "input_shape = (256,256,3)\n",
    "split_percent = 0.8\n",
    "height=input_shape[0]\n",
    "width=input_shape[1]\n",
    "channels=input_shape[2]"
   ]
  },
  {
   "cell_type": "code",
   "execution_count": null,
   "id": "xHkb5UWGNvrP",
   "metadata": {
    "colab": {
     "base_uri": "https://localhost:8080/"
    },
    "executionInfo": {
     "elapsed": 48750,
     "status": "ok",
     "timestamp": 1702319354342,
     "user": {
      "displayName": "Martien Pilots",
      "userId": "08389853870944120926"
     },
     "user_tz": -60
    },
    "id": "xHkb5UWGNvrP",
    "outputId": "98902d4f-2114-4268-cb49-ad80d4dc1639"
   },
   "outputs": [],
   "source": [
    "%%time\n",
    "# Train dataset generator and validation dataset generator\n",
    "traingen = UnetDataGenerator(image_folder,\n",
    "                             label_folder,\n",
    "                             input_shape,\n",
    "                             batch_size,\n",
    "                             num_classes,\n",
    "                             \"train\",\n",
    "                             split_percent,\n",
    "                            use_mask = True)\n",
    "\n",
    "valgen = UnetDataGenerator(image_folder,\n",
    "                           label_folder,\n",
    "                           input_shape,\n",
    "                           batch_size,\n",
    "                           num_classes,\n",
    "                           \"val\",\n",
    "                           split_percent,\n",
    "                          use_mask = True)"
   ]
  },
  {
   "cell_type": "markdown",
   "id": "drVc3yykuTb1",
   "metadata": {
    "id": "drVc3yykuTb1"
   },
   "source": [
    "## DeepLab_ResNet50 Model Initialization\n"
   ]
  },
  {
   "cell_type": "code",
   "execution_count": null,
   "id": "TSh1i0Z5NbQ_",
   "metadata": {
    "executionInfo": {
     "elapsed": 445,
     "status": "ok",
     "timestamp": 1702319386045,
     "user": {
      "displayName": "Martien Pilots",
      "userId": "08389853870944120926"
     },
     "user_tz": -60
    },
    "id": "TSh1i0Z5NbQ_"
   },
   "outputs": [],
   "source": [
    "NUM_CLASSES = 5\n",
    "IMAGE_SIZE = 256"
   ]
  },
  {
   "cell_type": "code",
   "execution_count": null,
   "id": "qL_Fau-JEe4g",
   "metadata": {
    "executionInfo": {
     "elapsed": 6,
     "status": "ok",
     "timestamp": 1702319389281,
     "user": {
      "displayName": "Martien Pilots",
      "userId": "08389853870944120926"
     },
     "user_tz": -60
    },
    "id": "qL_Fau-JEe4g"
   },
   "outputs": [],
   "source": [
    "def convolution_block(\n",
    "    block_input,\n",
    "    num_filters=256,\n",
    "    kernel_size=(3, 3),\n",
    "    dilation_rate=1,\n",
    "    padding=\"same\",\n",
    "    use_bias=False,\n",
    "):\n",
    "    x = layers.Conv2D(\n",
    "        num_filters,\n",
    "        kernel_size=kernel_size,\n",
    "        dilation_rate=dilation_rate,\n",
    "        padding=\"same\",\n",
    "        use_bias=use_bias,\n",
    "        kernel_initializer=keras.initializers.HeNormal(),\n",
    "    )(block_input)\n",
    "    x = layers.BatchNormalization()(x)\n",
    "    x = layers.Activation('relu')(x)\n",
    "    return x\n",
    "\n",
    "\n",
    "def DilatedSpatialPyramidPooling(dspp_input):\n",
    "    dims = dspp_input.shape\n",
    "    x = layers.AveragePooling2D(pool_size=(dims[-3], dims[-2]))(dspp_input)\n",
    "    x = convolution_block(x, kernel_size=1, use_bias=True)\n",
    "    out_pool = layers.UpSampling2D(\n",
    "        size=(dims[-3] // x.shape[1], dims[-2] // x.shape[2]),\n",
    "        interpolation=\"nearest\",\n",
    "    )(x)\n",
    "\n",
    "    out_1 = convolution_block(dspp_input, kernel_size=1, dilation_rate=1)\n",
    "    out_6 = convolution_block(dspp_input, kernel_size=3, dilation_rate=6)\n",
    "    out_12 = convolution_block(dspp_input, kernel_size=3, dilation_rate=12)\n",
    "    out_18 = convolution_block(dspp_input, kernel_size=3, dilation_rate=18)\n",
    "\n",
    "    x = layers.Concatenate(axis=-1)([out_pool, out_1, out_6, out_12, out_18])\n",
    "    output = convolution_block(x, kernel_size=1)\n",
    "    return output"
   ]
  },
  {
   "cell_type": "code",
   "execution_count": null,
   "id": "pUHNJ6yDEetM",
   "metadata": {
    "colab": {
     "base_uri": "https://localhost:8080/"
    },
    "executionInfo": {
     "elapsed": 12453,
     "status": "ok",
     "timestamp": 1702319406174,
     "user": {
      "displayName": "Martien Pilots",
      "userId": "08389853870944120926"
     },
     "user_tz": -60
    },
    "id": "pUHNJ6yDEetM",
    "outputId": "2914b0ae-e224-4b4b-d23b-0f14e7b8329d"
   },
   "outputs": [],
   "source": [
    "# Use a ResNet50 pretrained on ImageNet as the backbone model\n",
    "def DeeplabV3Plus(image_size, num_classes):\n",
    "    model_input = keras.Input(shape=(image_size, image_size, 3))\n",
    "    preprocessed = preprocess_input(model_input)\n",
    "    resnet50 = keras.applications.ResNet50(\n",
    "        weights=\"imagenet\", include_top=False, input_tensor=preprocessed\n",
    "    )\n",
    "\n",
    "    x = resnet50.get_layer(\"conv4_block6_2_relu\").output\n",
    "    x = DilatedSpatialPyramidPooling(x)\n",
    "\n",
    "    input_a = layers.UpSampling2D(\n",
    "        size=(image_size // 4 // x.shape[1], image_size // 4 // x.shape[2]),\n",
    "        interpolation=\"nearest\",\n",
    "    )(x)\n",
    "    input_b = resnet50.get_layer(\"conv2_block3_2_relu\").output\n",
    "    input_b = convolution_block(input_b, num_filters=48, kernel_size=1)\n",
    "\n",
    "    x = layers.Concatenate(axis=-1)([input_a, input_b])\n",
    "    x = convolution_block(x)\n",
    "    x = convolution_block(x)\n",
    "    x = layers.UpSampling2D(\n",
    "        size=(image_size // x.shape[1], image_size // x.shape[2]),\n",
    "        interpolation=\"nearest\",\n",
    "    )(x)\n",
    "    model_output = layers.Conv2D(num_classes, kernel_size=(1, 1), padding=\"same\")(x)\n",
    "    return keras.Model(inputs=model_input, outputs=model_output)\n",
    "\n",
    "\n",
    "deep_model = DeeplabV3Plus(image_size=IMAGE_SIZE, num_classes=NUM_CLASSES)\n",
    "deep_model.summary()"
   ]
  },
  {
   "cell_type": "code",
   "execution_count": null,
   "id": "W5nZNJH7Eehg",
   "metadata": {
    "executionInfo": {
     "elapsed": 411,
     "status": "ok",
     "timestamp": 1702319416016,
     "user": {
      "displayName": "Martien Pilots",
      "userId": "08389853870944120926"
     },
     "user_tz": -60
    },
    "id": "W5nZNJH7Eehg"
   },
   "outputs": [],
   "source": [
    "# loss: dice_loss\n",
    "categorical_focal_loss = CategoricalFocalLoss()\n",
    "dice_loss = DiceLoss()\n",
    "categorical_focal_dice_loss = categorical_focal_loss + dice_loss\n",
    "# categorical_focal_jaccard_loss = categorical_focal_loss + jaccard_loss\n",
    "# iou_score = IOUScore() (threshold: value to round predictions (use ``>`` comparison), if ``None`` prediction will not be round, as: metrics = [sm.metrics.IOUScore(threshold=0.5)])\n",
    "# class_indexes: Optional integer or list of integers, classes to consider, if ``None`` all classes are used.\n",
    "metrics=['accuracy', iou_score]\n",
    "\n",
    "deep_model.compile(\n",
    "    optimizer=keras.optimizers.Adam(learning_rate=0.0001),\n",
    "    loss=categorical_focal_dice_loss,\n",
    "    metrics=metrics,\n",
    ")"
   ]
  },
  {
   "cell_type": "markdown",
   "id": "StPoWijGAA4a",
   "metadata": {
    "id": "StPoWijGAA4a"
   },
   "source": [
    "## DeepLab_ResNet50 Model Training"
   ]
  },
  {
   "cell_type": "code",
   "execution_count": null,
   "id": "288daf46",
   "metadata": {
    "colab": {
     "base_uri": "https://localhost:8080/"
    },
    "executionInfo": {
     "elapsed": 2031981,
     "status": "ok",
     "timestamp": 1702321452534,
     "user": {
      "displayName": "Martien Pilots",
      "userId": "08389853870944120926"
     },
     "user_tz": -60
    },
    "id": "288daf46",
    "outputId": "645161aa-1602-45b3-e5d7-d75317ad4f4f"
   },
   "outputs": [],
   "source": [
    "%%time\n",
    "MODEL = \"DeepLab_Res50_ImageNet_img_256pix\"\n",
    "\n",
    "modelCheckpoint = callbacks.ModelCheckpoint(\"{}.h5\".format(MODEL),\n",
    "                                            monitor=\"val_iou_score\",\n",
    "                                            save_best_only = False)\n",
    "\n",
    "LR_reducer = callbacks.ReduceLROnPlateau(patience = 3,\n",
    "                                         monitor=\"val_iou_score\",\n",
    "                                         factor = 0.1,\n",
    "                                         min_lr = 0\n",
    "                                        )\n",
    "\n",
    "early_stopper = callbacks.EarlyStopping(patience = 5,\n",
    "                                        monitor=\"val_iou_score\",\n",
    "                                        restore_best_weights=True)\n",
    "\n",
    "\n",
    "\n",
    "deep_history = deep_model.fit(traingen,\n",
    "          validation_data=valgen,\n",
    "          epochs=100,\n",
    "          callbacks = [modelCheckpoint, LR_reducer, early_stopper],\n",
    "          verbose=1)\n"
   ]
  },
  {
   "cell_type": "code",
   "execution_count": null,
   "id": "J0NeXLQztNru",
   "metadata": {
    "colab": {
     "base_uri": "https://localhost:8080/"
    },
    "executionInfo": {
     "elapsed": 427,
     "status": "ok",
     "timestamp": 1702321610772,
     "user": {
      "displayName": "Martien Pilots",
      "userId": "08389853870944120926"
     },
     "user_tz": -60
    },
    "id": "J0NeXLQztNru",
    "outputId": "14e9235f-47d9-418b-9348-0b078fddb21c"
   },
   "outputs": [],
   "source": [
    "deep_history.history"
   ]
  },
  {
   "cell_type": "code",
   "execution_count": null,
   "id": "Wit3L9igZSg-",
   "metadata": {
    "id": "Wit3L9igZSg-"
   },
   "outputs": [],
   "source": [
    "def plot_history(deep_history, title='', axs=None, exp_name=\"\"):\n",
    "    if axs is not None:\n",
    "        ax1, ax2 = axs\n",
    "    else:\n",
    "        f, (ax1, ax2) = plt.subplots(1, 2, figsize=(12, 4))\n",
    "\n",
    "    if len(exp_name) > 0 and exp_name[0] != '_':\n",
    "        exp_name = '_' + exp_name\n",
    "    ax1.plot(deep_history.history['loss'], label = 'train' + exp_name)\n",
    "    ax1.plot(deep_history.history['val_loss'], label = 'val' + exp_name)\n",
    "    ax1.set_ylim(0., 2.2)\n",
    "    ax1.set_title('loss')\n",
    "    ax1.legend()\n",
    "\n",
    "    ax2.plot(deep_history.history['iou_score'], label='train iou'  + exp_name)\n",
    "    ax2.plot(deep_history.history['val_iou_score'], label='val iou'  + exp_name)\n",
    "    ax2.set_ylim(0, 0.7)\n",
    "    ax2.set_title('iou')\n",
    "    ax2.legend()\n",
    "    plt.show()\n",
    "\n",
    "plot_history(deep_history)"
   ]
  },
  {
   "cell_type": "markdown",
   "id": "aam7UtqMnzEv",
   "metadata": {
    "id": "aam7UtqMnzEv"
   },
   "source": [
    "## DeepLab_ResNet50 Model Saving"
   ]
  },
  {
   "cell_type": "code",
   "execution_count": null,
   "id": "Nk_EIR8HJIcm",
   "metadata": {
    "colab": {
     "base_uri": "https://localhost:8080/"
    },
    "executionInfo": {
     "elapsed": 438,
     "status": "ok",
     "timestamp": 1702313800885,
     "user": {
      "displayName": "Martien Pilots",
      "userId": "08389853870944120926"
     },
     "user_tz": -60
    },
    "id": "Nk_EIR8HJIcm",
    "outputId": "cd099d23-8266-45d8-ebfa-2a4beac1cbfe"
   },
   "outputs": [],
   "source": [
    "!mkdir raw_data/models\n",
    "!ls raw_data"
   ]
  },
  {
   "cell_type": "code",
   "execution_count": null,
   "id": "fhwtZHreJJYe",
   "metadata": {
    "id": "fhwtZHreJJYe"
   },
   "outputs": [],
   "source": [
    "deep_model.save(f'raw_data/models/{MODEL}.h5')"
   ]
  },
  {
   "cell_type": "code",
   "execution_count": null,
   "id": "ySdWAY_CJJcT",
   "metadata": {
    "colab": {
     "base_uri": "https://localhost:8080/"
    },
    "executionInfo": {
     "elapsed": 448,
     "status": "ok",
     "timestamp": 1702313810388,
     "user": {
      "displayName": "Martien Pilots",
      "userId": "08389853870944120926"
     },
     "user_tz": -60
    },
    "id": "ySdWAY_CJJcT",
    "outputId": "b31816cf-063c-493b-c3d5-7ffa590998ba"
   },
   "outputs": [],
   "source": [
    "!ls raw_data/models"
   ]
  },
  {
   "cell_type": "code",
   "execution_count": null,
   "id": "wLhyPugMJJfa",
   "metadata": {
    "id": "wLhyPugMJJfa"
   },
   "outputs": [],
   "source": [
    "\n",
    "%cp raw_data/models/DeepLab_Res50_ImageNet_img_256pix.h5 /content/drive/MyDrive/data/models"
   ]
  },
  {
   "cell_type": "markdown",
   "id": "vnXHkFx4oMur",
   "metadata": {
    "id": "vnXHkFx4oMur"
   },
   "source": [
    "## Training Records"
   ]
  },
  {
   "cell_type": "markdown",
   "id": "5IZo2zGNoLpi",
   "metadata": {
    "id": "5IZo2zGNoLpi"
   },
   "source": [
    "09/12/2023 23:34\n",
    "\n",
    "\n",
    "\n",
    "\n",
    "*   Model: unet_4deep_16in_256pix\n",
    "*   optimizer: 'adam', loss: sm.losses.bce_jaccard_loss, metrics: sm.metrics.\n",
    "    iou_score\n",
    "*   Trainable params: 1941173\n",
    "*   Data: 12851 train images; 3213 val images, loaded,preporcessed,splited by   \n",
    "      UnetDataGenerator\n",
    "*   Training: set up for 100 epochs, stopped at 6 epochs by early stopping,\n",
    "    Wall time: 29min 52s, GPU V100\n",
    "*   'loss': 0.5861780643463135,\n",
    "    'iou_score': 0.5779913663864136,\n",
    "    'val_loss':  0.5868656635284424],\n",
    "    'val_iou_score': 0.5775318145751953,\n",
    "    'lr': [0.001, 0.001, 0.001, 0.001, 0.000100000005, 0.000100000005]\n",
    "\n",
    "\n",
    "\n"
   ]
  },
  {
   "cell_type": "markdown",
   "id": "76eEshzNoLJE",
   "metadata": {
    "id": "76eEshzNoLJE"
   },
   "source": [
    "10/12/2023 03:34\n",
    "\n",
    "* Model: unet_4deep_16in_1024pix\n",
    "\n",
    "* optimizer: 'adam', loss: sm.losses.bce_jaccard_loss, metrics: sm.metrics.\n",
    "  iou_score\n",
    "* Trainable params: 1941173\n",
    "* Data: image and label size: 1024, 12851 train images; 3213 val images, loaded, preporcessed,splited by UnetDataGenerator\n",
    "* Training: set up for 100 epochs, stopped at 6 epochs by early stopping,        Wall time: 2h 8min 6s, GPU V100\n",
    "* 'loss':  0.6727234125137329, 'iou_score': 0.50568687915802, 'val_loss': 0.6704270839691162, 'val_iou_score': 0.5068952441215515, 'lr': [0.001, 0.001, 0.001, 0.001, 0.000100000005, 0.000100000005]\n",
    "\n",
    "\n"
   ]
  },
  {
   "cell_type": "markdown",
   "id": "8fa9PTyj1Uyg",
   "metadata": {
    "id": "8fa9PTyj1Uyg"
   },
   "source": [
    "10/12/2023 10:34\n",
    "\n",
    "* Model: unet_4deep_64in_256pix\n",
    "\n",
    "* optimizer: 'adam', loss: sm.losses.bce_jaccard_loss, metrics: sm.metrics. iou_score\n",
    "\n",
    "* Trainable params: 31032005\n",
    "\n",
    "* Data: image and label size: 256, 12851 train images; 3213 val images, loaded, preporcessed,splited by UnetDataGenerator\n",
    "\n",
    "* Training: set up for 100 epochs, stopped at 6 epochs by early stopping, Wall time: 29min 3s, GPU A100\n",
    "\n",
    "* 'loss': 0.5815900564193726, 'iou_score': 0.580341637134552, 'val_loss': 0.59281826019287112, 'val_iou_score': 0.5689619183540344, 'lr': [0.001, 0.001, 0.001, 0.001, 0.000100000005, 0.000100000005] Slightly overfitted"
   ]
  },
  {
   "cell_type": "markdown",
   "id": "C6pYocaNuETv",
   "metadata": {
    "id": "C6pYocaNuETv"
   },
   "source": [
    "10/12/2023 16:34\n",
    "\n",
    "* Model: Unet_ResBackBone_ImageNet_img_256pix\n",
    "\n",
    "* optimizer: 'adam', loss: sm.losses.bce_jaccard_loss, metrics: sm.metrics. iou_score\n",
    "\n",
    "* Total params: 24456734 (93.30 MB)\n",
    "Trainable params: 24439384 (93.23 MB)\n",
    "Non-trainable params: 17350 (67.77 KB)\n",
    "\n",
    "* Data: image and label size: 256, 12851 train images; 3213 val images, loaded, preporcessed,splited by UnetDataGenerator\n",
    "\n",
    "* Training: set up for 100 epochs, stopped at 6 epochs by early stopping, Wall time: 27min 3s, GPU A100\n",
    "\n",
    "* 'loss': 0.4621942937374115\n",
    " 'accuracy': 0.8795599341392517\n",
    " 'iou_score': 0.659989595413208\n",
    " 'val_loss': 0.48931652307510376\n",
    " 'val_accuracy':  0.8699352741241455\n",
    " 'val_iou_score': 0.6389757394790649\n",
    " 'lr': [0.001, 0.001, 0.001, 0.001, 0.000100000005, 0.000100000005]}\n"
   ]
  },
  {
   "cell_type": "markdown",
   "id": "kZsQpRbB6SoD",
   "metadata": {
    "id": "kZsQpRbB6SoD"
   },
   "source": [
    "10/12/2023 18:34\n",
    "\n",
    "* Model: Unet_ResBackBone_ImageNet_img_256pix\n",
    "\n",
    "* optimizer: 'adam', loss:'categorical_crossentropy', metrics: accuracy, iou_score\n",
    "\n",
    "* Total params: 24456734 (93.30 MB)\n",
    "Trainable params: 24439384 (93.23 MB)\n",
    "Non-trainable params: 17350 (67.77 KB)\n",
    "\n",
    "* Data: image and label size: 256, 12851 train images; 3213 val images, loaded, preporcessed,splited by UnetDataGenerator\n",
    "\n",
    "* Training: set up for 100 epochs, stopped at 6 epochs by early stopping, Wall time: 30min, GPU A100\n",
    "\n",
    "* 'loss': 0.28132763504981995\n",
    " 'accuracy': 0.8859129548072815\n",
    " 'iou_score': 0.5797572731971741\n",
    " 'val_loss': 0.31182384490966797\n",
    " 'val_accuracy':  0.8733996152877808\n",
    " 'val_iou_score': 0.5677776336669922\n",
    " 'lr': [0.001, 0.001, 0.001, 0.001, 0.000100000005, 0.000100000005]\n"
   ]
  },
  {
   "cell_type": "markdown",
   "id": "DYtVbwDTnpTx",
   "metadata": {
    "id": "DYtVbwDTnpTx"
   },
   "source": [
    "## History"
   ]
  },
  {
   "cell_type": "code",
   "execution_count": null,
   "id": "e3c97c47",
   "metadata": {
    "id": "e3c97c47",
    "outputId": "68d8639f-de31-40c7-d49b-897cf957c94b"
   },
   "outputs": [],
   "source": [
    "# %%time\n",
    "# es = callbacks.EarlyStopping(patience=2,restore_best_weights=True)\n",
    "# #modelCheckpoint = callbacks.ModelCheckpoint(\"{}.h5\".format('First_model'), monitor=\"val_loss\", verbose=0, save_best_only=False)\n",
    "\n",
    "\n",
    "# history = model.fit(X_train, y_train,\n",
    "#           batch_size=16,\n",
    "#           epochs=10,\n",
    "#           validation_split=0.3,\n",
    "#           callbacks=[es],\n",
    "#           verbose=1)\n"
   ]
  },
  {
   "cell_type": "code",
   "execution_count": null,
   "id": "49b9d4e6",
   "metadata": {
    "id": "49b9d4e6",
    "outputId": "24da3e96-0d4c-401c-e25f-356a0049d11a",
    "scrolled": true
   },
   "outputs": [],
   "source": [
    "# plot_history(history)"
   ]
  },
  {
   "cell_type": "code",
   "execution_count": null,
   "id": "cf753d99",
   "metadata": {
    "id": "cf753d99",
    "outputId": "5129fbc2-eb0f-45fc-9768-1bc95a831c85"
   },
   "outputs": [],
   "source": [
    "%%time\n",
    "es = callbacks.EarlyStopping(patience=2,restore_best_weights=True)\n",
    "#modelCheckpoint = callbacks.ModelCheckpoint(\"{}.h5\".format('First_model'), monitor=\"val_loss\", verbose=0, save_best_only=False)\n",
    "\n",
    "\n",
    "history = model.fit(X_train, y_train,\n",
    "          batch_size=16,\n",
    "          epochs=100,\n",
    "          validation_split=0.3,\n",
    "          callbacks=[es],\n",
    "          verbose=1)"
   ]
  },
  {
   "cell_type": "code",
   "execution_count": null,
   "id": "f45141db",
   "metadata": {
    "id": "f45141db",
    "outputId": "8b880e80-4ade-4eb9-f9e1-bfc957c2b498"
   },
   "outputs": [],
   "source": [
    "history.history"
   ]
  },
  {
   "cell_type": "code",
   "execution_count": null,
   "id": "38f884f6",
   "metadata": {
    "id": "38f884f6",
    "outputId": "6d3aabf8-7d00-42b7-dfb9-41b67f3f3385"
   },
   "outputs": [],
   "source": [
    "# def plot_history(history, title='', axs=None, exp_name=\"\"):\n",
    "#     if axs is not None:\n",
    "#         ax1, ax2 = axs\n",
    "#     else:\n",
    "#         f, (ax1, ax2) = plt.subplots(1, 2, figsize=(12, 4))\n",
    "\n",
    "#     if len(exp_name) > 0 and exp_name[0] != '_':\n",
    "#         exp_name = '_' + exp_name\n",
    "#     ax1.plot(history.history['loss'], label = 'train' + exp_name)\n",
    "#     ax1.plot(history.history['val_loss'], label = 'val' + exp_name)\n",
    "#     ax1.set_ylim(0., 2.2)\n",
    "#     ax1.set_title('loss')\n",
    "#     ax1.legend()\n",
    "\n",
    "#     ax2.plot(history.history['iou_score'], label='train iou'  + exp_name)\n",
    "#     ax2.plot(history.history['val_iou_score'], label='val iou'  + exp_name)\n",
    "#     ax2.set_ylim(0, 0.5)\n",
    "#     ax2.set_title('iou')\n",
    "#     ax2.legend()\n",
    "#     return (ax1, ax2)\n",
    "\n",
    "# plot_history(history)\n",
    "# plt.show"
   ]
  },
  {
   "cell_type": "code",
   "execution_count": null,
   "id": "5c1c8d87",
   "metadata": {
    "id": "5c1c8d87"
   },
   "outputs": [],
   "source": [
    "print(1)"
   ]
  }
 ],
 "metadata": {
  "accelerator": "GPU",
  "colab": {
   "collapsed_sections": [
    "mhQ0992mZs2b",
    "aam7UtqMnzEv",
    "vnXHkFx4oMur",
    "DYtVbwDTnpTx"
   ],
   "gpuType": "A100",
   "machine_shape": "hm",
   "provenance": []
  },
  "kernelspec": {
   "display_name": "Python 3",
   "name": "python3"
  },
  "language_info": {
   "codemirror_mode": {
    "name": "ipython",
    "version": 3
   },
   "file_extension": ".py",
   "mimetype": "text/x-python",
   "name": "python",
   "nbconvert_exporter": "python",
   "pygments_lexer": "ipython3",
   "version": "3.10.6"
  },
  "toc": {
   "base_numbering": 1,
   "nav_menu": {},
   "number_sections": true,
   "sideBar": true,
   "skip_h1_title": false,
   "title_cell": "Table of Contents",
   "title_sidebar": "Contents",
   "toc_cell": false,
   "toc_position": {},
   "toc_section_display": true,
   "toc_window_display": false
  }
 },
 "nbformat": 4,
 "nbformat_minor": 5
}
