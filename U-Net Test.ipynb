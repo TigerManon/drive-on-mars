{
 "cells": [
  {
   "cell_type": "code",
   "execution_count": 3,
   "id": "9c40d2d1",
   "metadata": {},
   "outputs": [
    {
     "name": "stdout",
     "output_type": "stream",
     "text": [
      "Collecting opencv-python\n",
      "  Downloading opencv_python-4.8.1.78-cp37-abi3-manylinux_2_17_x86_64.manylinux2014_x86_64.whl.metadata (19 kB)\n",
      "Requirement already satisfied: numpy>=1.21.2 in /home/valerio/.pyenv/versions/3.10.6/envs/lewagon/lib/python3.10/site-packages (from opencv-python) (1.23.4)\n",
      "Downloading opencv_python-4.8.1.78-cp37-abi3-manylinux_2_17_x86_64.manylinux2014_x86_64.whl (61.7 MB)\n",
      "\u001b[2K   \u001b[90m━━━━━━━━━━━━━━━━━━━━━━━━━━━━━━━━━━━━━━━━\u001b[0m \u001b[32m61.7/61.7 MB\u001b[0m \u001b[31m25.0 MB/s\u001b[0m eta \u001b[36m0:00:00\u001b[0m00:01\u001b[0m00:01\u001b[0m\n",
      "\u001b[?25hInstalling collected packages: opencv-python\n",
      "Successfully installed opencv-python-4.8.1.78\n"
     ]
    }
   ],
   "source": [
    "!pip install opencv-python"
   ]
  },
  {
   "cell_type": "code",
   "execution_count": 4,
   "id": "04fde1bd",
   "metadata": {},
   "outputs": [],
   "source": [
    "import numpy as np\n",
    "import pandas as pd\n",
    "import os\n",
    "import cv2\n",
    "import segmentation_models as sm\n",
    "from tensorflow.keras import callbacks\n",
    "from sklearn.model_selection import train_test_split\n",
    "\n",
    "from segmentation_models import Unet\n",
    "from segmentation_models import get_preprocessing\n",
    "from segmentation_models.losses import bce_jaccard_loss\n",
    "from segmentation_models.metrics import iou_score"
   ]
  },
  {
   "cell_type": "code",
   "execution_count": 15,
   "id": "6dec707d",
   "metadata": {},
   "outputs": [],
   "source": [
    "images = \"/home/valerio/code/ValerioCann/ai4mars-dataset-merged-0.1/msl/images\"\n",
    "tr_lab = \"/home/valerio/code/ValerioCann/ai4mars-dataset-merged-0.1/msl/labels/train\"\n",
    "#edr = '/home/valerio/code/ValerioCann/ai4mars-dataset-merged-0.1/msl/images/edr'\n",
    "edr = images + \"/edr\"\n",
    "mxy = images + \"/mxy\" # not required\n",
    "rng = images + \"/rng-30m\" # not required"
   ]
  },
  {
   "cell_type": "code",
   "execution_count": 16,
   "id": "84f1bd6c",
   "metadata": {},
   "outputs": [
    {
     "ename": "FileNotFoundError",
     "evalue": "[Errno 2] No such file or directory: '/home/valerio/code/ValerioCann/ai4mars-dataset-merged-0.1/msl/images/edr'",
     "output_type": "error",
     "traceback": [
      "\u001b[0;31m---------------------------------------------------------------------------\u001b[0m",
      "\u001b[0;31mFileNotFoundError\u001b[0m                         Traceback (most recent call last)",
      "Cell \u001b[0;32mIn [16], line 1\u001b[0m\n\u001b[0;32m----> 1\u001b[0m edr_files \u001b[38;5;241m=\u001b[39m \u001b[43mos\u001b[49m\u001b[38;5;241;43m.\u001b[39;49m\u001b[43mlistdir\u001b[49m\u001b[43m(\u001b[49m\u001b[43medr\u001b[49m\u001b[43m)\u001b[49m\n\u001b[1;32m      2\u001b[0m trlab_files \u001b[38;5;241m=\u001b[39m os\u001b[38;5;241m.\u001b[39mlistdir(tr_lab)\n\u001b[1;32m      4\u001b[0m X \u001b[38;5;241m=\u001b[39m []\n",
      "\u001b[0;31mFileNotFoundError\u001b[0m: [Errno 2] No such file or directory: '/home/valerio/code/ValerioCann/ai4mars-dataset-merged-0.1/msl/images/edr'"
     ]
    }
   ],
   "source": [
    "edr_files = os.listdir(edr)\n",
    "trlab_files = os.listdir(tr_lab)\n",
    "\n",
    "X = []\n",
    "y = []\n",
    "c = 0\n",
    "\n",
    "# preparing X and y\n",
    "for lab_name in trlab_files:\n",
    "    img_name = lab_name[:-4] + \".JPG\"\n",
    "    \n",
    "    if img_name in edr_files:\n",
    "        \n",
    "        img_path = os.path.join(edr, img_name)\n",
    "        img_arr = cv2.imread(img_path)\n",
    "        img_arr = cv2.resize(img_arr, dsize = (224, 224))\n",
    "        \n",
    "       \n",
    "        lab_path = os.path.join(tr_lab, lab_name)\n",
    "        lab_arr = cv2.imread(lab_path, 0)\n",
    "        lab_arr = cv2.resize(lab_arr, (224, 224), interpolation = cv2.INTER_NEAREST)\n",
    "        \n",
    "        X.append(img_arr)\n",
    "        y.append(lab_arr)\n",
    "        \n",
    "    c += 1\n",
    "    if c >= 1000:\n",
    "        break\n",
    "        \n",
    "X = np.asarray(X, dtype = np.float32) / 255.0\n",
    "y = np.array(y, dtype = np.uint8)\n",
    "\n",
    "\n",
    "# 0 - soil\n",
    "# 1 - bedrock\n",
    "# 2 - sand\n",
    "# 3 - big rock\n",
    "# 255 -> 4 - NULL (no label)\n",
    "\n",
    "\n",
    "# keeping integer values in labels will help us in segmentation task (UNet)\n",
    "y[y==255] = 4\n",
    "\n",
    "print(X.shape, y.shape)"
   ]
  },
  {
   "cell_type": "code",
   "execution_count": null,
   "id": "11c008c4",
   "metadata": {},
   "outputs": [],
   "source": [
    "X[255].shape"
   ]
  },
  {
   "cell_type": "code",
   "execution_count": null,
   "id": "7f553a63",
   "metadata": {},
   "outputs": [],
   "source": [
    "plt.imshow(X[255])"
   ]
  },
  {
   "cell_type": "code",
   "execution_count": null,
   "id": "f2c57e29",
   "metadata": {},
   "outputs": [],
   "source": [
    "print(np.unique(y[255]))\n",
    "\n",
    "plt.figure(figsize = (10, 10))\n",
    "\n",
    "plt.imshow(X[255])\n",
    "plt.imshow(y[255], alpha = 0.1)\n",
    "\n",
    "plt.show()"
   ]
  },
  {
   "cell_type": "code",
   "execution_count": null,
   "id": "78192330",
   "metadata": {},
   "outputs": [],
   "source": [
    "X_train, X_test, y_train, y_test = train_test_split(\n",
    "    X, y, test_size = 0.3, random_state = 42)"
   ]
  },
  {
   "cell_type": "code",
   "execution_count": null,
   "id": "5970fa66",
   "metadata": {},
   "outputs": [],
   "source": [
    "# Charger le modèle UNet avec l'encodeur ResNet50 pré-entraîné et des poids ImageNet\n",
    "model = sm.Unet('resnet50', encoder_weights='imagenet', classes=5, activation='softmax', input_shape=X[255].shape[-1])) # input_shape=(255, 255, 3)"
   ]
  },
  {
   "cell_type": "code",
   "execution_count": null,
   "id": "ef094bb1",
   "metadata": {},
   "outputs": [],
   "source": [
    "model.compile(optimizer='adam', loss=sm.losses.bce_jaccard_loss, metrics=[sm.metrics.iou_score])"
   ]
  },
  {
   "cell_type": "code",
   "execution_count": null,
   "id": "8493c3a6",
   "metadata": {},
   "outputs": [],
   "source": [
    "model.summary()"
   ]
  },
  {
   "cell_type": "code",
   "execution_count": null,
   "id": "06d06582",
   "metadata": {},
   "outputs": [],
   "source": [
    "es = callbacks.EarlyStopping(patience=2, restore_best_weights=True)\n",
    "\n",
    "history = model.fit(X_train, y_train,\n",
    "          batch_size=16,\n",
    "          epochs=3,\n",
    "          validation_split=0.3,\n",
    "          callbacks=[es],\n",
    "          verbose=0)   "
   ]
  },
  {
   "cell_type": "code",
   "execution_count": null,
   "id": "ff3cbef7",
   "metadata": {},
   "outputs": [],
   "source": [
    "def plot_history(history):\n",
    "    plt.plot(history.history['loss'])\n",
    "    plt.title('Train loss')\n",
    "    plt.ylabel('Loss')\n",
    "    plt.xlabel('Epoch')\n",
    "    plt.show()\n",
    "    \n",
    "plot_history(history)"
   ]
  },
  {
   "cell_type": "code",
   "execution_count": null,
   "id": "28e95059",
   "metadata": {},
   "outputs": [],
   "source": [
    "model.evaluate(X_test, y_test)"
   ]
  },
  {
   "cell_type": "code",
   "execution_count": null,
   "id": "41066856",
   "metadata": {},
   "outputs": [],
   "source": []
  }
 ],
 "metadata": {
  "kernelspec": {
   "display_name": "Python 3 (ipykernel)",
   "language": "python",
   "name": "python3"
  },
  "language_info": {
   "codemirror_mode": {
    "name": "ipython",
    "version": 3
   },
   "file_extension": ".py",
   "mimetype": "text/x-python",
   "name": "python",
   "nbconvert_exporter": "python",
   "pygments_lexer": "ipython3",
   "version": "3.10.6"
  },
  "toc": {
   "base_numbering": 1,
   "nav_menu": {},
   "number_sections": true,
   "sideBar": true,
   "skip_h1_title": false,
   "title_cell": "Table of Contents",
   "title_sidebar": "Contents",
   "toc_cell": false,
   "toc_position": {},
   "toc_section_display": true,
   "toc_window_display": false
  }
 },
 "nbformat": 4,
 "nbformat_minor": 5
}
