{
 "cells": [
  {
   "cell_type": "code",
   "execution_count": null,
   "id": "b9517ac7",
   "metadata": {},
   "outputs": [],
   "source": [
    "# Imports\n",
    "import os\n",
    "\n",
    "import numpy as np \n",
    "import pandas as pd \n",
    "import matplotlib.pyplot as plt\n",
    "%matplotlib inline"
   ]
  },
  {
   "cell_type": "markdown",
   "id": "499793c7",
   "metadata": {},
   "source": [
    "README\n",
    "\n",
    "# Drive on Mars\n",
    "\n",
    "![Mars rover](https://panoptes-uploads.zooniverse.org/production/project_attached_image/17243d9d-1258-4aa7-80f0-6e7b20e957c6.png)\n",
    "\n",
    "With this project we are attempting to improve the future of self driving vehicles on Mars.\n",
    "Current autonomous vehicles driving algorithms are trained for streets and roads, very different from the conditions on Mars. \n",
    "\n",
    "Our model will predict which kind of terrains lies ahead of a rover: from soil, sand, bedrock or big rocks. This informs a rover navigation on the best route to take. We will build an image segmentation classifier, with a trained model available online.\n",
    "\n",
    "\n",
    "\n",
    "# To work on this project:\n",
    "\n",
    "## Clone this repo\n",
    "`git clone  git@github.com:TigerManon/drive-on-mars.git`\n",
    "\n",
    "## Download the data from Kaggle\n",
    "\n",
    "[AI4MARS dataset](https://www.kaggle.com/datasets/yash92328/ai4mars-terrainaware-autonomous-driving-on-mars/data)\n",
    "\n",
    "\n",
    "```\n",
    "mv archive.zip <your-path-to-the-repo>/drive-on-mars/raw_data\n",
    "cd <your-path-to-the-repo>/drive-on-mars/raw_data\n",
    "unzip archive.zip\n",
    "rm archive.zip\n",
    "```"
   ]
  },
  {
   "cell_type": "markdown",
   "id": "2822ee14",
   "metadata": {},
   "source": [
    "# For our team\n",
    "\n",
    "Use the following commands\n",
    "\n",
    "`path-to-the-repo =  ~/code/TigerManon`\n",
    "\n",
    "```\n",
    "mv archive.zip ~/code/TigerManon/drive-on-mars/raw_data\n",
    "cd ~/code/TigerManon/drive-on-mars/raw_data\n",
    "unzip archive.zip\n",
    "rm archive.zip\n",
    "\n",
    "pip install requirements.txt\n",
    "```\n"
   ]
  },
  {
   "cell_type": "markdown",
   "id": "e5922bc7",
   "metadata": {},
   "source": [
    "## Defining paths"
   ]
  },
  {
   "cell_type": "code",
   "execution_count": null,
   "id": "60c7a5d9",
   "metadata": {},
   "outputs": [],
   "source": [
    "# Customize your path here\n",
    "root_path = '../'"
   ]
  },
  {
   "cell_type": "code",
   "execution_count": null,
   "id": "25328918",
   "metadata": {},
   "outputs": [],
   "source": [
    "DATA_PATH = os.path.join(root_path, 'raw_data', 'ai4mars-dataset-merged-0.1', 'msl')\n",
    "DATA_PATH"
   ]
  },
  {
   "cell_type": "code",
   "execution_count": null,
   "id": "7e4c45d8",
   "metadata": {},
   "outputs": [],
   "source": [
    "IMAGE_PATH = os.path.join(DATA_PATH, 'images', 'edr')\n",
    "MASK_PATH_TRAIN = os.path.join(DATA_PATH, 'labels', 'train')\n",
    "MASK_PATH_TEST3 = os.path.join(DATA_PATH, 'labels', 'test', 'masked-gold-min3-100agree')\n",
    "\n",
    "MASK_ROVER = os.path.join(DATA_PATH, 'images', 'mxy')\n",
    "RANGE_30M = os.path.join(DATA_PATH, 'images', 'rng-30m')"
   ]
  },
  {
   "cell_type": "code",
   "execution_count": null,
   "id": "5bc3cffd",
   "metadata": {},
   "outputs": [],
   "source": [
    "images = os.listdir(IMAGE_PATH)\n",
    "print(f\"Found {len(images)} images in {IMAGE_PATH}\")\n",
    "\n",
    "rover_masks = os.listdir(MASK_ROVER) \n",
    "print(f\"Found {len(rover_masks)} images in {MASK_ROVER}\")\n",
    "\n",
    "range_masks = os.listdir(RANGE_30M) \n",
    "print(f\"Found {len(range_masks)} images in {RANGE_30M}\")\n"
   ]
  },
  {
   "cell_type": "code",
   "execution_count": null,
   "id": "5efe826e",
   "metadata": {},
   "outputs": [],
   "source": [
    "color_channels = 1"
   ]
  },
  {
   "cell_type": "markdown",
   "id": "eeded094",
   "metadata": {},
   "source": [
    "### Opening an image"
   ]
  },
  {
   "cell_type": "markdown",
   "id": "993eb70c",
   "metadata": {},
   "source": [
    "#### matplotlib"
   ]
  },
  {
   "cell_type": "code",
   "execution_count": null,
   "id": "baf2a68b",
   "metadata": {},
   "outputs": [],
   "source": [
    "# Testing with first image\n",
    "test = 3\n",
    "imname = images[test].split('.')[0]\n",
    "imname"
   ]
  },
  {
   "cell_type": "code",
   "execution_count": null,
   "id": "57f0deee",
   "metadata": {},
   "outputs": [],
   "source": [
    "image_file = os.path.join(IMAGE_PATH,images[test])\n",
    "image_file"
   ]
  },
  {
   "cell_type": "code",
   "execution_count": null,
   "id": "38c7710b",
   "metadata": {
    "scrolled": false
   },
   "outputs": [],
   "source": [
    "from IPython.display import Image, display\n",
    "\n",
    "for i in [3]:\n",
    "    image_file = os.path.join(IMAGE_PATH,images[i])\n",
    "    display(Image(filename=image_file,width=400) )"
   ]
  },
  {
   "cell_type": "code",
   "execution_count": null,
   "id": "4a495f5e",
   "metadata": {
    "scrolled": true
   },
   "outputs": [],
   "source": [
    "image_arr = plt.imread(image_file)\n",
    "print(type(image_arr))\n",
    "print(image_arr.shape)\n",
    "print(max(image_arr.flatten()))\n",
    "image_arr"
   ]
  },
  {
   "cell_type": "markdown",
   "id": "0d0f4e64",
   "metadata": {},
   "source": [
    "#### cv2"
   ]
  },
  {
   "cell_type": "code",
   "execution_count": null,
   "id": "78d5168d",
   "metadata": {},
   "outputs": [],
   "source": [
    "import cv2"
   ]
  },
  {
   "cell_type": "code",
   "execution_count": null,
   "id": "99aee8be",
   "metadata": {},
   "outputs": [],
   "source": [
    "img_raw = cv2.imread(image_file)\n",
    "img = np.zeros((1024,1024))\n",
    "img[:,:] = img_raw[:,:,0]\n",
    "img"
   ]
  },
  {
   "cell_type": "code",
   "execution_count": null,
   "id": "3246a79f",
   "metadata": {},
   "outputs": [],
   "source": [
    "image_file"
   ]
  },
  {
   "cell_type": "code",
   "execution_count": null,
   "id": "c3cfd3b3",
   "metadata": {},
   "outputs": [],
   "source": []
  },
  {
   "cell_type": "code",
   "execution_count": null,
   "id": "325028a4",
   "metadata": {},
   "outputs": [],
   "source": [
    "plt.imshow(img,cmap='gray')"
   ]
  },
  {
   "cell_type": "markdown",
   "id": "f1426bc0",
   "metadata": {},
   "source": [
    "#### Masks"
   ]
  },
  {
   "cell_type": "code",
   "execution_count": null,
   "id": "b30a1185",
   "metadata": {},
   "outputs": [],
   "source": [
    "mask_file = os.path.join(MASK_ROVER, imname.replace(\"EDR\",\"MXY\") + \".png\")\n",
    "mask_file"
   ]
  },
  {
   "cell_type": "code",
   "execution_count": null,
   "id": "5502b010",
   "metadata": {},
   "outputs": [],
   "source": [
    "mask_raw = np.array(cv2.imread(mask_file))\n",
    "mask_raw\n",
    "mask = np.zeros((1024,1024))\n",
    "mask[:,:] = mask_raw[:,:,0]\n",
    "mask = 1-mask"
   ]
  },
  {
   "cell_type": "code",
   "execution_count": null,
   "id": "7079017b",
   "metadata": {},
   "outputs": [],
   "source": [
    "plt.imshow(mask,cmap='gray') \n",
    "plt.title;"
   ]
  },
  {
   "cell_type": "code",
   "execution_count": null,
   "id": "b392adb1",
   "metadata": {
    "scrolled": true
   },
   "outputs": [],
   "source": [
    "img_mask = img * mask\n",
    "plt.imshow(img_mask,cmap='gray') ;"
   ]
  },
  {
   "cell_type": "code",
   "execution_count": null,
   "id": "530ae121",
   "metadata": {},
   "outputs": [],
   "source": [
    "range_mask_file = os.path.join(RANGE_30M, imname.replace(\"EDR\",\"RNG\") + \".png\")\n",
    "range_mask_file\n"
   ]
  },
  {
   "cell_type": "code",
   "execution_count": null,
   "id": "b95aec14",
   "metadata": {},
   "outputs": [],
   "source": [
    "range_30m_raw = np.array(cv2.imread(range_mask_file))\n",
    "\n",
    "range_30m = np.zeros((1024,1024))\n",
    "range_30m[:,:] = range_30m_raw[:,:,0]\n",
    "range_30m = 1 - range_30m\n",
    "range_30m"
   ]
  },
  {
   "cell_type": "code",
   "execution_count": null,
   "id": "fa66b471",
   "metadata": {},
   "outputs": [],
   "source": [
    "plt.imshow(range_30m,cmap='gray') ;"
   ]
  },
  {
   "cell_type": "code",
   "execution_count": null,
   "id": "66d06e4e",
   "metadata": {
    "scrolled": true
   },
   "outputs": [],
   "source": [
    "img_mask = img * mask * range_30m\n",
    "plt.imshow(img_mask,cmap='gray') ;"
   ]
  },
  {
   "cell_type": "code",
   "execution_count": null,
   "id": "dda06625",
   "metadata": {},
   "outputs": [],
   "source": []
  }
 ],
 "metadata": {
  "kernelspec": {
   "display_name": "Python 3 (ipykernel)",
   "language": "python",
   "name": "python3"
  },
  "language_info": {
   "codemirror_mode": {
    "name": "ipython",
    "version": 3
   },
   "file_extension": ".py",
   "mimetype": "text/x-python",
   "name": "python",
   "nbconvert_exporter": "python",
   "pygments_lexer": "ipython3",
   "version": "3.10.6"
  },
  "toc": {
   "base_numbering": 1,
   "nav_menu": {},
   "number_sections": true,
   "sideBar": true,
   "skip_h1_title": false,
   "title_cell": "Table of Contents",
   "title_sidebar": "Contents",
   "toc_cell": false,
   "toc_position": {},
   "toc_section_display": true,
   "toc_window_display": false
  }
 },
 "nbformat": 4,
 "nbformat_minor": 5
}
